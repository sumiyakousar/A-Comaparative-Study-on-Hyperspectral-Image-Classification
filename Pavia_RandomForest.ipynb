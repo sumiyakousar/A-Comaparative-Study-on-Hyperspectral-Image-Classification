{
 "cells": [
  {
   "cell_type": "markdown",
   "metadata": {},
   "source": [
    "# Importing the modules"
   ]
  },
  {
   "cell_type": "code",
   "execution_count": 29,
   "metadata": {},
   "outputs": [],
   "source": [
    "import matplotlib.pyplot as plt\n",
    "import pandas as pd\n",
    "import numpy as np\n",
    "from sklearn.preprocessing import StandardScaler\n",
    "from sklearn.decomposition import PCA\n",
    "from sklearn.model_selection import train_test_split\n",
    "import os\n",
    "import scipy.io as sio"
   ]
  },
  {
   "cell_type": "code",
   "execution_count": 30,
   "metadata": {},
   "outputs": [],
   "source": [
    "import hvplot\n",
    "import hvplot.pandas\n",
    "pd.options.plotting.backend = 'hvplot'"
   ]
  },
  {
   "cell_type": "markdown",
   "metadata": {},
   "source": [
    "# Loading the dataset"
   ]
  },
  {
   "cell_type": "code",
   "execution_count": 31,
   "metadata": {},
   "outputs": [],
   "source": [
    "def loadPaviaUData():\n",
    "    data_path = os.path.join('F:\\main_project\\Datasets')\n",
    "    data = sio.loadmat(os.path.join(data_path, 'PaviaU.mat'))['paviaU']\n",
    "    labels = sio.loadmat(os.path.join(data_path, 'PaviaU_gt.mat'))['paviaU_gt']\n",
    "    \n",
    "    return data, labels"
   ]
  },
  {
   "cell_type": "code",
   "execution_count": 32,
   "metadata": {},
   "outputs": [],
   "source": [
    "Dataset, groundTruth=loadPaviaUData()"
   ]
  },
  {
   "cell_type": "markdown",
   "metadata": {},
   "source": [
    "# Extraction of pixels"
   ]
  },
  {
   "cell_type": "code",
   "execution_count": 33,
   "metadata": {},
   "outputs": [],
   "source": [
    "from tqdm import tqdm\n",
    "import pandas as pd\n",
    "def extract_pixels(dataset, ground_truth):\n",
    "    df = pd.DataFrame()\n",
    "    for i in tqdm(range(dataset.shape[2])):\n",
    "        df = pd.concat([df, pd.DataFrame(dataset[:, :, i].ravel())], axis=1)\n",
    "    df = pd.concat([df, pd.DataFrame(ground_truth.ravel())], axis=1)\n",
    "    df.columns = [f'band-{i}' for i in range(1, 1+dataset.shape[2])]+['class']\n",
    "    return df"
   ]
  },
  {
   "cell_type": "code",
   "execution_count": 34,
   "metadata": {},
   "outputs": [
    {
     "name": "stderr",
     "output_type": "stream",
     "text": [
      "100%|████████████████████████████████████████████████████████████████████████████████| 103/103 [00:04<00:00, 24.33it/s]\n"
     ]
    }
   ],
   "source": [
    "df = extract_pixels(Dataset, groundTruth)"
   ]
  },
  {
   "cell_type": "code",
   "execution_count": 35,
   "metadata": {},
   "outputs": [],
   "source": [
    "df.to_csv('Dataset.csv', index=False)"
   ]
  },
  {
   "cell_type": "code",
   "execution_count": 36,
   "metadata": {},
   "outputs": [],
   "source": [
    "df = pd.read_csv('Dataset.csv')"
   ]
  },
  {
   "cell_type": "code",
   "execution_count": 37,
   "metadata": {},
   "outputs": [
    {
     "data": {
      "text/html": [
       "<div>\n",
       "<style scoped>\n",
       "    .dataframe tbody tr th:only-of-type {\n",
       "        vertical-align: middle;\n",
       "    }\n",
       "\n",
       "    .dataframe tbody tr th {\n",
       "        vertical-align: top;\n",
       "    }\n",
       "\n",
       "    .dataframe thead th {\n",
       "        text-align: right;\n",
       "    }\n",
       "</style>\n",
       "<table border=\"1\" class=\"dataframe\">\n",
       "  <thead>\n",
       "    <tr style=\"text-align: right;\">\n",
       "      <th></th>\n",
       "      <th>band-1</th>\n",
       "      <th>band-2</th>\n",
       "      <th>band-3</th>\n",
       "      <th>band-4</th>\n",
       "      <th>band-5</th>\n",
       "      <th>band-6</th>\n",
       "      <th>band-7</th>\n",
       "      <th>band-8</th>\n",
       "      <th>band-9</th>\n",
       "      <th>band-10</th>\n",
       "      <th>...</th>\n",
       "      <th>band-95</th>\n",
       "      <th>band-96</th>\n",
       "      <th>band-97</th>\n",
       "      <th>band-98</th>\n",
       "      <th>band-99</th>\n",
       "      <th>band-100</th>\n",
       "      <th>band-101</th>\n",
       "      <th>band-102</th>\n",
       "      <th>band-103</th>\n",
       "      <th>class</th>\n",
       "    </tr>\n",
       "  </thead>\n",
       "  <tbody>\n",
       "    <tr>\n",
       "      <th>0</th>\n",
       "      <td>647</td>\n",
       "      <td>499</td>\n",
       "      <td>464</td>\n",
       "      <td>371</td>\n",
       "      <td>291</td>\n",
       "      <td>319</td>\n",
       "      <td>365</td>\n",
       "      <td>322</td>\n",
       "      <td>296</td>\n",
       "      <td>305</td>\n",
       "      <td>...</td>\n",
       "      <td>3416</td>\n",
       "      <td>3335</td>\n",
       "      <td>3256</td>\n",
       "      <td>3226</td>\n",
       "      <td>3205</td>\n",
       "      <td>3210</td>\n",
       "      <td>3221</td>\n",
       "      <td>3238</td>\n",
       "      <td>3250</td>\n",
       "      <td>0</td>\n",
       "    </tr>\n",
       "    <tr>\n",
       "      <th>1</th>\n",
       "      <td>604</td>\n",
       "      <td>546</td>\n",
       "      <td>527</td>\n",
       "      <td>455</td>\n",
       "      <td>378</td>\n",
       "      <td>377</td>\n",
       "      <td>336</td>\n",
       "      <td>314</td>\n",
       "      <td>324</td>\n",
       "      <td>329</td>\n",
       "      <td>...</td>\n",
       "      <td>2583</td>\n",
       "      <td>2538</td>\n",
       "      <td>2509</td>\n",
       "      <td>2511</td>\n",
       "      <td>2501</td>\n",
       "      <td>2468</td>\n",
       "      <td>2442</td>\n",
       "      <td>2464</td>\n",
       "      <td>2528</td>\n",
       "      <td>0</td>\n",
       "    </tr>\n",
       "    <tr>\n",
       "      <th>2</th>\n",
       "      <td>621</td>\n",
       "      <td>746</td>\n",
       "      <td>556</td>\n",
       "      <td>360</td>\n",
       "      <td>285</td>\n",
       "      <td>300</td>\n",
       "      <td>274</td>\n",
       "      <td>276</td>\n",
       "      <td>332</td>\n",
       "      <td>319</td>\n",
       "      <td>...</td>\n",
       "      <td>2288</td>\n",
       "      <td>2242</td>\n",
       "      <td>2193</td>\n",
       "      <td>2202</td>\n",
       "      <td>2225</td>\n",
       "      <td>2266</td>\n",
       "      <td>2308</td>\n",
       "      <td>2345</td>\n",
       "      <td>2361</td>\n",
       "      <td>0</td>\n",
       "    </tr>\n",
       "    <tr>\n",
       "      <th>3</th>\n",
       "      <td>637</td>\n",
       "      <td>592</td>\n",
       "      <td>482</td>\n",
       "      <td>556</td>\n",
       "      <td>508</td>\n",
       "      <td>284</td>\n",
       "      <td>178</td>\n",
       "      <td>198</td>\n",
       "      <td>193</td>\n",
       "      <td>224</td>\n",
       "      <td>...</td>\n",
       "      <td>2675</td>\n",
       "      <td>2609</td>\n",
       "      <td>2541</td>\n",
       "      <td>2551</td>\n",
       "      <td>2571</td>\n",
       "      <td>2569</td>\n",
       "      <td>2573</td>\n",
       "      <td>2620</td>\n",
       "      <td>2644</td>\n",
       "      <td>0</td>\n",
       "    </tr>\n",
       "    <tr>\n",
       "      <th>4</th>\n",
       "      <td>625</td>\n",
       "      <td>560</td>\n",
       "      <td>480</td>\n",
       "      <td>360</td>\n",
       "      <td>377</td>\n",
       "      <td>341</td>\n",
       "      <td>264</td>\n",
       "      <td>208</td>\n",
       "      <td>231</td>\n",
       "      <td>266</td>\n",
       "      <td>...</td>\n",
       "      <td>2392</td>\n",
       "      <td>2344</td>\n",
       "      <td>2289</td>\n",
       "      <td>2328</td>\n",
       "      <td>2415</td>\n",
       "      <td>2424</td>\n",
       "      <td>2386</td>\n",
       "      <td>2431</td>\n",
       "      <td>2456</td>\n",
       "      <td>0</td>\n",
       "    </tr>\n",
       "  </tbody>\n",
       "</table>\n",
       "<p>5 rows × 104 columns</p>\n",
       "</div>"
      ],
      "text/plain": [
       "   band-1  band-2  band-3  band-4  band-5  band-6  band-7  band-8  band-9  \\\n",
       "0     647     499     464     371     291     319     365     322     296   \n",
       "1     604     546     527     455     378     377     336     314     324   \n",
       "2     621     746     556     360     285     300     274     276     332   \n",
       "3     637     592     482     556     508     284     178     198     193   \n",
       "4     625     560     480     360     377     341     264     208     231   \n",
       "\n",
       "   band-10  ...  band-95  band-96  band-97  band-98  band-99  band-100  \\\n",
       "0      305  ...     3416     3335     3256     3226     3205      3210   \n",
       "1      329  ...     2583     2538     2509     2511     2501      2468   \n",
       "2      319  ...     2288     2242     2193     2202     2225      2266   \n",
       "3      224  ...     2675     2609     2541     2551     2571      2569   \n",
       "4      266  ...     2392     2344     2289     2328     2415      2424   \n",
       "\n",
       "   band-101  band-102  band-103  class  \n",
       "0      3221      3238      3250      0  \n",
       "1      2442      2464      2528      0  \n",
       "2      2308      2345      2361      0  \n",
       "3      2573      2620      2644      0  \n",
       "4      2386      2431      2456      0  \n",
       "\n",
       "[5 rows x 104 columns]"
      ]
     },
     "execution_count": 37,
     "metadata": {},
     "output_type": "execute_result"
    }
   ],
   "source": [
    "df.head()"
   ]
  },
  {
   "cell_type": "code",
   "execution_count": 38,
   "metadata": {},
   "outputs": [],
   "source": [
    "Dataset = df.iloc[:, :-1].values\n",
    "\n",
    "groundTruth = df.iloc[:, -1].values"
   ]
  },
  {
   "cell_type": "code",
   "execution_count": 39,
   "metadata": {},
   "outputs": [
    {
     "data": {
      "text/plain": [
       "((207400, 103), (207400,))"
      ]
     },
     "execution_count": 39,
     "metadata": {},
     "output_type": "execute_result"
    }
   ],
   "source": [
    "Dataset.shape, groundTruth.shape"
   ]
  },
  {
   "cell_type": "markdown",
   "metadata": {},
   "source": [
    "# Dimensionality Reduction"
   ]
  },
  {
   "cell_type": "code",
   "execution_count": 40,
   "metadata": {},
   "outputs": [],
   "source": [
    "pca = PCA(n_components = 70)\n",
    "\n",
    "principalComponents = pca.fit_transform(Dataset)\n",
    "\n",
    "ev=pca.explained_variance_ratio_"
   ]
  },
  {
   "cell_type": "markdown",
   "metadata": {},
   "source": [
    "# Splitting the dataset"
   ]
  },
  {
   "cell_type": "code",
   "execution_count": 41,
   "metadata": {},
   "outputs": [],
   "source": [
    "X_train, X_test, y_train, y_test, indices_train, indices_test  = train_test_split(principalComponents, groundTruth,  range(Dataset.shape[0]), \n",
    "                                                                                  test_size = 0.25, random_state = 11)"
   ]
  },
  {
   "cell_type": "code",
   "execution_count": 42,
   "metadata": {},
   "outputs": [
    {
     "data": {
      "text/plain": [
       "((155550, 70), (51850, 70))"
      ]
     },
     "execution_count": 42,
     "metadata": {},
     "output_type": "execute_result"
    }
   ],
   "source": [
    "X_train.shape, X_test.shape"
   ]
  },
  {
   "cell_type": "code",
   "execution_count": 43,
   "metadata": {},
   "outputs": [],
   "source": [
    "# Feature Scaling\n",
    "from sklearn.preprocessing import StandardScaler\n",
    "sc = StandardScaler()\n",
    "X_train = sc.fit_transform(X_train)\n",
    "X_test = sc.transform(X_test)"
   ]
  },
  {
   "cell_type": "markdown",
   "metadata": {},
   "source": [
    "# Applying Random Forest Classifier"
   ]
  },
  {
   "cell_type": "code",
   "execution_count": 44,
   "metadata": {},
   "outputs": [
    {
     "data": {
      "text/plain": [
       "RandomForestClassifier(bootstrap=True, ccp_alpha=0.0, class_weight=None,\n",
       "                       criterion='entropy', max_depth=None, max_features='auto',\n",
       "                       max_leaf_nodes=None, max_samples=None,\n",
       "                       min_impurity_decrease=0.0, min_impurity_split=None,\n",
       "                       min_samples_leaf=1, min_samples_split=2,\n",
       "                       min_weight_fraction_leaf=0.0, n_estimators=10,\n",
       "                       n_jobs=None, oob_score=False, random_state=0, verbose=0,\n",
       "                       warm_start=False)"
      ]
     },
     "execution_count": 44,
     "metadata": {},
     "output_type": "execute_result"
    }
   ],
   "source": [
    "# Fitting Random Forest Classification to the Training set\n",
    "from sklearn.ensemble import RandomForestClassifier\n",
    "classifier = RandomForestClassifier(n_estimators = 10, criterion = 'entropy', random_state = 0)\n",
    "classifier.fit(X_train, y_train)"
   ]
  },
  {
   "cell_type": "code",
   "execution_count": 45,
   "metadata": {},
   "outputs": [],
   "source": [
    "y_pred = classifier.predict(X_test)"
   ]
  },
  {
   "cell_type": "markdown",
   "metadata": {},
   "source": [
    "# Performance Evalution"
   ]
  },
  {
   "cell_type": "code",
   "execution_count": 46,
   "metadata": {},
   "outputs": [],
   "source": [
    "from sklearn.metrics import classification_report, confusion_matrix, cohen_kappa_score,accuracy_score"
   ]
  },
  {
   "cell_type": "code",
   "execution_count": 47,
   "metadata": {},
   "outputs": [],
   "source": [
    "classification=classification_report(y_test,y_pred)\n",
    "confusion=confusion_matrix(y_test, y_pred)\n",
    "kappa = cohen_kappa_score(y_test,y_pred)\n",
    "overall_accuracy=accuracy_score(y_test, y_pred)\n",
    "avgAcc=[]\n",
    "classArray=[]\n",
    "for c in range(len(confusion)):\n",
    "    recallSoc=confusion[c][c]/sum(confusion[c])\n",
    "    classArray+=[recallSoc]\n",
    "avgAcc.append(sum(classArray)/len(classArray))\n",
    "Average_accuracy=np.mean(avgAcc)"
   ]
  },
  {
   "cell_type": "code",
   "execution_count": 48,
   "metadata": {},
   "outputs": [
    {
     "name": "stdout",
     "output_type": "stream",
     "text": [
      "Classification_report:\n",
      "\n",
      "              precision    recall  f1-score   support\n",
      "\n",
      "           0       0.82      0.98      0.89     41146\n",
      "           1       0.50      0.08      0.13      1641\n",
      "           2       0.71      0.30      0.42      4640\n",
      "           3       0.54      0.09      0.15       534\n",
      "           4       0.59      0.06      0.11       759\n",
      "           5       0.82      0.81      0.82       355\n",
      "           6       0.62      0.03      0.05      1221\n",
      "           7       0.78      0.18      0.30       339\n",
      "           8       0.52      0.10      0.16       972\n",
      "           9       0.59      0.04      0.08       243\n",
      "\n",
      "    accuracy                           0.82     51850\n",
      "   macro avg       0.65      0.27      0.31     51850\n",
      "weighted avg       0.79      0.82      0.77     51850\n",
      "\n",
      "\n",
      "Confusion_matrix :\n",
      "\n",
      "[[40233   118   552    31    33    65    19    16    72     7]\n",
      " [ 1513   126     0     0     0     0     0     1     1     0]\n",
      " [ 3243     0  1395     0     1     0     1     0     0     0]\n",
      " [  474     0     0    47     0     0     0     0    13     0]\n",
      " [  709     0     2     0    48     0     0     0     0     0]\n",
      " [   66     0     0     0     0   289     0     0     0     0]\n",
      " [ 1167     0    21     0     0     0    33     0     0     0]\n",
      " [  268     9     0     0     0     0     0    62     0     0]\n",
      " [  870     0     0     9     0     0     0     0    93     0]\n",
      " [  233     0     0     0     0     0     0     0     0    10]]\n",
      "\n",
      "Kappa value : 0.26529289964804625\n",
      "\n",
      "Average_accuracy : 0.2667329477481373\n",
      "\n",
      "overall_Accuracy=0.8165091610414658\n"
     ]
    }
   ],
   "source": [
    "print('Classification_report:\\n')\n",
    "print('{}\\n'.format(classification))\n",
    "print('Confusion_matrix :\\n')\n",
    "print('{}\\n'.format(confusion))\n",
    "print('Kappa value : {}\\n'.format(kappa))\n",
    "print('Average_accuracy : {}\\n'.format(Average_accuracy))\n",
    "print('overall_Accuracy={}'.format(overall_accuracy))"
   ]
  },
  {
   "cell_type": "code",
   "execution_count": 49,
   "metadata": {},
   "outputs": [
    {
     "data": {
      "image/png": "[encoded data removed]",
      "text/plain": [
       "<Figure size 576x432 with 2 Axes>"
      ]
     },
     "metadata": {
      "needs_background": "light"
     },
     "output_type": "display_data"
    }
   ],
   "source": [
    "plt.figure(figsize=(8, 6))\n",
    "plt.imshow(df.iloc[:, -1].values.reshape((610, 340)), cmap='jet')\n",
    "plt.colorbar()\n",
    "plt.title('Classification Map of Ground Truth')\n",
    "plt.savefig('ground_truth.png')\n",
    "plt.show()"
   ]
  },
  {
   "cell_type": "code",
   "execution_count": 50,
   "metadata": {},
   "outputs": [
    {
     "name": "stderr",
     "output_type": "stream",
     "text": [
      "100%|██████████████████████████████████████████████████████████████████████| 155550/155550 [00:00<00:00, 983841.98it/s]\n",
      "100%|████████████████████████████████████████████████████████████████████████| 51850/51850 [00:00<00:00, 834383.93it/s]\n"
     ]
    }
   ],
   "source": [
    "from tqdm import tqdm\n",
    "pre = y_pred\n",
    "\n",
    "clmap = [0]*Dataset.shape[0]\n",
    "\n",
    "for i in tqdm(range(len(indices_train))):\n",
    "    clmap[indices_train[i]] = groundTruth[indices_train[i]]\n",
    "\n",
    "for i in tqdm(range(len(indices_test))):\n",
    "    clmap[indices_test[i]] = pre[i]"
   ]
  },
  {
   "cell_type": "code",
   "execution_count": 51,
   "metadata": {},
   "outputs": [
    {
     "data": {
      "image/png": "[encoded data removed]",
      "text/plain": [
       "<Figure size 576x432 with 2 Axes>"
      ]
     },
     "metadata": {
      "needs_background": "light"
     },
     "output_type": "display_data"
    }
   ],
   "source": [
    "plt.figure(figsize=(8, 6))\n",
    "plt.imshow(np.array(clmap).reshape((610, 340)), cmap='jet')\n",
    "plt.colorbar()\n",
    "plt.title('Predicted Classification Map by RandomForest')\n",
    "plt.savefig('Classification_map.png')\n",
    "plt.show()"
   ]
  },
  {
   "cell_type": "code",
   "execution_count": 52,
   "metadata": {},
   "outputs": [
    {
     "data": {
      "text/plain": [
       "band-1      207400\n",
       "band-2      207400\n",
       "band-3      207400\n",
       "band-4      207400\n",
       "band-5      207400\n",
       "             ...  \n",
       "band-100    207400\n",
       "band-101    207400\n",
       "band-102    207400\n",
       "band-103    207400\n",
       "class       207400\n",
       "Length: 104, dtype: int64"
      ]
     },
     "execution_count": 52,
     "metadata": {},
     "output_type": "execute_result"
    }
   ],
   "source": [
    "df.count()"
   ]
  },
  {
   "cell_type": "code",
   "execution_count": 53,
   "metadata": {},
   "outputs": [
    {
     "data": {
      "text/plain": [
       "0    164624\n",
       "2     18649\n",
       "1      6631\n",
       "6      5029\n",
       "8      3682\n",
       "4      3064\n",
       "3      2099\n",
       "5      1345\n",
       "7      1330\n",
       "9       947\n",
       "Name: class, dtype: int64"
      ]
     },
     "execution_count": 53,
     "metadata": {},
     "output_type": "execute_result"
    }
   ],
   "source": [
    "df.loc[:, 'class'].value_counts()"
   ]
  },
  {
   "cell_type": "code",
   "execution_count": 54,
   "metadata": {},
   "outputs": [
    {
     "data": {
      "text/html": [
       "<div>\n",
       "<style scoped>\n",
       "    .dataframe tbody tr th:only-of-type {\n",
       "        vertical-align: middle;\n",
       "    }\n",
       "\n",
       "    .dataframe tbody tr th {\n",
       "        vertical-align: top;\n",
       "    }\n",
       "\n",
       "    .dataframe thead th {\n",
       "        text-align: right;\n",
       "    }\n",
       "</style>\n",
       "<table border=\"1\" class=\"dataframe\">\n",
       "  <thead>\n",
       "    <tr style=\"text-align: right;\">\n",
       "      <th></th>\n",
       "      <th>band-1</th>\n",
       "      <th>band-2</th>\n",
       "      <th>band-3</th>\n",
       "      <th>band-4</th>\n",
       "      <th>band-5</th>\n",
       "      <th>band-6</th>\n",
       "      <th>band-7</th>\n",
       "      <th>band-8</th>\n",
       "      <th>band-9</th>\n",
       "      <th>band-10</th>\n",
       "      <th>...</th>\n",
       "      <th>band-95</th>\n",
       "      <th>band-96</th>\n",
       "      <th>band-97</th>\n",
       "      <th>band-98</th>\n",
       "      <th>band-99</th>\n",
       "      <th>band-100</th>\n",
       "      <th>band-101</th>\n",
       "      <th>band-102</th>\n",
       "      <th>band-103</th>\n",
       "      <th>class</th>\n",
       "    </tr>\n",
       "  </thead>\n",
       "  <tbody>\n",
       "    <tr>\n",
       "      <th>51815</th>\n",
       "      <td>700</td>\n",
       "      <td>758</td>\n",
       "      <td>804</td>\n",
       "      <td>700</td>\n",
       "      <td>612</td>\n",
       "      <td>615</td>\n",
       "      <td>640</td>\n",
       "      <td>653</td>\n",
       "      <td>686</td>\n",
       "      <td>693</td>\n",
       "      <td>...</td>\n",
       "      <td>463</td>\n",
       "      <td>493</td>\n",
       "      <td>534</td>\n",
       "      <td>558</td>\n",
       "      <td>542</td>\n",
       "      <td>545</td>\n",
       "      <td>553</td>\n",
       "      <td>511</td>\n",
       "      <td>480</td>\n",
       "      <td>9</td>\n",
       "    </tr>\n",
       "    <tr>\n",
       "      <th>51816</th>\n",
       "      <td>640</td>\n",
       "      <td>608</td>\n",
       "      <td>481</td>\n",
       "      <td>509</td>\n",
       "      <td>635</td>\n",
       "      <td>597</td>\n",
       "      <td>475</td>\n",
       "      <td>428</td>\n",
       "      <td>424</td>\n",
       "      <td>384</td>\n",
       "      <td>...</td>\n",
       "      <td>539</td>\n",
       "      <td>558</td>\n",
       "      <td>619</td>\n",
       "      <td>623</td>\n",
       "      <td>593</td>\n",
       "      <td>584</td>\n",
       "      <td>585</td>\n",
       "      <td>592</td>\n",
       "      <td>599</td>\n",
       "      <td>9</td>\n",
       "    </tr>\n",
       "    <tr>\n",
       "      <th>52154</th>\n",
       "      <td>977</td>\n",
       "      <td>706</td>\n",
       "      <td>523</td>\n",
       "      <td>327</td>\n",
       "      <td>307</td>\n",
       "      <td>403</td>\n",
       "      <td>387</td>\n",
       "      <td>346</td>\n",
       "      <td>404</td>\n",
       "      <td>442</td>\n",
       "      <td>...</td>\n",
       "      <td>500</td>\n",
       "      <td>511</td>\n",
       "      <td>551</td>\n",
       "      <td>558</td>\n",
       "      <td>580</td>\n",
       "      <td>592</td>\n",
       "      <td>600</td>\n",
       "      <td>584</td>\n",
       "      <td>578</td>\n",
       "      <td>9</td>\n",
       "    </tr>\n",
       "    <tr>\n",
       "      <th>52155</th>\n",
       "      <td>722</td>\n",
       "      <td>383</td>\n",
       "      <td>272</td>\n",
       "      <td>364</td>\n",
       "      <td>461</td>\n",
       "      <td>490</td>\n",
       "      <td>498</td>\n",
       "      <td>412</td>\n",
       "      <td>322</td>\n",
       "      <td>293</td>\n",
       "      <td>...</td>\n",
       "      <td>631</td>\n",
       "      <td>603</td>\n",
       "      <td>602</td>\n",
       "      <td>627</td>\n",
       "      <td>627</td>\n",
       "      <td>607</td>\n",
       "      <td>596</td>\n",
       "      <td>614</td>\n",
       "      <td>611</td>\n",
       "      <td>9</td>\n",
       "    </tr>\n",
       "    <tr>\n",
       "      <th>52156</th>\n",
       "      <td>515</td>\n",
       "      <td>207</td>\n",
       "      <td>254</td>\n",
       "      <td>479</td>\n",
       "      <td>571</td>\n",
       "      <td>420</td>\n",
       "      <td>365</td>\n",
       "      <td>380</td>\n",
       "      <td>342</td>\n",
       "      <td>336</td>\n",
       "      <td>...</td>\n",
       "      <td>670</td>\n",
       "      <td>663</td>\n",
       "      <td>654</td>\n",
       "      <td>683</td>\n",
       "      <td>712</td>\n",
       "      <td>724</td>\n",
       "      <td>725</td>\n",
       "      <td>704</td>\n",
       "      <td>647</td>\n",
       "      <td>9</td>\n",
       "    </tr>\n",
       "    <tr>\n",
       "      <th>...</th>\n",
       "      <td>...</td>\n",
       "      <td>...</td>\n",
       "      <td>...</td>\n",
       "      <td>...</td>\n",
       "      <td>...</td>\n",
       "      <td>...</td>\n",
       "      <td>...</td>\n",
       "      <td>...</td>\n",
       "      <td>...</td>\n",
       "      <td>...</td>\n",
       "      <td>...</td>\n",
       "      <td>...</td>\n",
       "      <td>...</td>\n",
       "      <td>...</td>\n",
       "      <td>...</td>\n",
       "      <td>...</td>\n",
       "      <td>...</td>\n",
       "      <td>...</td>\n",
       "      <td>...</td>\n",
       "      <td>...</td>\n",
       "      <td>...</td>\n",
       "    </tr>\n",
       "    <tr>\n",
       "      <th>168040</th>\n",
       "      <td>754</td>\n",
       "      <td>695</td>\n",
       "      <td>487</td>\n",
       "      <td>520</td>\n",
       "      <td>500</td>\n",
       "      <td>512</td>\n",
       "      <td>520</td>\n",
       "      <td>489</td>\n",
       "      <td>429</td>\n",
       "      <td>403</td>\n",
       "      <td>...</td>\n",
       "      <td>394</td>\n",
       "      <td>385</td>\n",
       "      <td>396</td>\n",
       "      <td>436</td>\n",
       "      <td>459</td>\n",
       "      <td>437</td>\n",
       "      <td>402</td>\n",
       "      <td>365</td>\n",
       "      <td>331</td>\n",
       "      <td>9</td>\n",
       "    </tr>\n",
       "    <tr>\n",
       "      <th>168377</th>\n",
       "      <td>1009</td>\n",
       "      <td>786</td>\n",
       "      <td>663</td>\n",
       "      <td>623</td>\n",
       "      <td>589</td>\n",
       "      <td>561</td>\n",
       "      <td>507</td>\n",
       "      <td>437</td>\n",
       "      <td>417</td>\n",
       "      <td>423</td>\n",
       "      <td>...</td>\n",
       "      <td>408</td>\n",
       "      <td>397</td>\n",
       "      <td>425</td>\n",
       "      <td>443</td>\n",
       "      <td>428</td>\n",
       "      <td>399</td>\n",
       "      <td>370</td>\n",
       "      <td>377</td>\n",
       "      <td>400</td>\n",
       "      <td>9</td>\n",
       "    </tr>\n",
       "    <tr>\n",
       "      <th>168378</th>\n",
       "      <td>695</td>\n",
       "      <td>789</td>\n",
       "      <td>646</td>\n",
       "      <td>547</td>\n",
       "      <td>507</td>\n",
       "      <td>517</td>\n",
       "      <td>495</td>\n",
       "      <td>447</td>\n",
       "      <td>441</td>\n",
       "      <td>482</td>\n",
       "      <td>...</td>\n",
       "      <td>428</td>\n",
       "      <td>410</td>\n",
       "      <td>419</td>\n",
       "      <td>457</td>\n",
       "      <td>439</td>\n",
       "      <td>437</td>\n",
       "      <td>461</td>\n",
       "      <td>445</td>\n",
       "      <td>432</td>\n",
       "      <td>9</td>\n",
       "    </tr>\n",
       "    <tr>\n",
       "      <th>168379</th>\n",
       "      <td>608</td>\n",
       "      <td>622</td>\n",
       "      <td>577</td>\n",
       "      <td>593</td>\n",
       "      <td>617</td>\n",
       "      <td>584</td>\n",
       "      <td>586</td>\n",
       "      <td>532</td>\n",
       "      <td>466</td>\n",
       "      <td>458</td>\n",
       "      <td>...</td>\n",
       "      <td>413</td>\n",
       "      <td>402</td>\n",
       "      <td>455</td>\n",
       "      <td>511</td>\n",
       "      <td>513</td>\n",
       "      <td>501</td>\n",
       "      <td>471</td>\n",
       "      <td>438</td>\n",
       "      <td>424</td>\n",
       "      <td>9</td>\n",
       "    </tr>\n",
       "    <tr>\n",
       "      <th>168717</th>\n",
       "      <td>1128</td>\n",
       "      <td>952</td>\n",
       "      <td>801</td>\n",
       "      <td>752</td>\n",
       "      <td>784</td>\n",
       "      <td>667</td>\n",
       "      <td>572</td>\n",
       "      <td>537</td>\n",
       "      <td>561</td>\n",
       "      <td>539</td>\n",
       "      <td>...</td>\n",
       "      <td>439</td>\n",
       "      <td>463</td>\n",
       "      <td>482</td>\n",
       "      <td>472</td>\n",
       "      <td>463</td>\n",
       "      <td>450</td>\n",
       "      <td>455</td>\n",
       "      <td>463</td>\n",
       "      <td>462</td>\n",
       "      <td>9</td>\n",
       "    </tr>\n",
       "  </tbody>\n",
       "</table>\n",
       "<p>947 rows × 104 columns</p>\n",
       "</div>"
      ],
      "text/plain": [
       "        band-1  band-2  band-3  band-4  band-5  band-6  band-7  band-8  \\\n",
       "51815      700     758     804     700     612     615     640     653   \n",
       "51816      640     608     481     509     635     597     475     428   \n",
       "52154      977     706     523     327     307     403     387     346   \n",
       "52155      722     383     272     364     461     490     498     412   \n",
       "52156      515     207     254     479     571     420     365     380   \n",
       "...        ...     ...     ...     ...     ...     ...     ...     ...   \n",
       "168040     754     695     487     520     500     512     520     489   \n",
       "168377    1009     786     663     623     589     561     507     437   \n",
       "168378     695     789     646     547     507     517     495     447   \n",
       "168379     608     622     577     593     617     584     586     532   \n",
       "168717    1128     952     801     752     784     667     572     537   \n",
       "\n",
       "        band-9  band-10  ...  band-95  band-96  band-97  band-98  band-99  \\\n",
       "51815      686      693  ...      463      493      534      558      542   \n",
       "51816      424      384  ...      539      558      619      623      593   \n",
       "52154      404      442  ...      500      511      551      558      580   \n",
       "52155      322      293  ...      631      603      602      627      627   \n",
       "52156      342      336  ...      670      663      654      683      712   \n",
       "...        ...      ...  ...      ...      ...      ...      ...      ...   \n",
       "168040     429      403  ...      394      385      396      436      459   \n",
       "168377     417      423  ...      408      397      425      443      428   \n",
       "168378     441      482  ...      428      410      419      457      439   \n",
       "168379     466      458  ...      413      402      455      511      513   \n",
       "168717     561      539  ...      439      463      482      472      463   \n",
       "\n",
       "        band-100  band-101  band-102  band-103  class  \n",
       "51815        545       553       511       480      9  \n",
       "51816        584       585       592       599      9  \n",
       "52154        592       600       584       578      9  \n",
       "52155        607       596       614       611      9  \n",
       "52156        724       725       704       647      9  \n",
       "...          ...       ...       ...       ...    ...  \n",
       "168040       437       402       365       331      9  \n",
       "168377       399       370       377       400      9  \n",
       "168378       437       461       445       432      9  \n",
       "168379       501       471       438       424      9  \n",
       "168717       450       455       463       462      9  \n",
       "\n",
       "[947 rows x 104 columns]"
      ]
     },
     "execution_count": 54,
     "metadata": {},
     "output_type": "execute_result"
    }
   ],
   "source": [
    "df[df['class']== 9][0:1000]"
   ]
  },
  {
   "cell_type": "code",
   "execution_count": 55,
   "metadata": {},
   "outputs": [],
   "source": [
    "def plot_signature(df):\n",
    "    plt.figure(figsize=(12, 6))\n",
    "    pixel_no = np.random.randint(df.shape[0])\n",
    "    plt.plot(range(1, 104), df.iloc[pixel_no, :-1].values.tolist(), 'b--', label= f'Class - {df.iloc[pixel_no, -1]}')\n",
    "    plt.legend()\n",
    "    plt.title(f'Pixel({pixel_no}) signature', fontsize=14)\n",
    "    plt.xlabel('Band Number', fontsize=14)\n",
    "    plt.ylabel('Pixel Intensity', fontsize=14)\n",
    "    plt.show()"
   ]
  },
  {
   "cell_type": "code",
   "execution_count": 56,
   "metadata": {},
   "outputs": [
    {
     "data": {
      "image/png": "[encoded data removed]",
      "text/plain": [
       "<Figure size 864x432 with 1 Axes>"
      ]
     },
     "metadata": {
      "needs_background": "light"
     },
     "output_type": "display_data"
    }
   ],
   "source": [
    "plot_signature(df)"
   ]
  },
  {
   "cell_type": "code",
   "execution_count": null,
   "metadata": {},
   "outputs": [],
   "source": []
  }
 ],
 "metadata": {
  "kernelspec": {
   "display_name": "Python 3",
   "language": "python",
   "name": "python3"
  },
  "language_info": {
   "codemirror_mode": {
    "name": "ipython",
    "version": 3
   },
   "file_extension": ".py",
   "mimetype": "text/x-python",
   "name": "python",
   "nbconvert_exporter": "python",
   "pygments_lexer": "ipython3",
   "version": "3.7.6"
  }
 },
 "nbformat": 4,
 "nbformat_minor": 2
}
