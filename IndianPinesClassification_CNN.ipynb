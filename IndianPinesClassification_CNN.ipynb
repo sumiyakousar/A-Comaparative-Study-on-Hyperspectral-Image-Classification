{
 "cells": [
  {
   "cell_type": "markdown",
   "metadata": {},
   "source": [
    "# Importing modules"
   ]
  },
  {
   "cell_type": "code",
   "execution_count": 1,
   "metadata": {},
   "outputs": [],
   "source": [
    "import numpy as np\n",
    "from sklearn.decomposition import PCA\n",
    "import scipy.io as sio\n",
    "from sklearn.model_selection import train_test_split\n",
    "from sklearn import preprocessing\n",
    "import os\n",
    "import random\n",
    "from random import shuffle\n",
    "from skimage.transform import rotate\n",
    "import scipy.ndimage"
   ]
  },
  {
   "cell_type": "markdown",
   "metadata": {},
   "source": [
    "# Loading the dataset"
   ]
  },
  {
   "cell_type": "code",
   "execution_count": 2,
   "metadata": {},
   "outputs": [],
   "source": [
    "def loadIndianPinesData():\n",
    "    data_path = os.path.join('F:\\main_project\\Datasets')\n",
    "    data = sio.loadmat(os.path.join(data_path, 'Indian_pines_corrected.mat'))['indian_pines_corrected']\n",
    "    labels = sio.loadmat(os.path.join(data_path, 'Indian_pines_gt.mat'))['indian_pines_gt']\n",
    "    \n",
    "    return data, labels"
   ]
  },
  {
   "cell_type": "markdown",
   "metadata": {},
   "source": [
    "# Spliting the dataset"
   ]
  },
  {
   "cell_type": "code",
   "execution_count": 3,
   "metadata": {},
   "outputs": [],
   "source": [
    "def splitTrainTestSet(X, y, testRatio=0.10):\n",
    "    X_train, X_test, y_train, y_test = train_test_split(X, y, test_size=testRatio, random_state=345,\n",
    "                                                        stratify=y)\n",
    "    return X_train, X_test, y_train, y_test"
   ]
  },
  {
   "cell_type": "code",
   "execution_count": 4,
   "metadata": {},
   "outputs": [],
   "source": [
    "def oversampleWeakClasses(X, y):\n",
    "    uniqueLabels, labelCounts = np.unique(y, return_counts=True)\n",
    "    maxCount = np.max(labelCounts)\n",
    "    labelInverseRatios = maxCount / labelCounts  \n",
    "    # repeat for every label and concat\n",
    "    newX = X[y == uniqueLabels[0], :, :, :].repeat(round(labelInverseRatios[0]), axis=0)\n",
    "    newY = y[y == uniqueLabels[0]].repeat(round(labelInverseRatios[0]), axis=0)\n",
    "    for label, labelInverseRatio in zip(uniqueLabels[1:], labelInverseRatios[1:]):\n",
    "        cX = X[y== label,:,:,:].repeat(round(labelInverseRatio), axis=0)\n",
    "        cY = y[y == label].repeat(round(labelInverseRatio), axis=0)\n",
    "        newX = np.concatenate((newX, cX))\n",
    "        newY = np.concatenate((newY, cY))\n",
    "    np.random.seed(seed=42)\n",
    "    rand_perm = np.random.permutation(newY.shape[0])\n",
    "    newX = newX[rand_perm, :, :, :]\n",
    "    newY = newY[rand_perm]\n",
    "    return newX, newY"
   ]
  },
  {
   "cell_type": "code",
   "execution_count": 5,
   "metadata": {},
   "outputs": [],
   "source": [
    "def applyPCA(X, numComponents=75):\n",
    "    newX = np.reshape(X, (-1, X.shape[2]))\n",
    "    pca = PCA(n_components=numComponents, whiten=True)\n",
    "    newX = pca.fit_transform(newX)\n",
    "    newX = np.reshape(newX, (X.shape[0],X.shape[1], numComponents))\n",
    "    return newX, pca"
   ]
  },
  {
   "cell_type": "code",
   "execution_count": 6,
   "metadata": {},
   "outputs": [],
   "source": [
    "def padWithZeros(X, margin=2):\n",
    "    newX = np.zeros((X.shape[0] + 2 * margin, X.shape[1] + 2* margin, X.shape[2]))\n",
    "    x_offset = margin\n",
    "    y_offset = margin\n",
    "    newX[x_offset:X.shape[0] + x_offset, y_offset:X.shape[1] + y_offset, :] = X\n",
    "    return newX"
   ]
  },
  {
   "cell_type": "code",
   "execution_count": 7,
   "metadata": {},
   "outputs": [],
   "source": [
    "def createPatches(X, y, windowSize=5, removeZeroLabels = True):\n",
    "    margin = int((windowSize - 1) / 2)\n",
    "    zeroPaddedX = padWithZeros(X, margin=margin)\n",
    "    # split patches\n",
    "    patchesData = np.zeros((X.shape[0] * X.shape[1], windowSize, windowSize, X.shape[2]))\n",
    "    patchesLabels = np.zeros((X.shape[0] * X.shape[1]))\n",
    "    patchIndex = 0\n",
    "    for r in range(margin, zeroPaddedX.shape[0] - margin):\n",
    "        for c in range(margin, zeroPaddedX.shape[1] - margin):\n",
    "            patch = zeroPaddedX[r - margin:r + margin + 1, c - margin:c + margin + 1]   \n",
    "            patchesData[patchIndex, :, :, :] = patch\n",
    "            patchesLabels[patchIndex] = y[r-margin, c-margin]\n",
    "            patchIndex = patchIndex + 1\n",
    "    if removeZeroLabels:\n",
    "        patchesData = patchesData[patchesLabels>0,:,:,:]\n",
    "        patchesLabels = patchesLabels[patchesLabels>0]\n",
    "        patchesLabels -= 1\n",
    "    return patchesData, patchesLabels\n"
   ]
  },
  {
   "cell_type": "code",
   "execution_count": 8,
   "metadata": {},
   "outputs": [],
   "source": [
    "def AugmentData(X_train):\n",
    "    for i in range(int(X_train.shape[0]/2)):\n",
    "        patch = X_train[i,:,:,:]\n",
    "        num = random.randint(0,2)\n",
    "        if (num == 0):\n",
    "            \n",
    "            flipped_patch = np.flipud(patch)\n",
    "        if (num == 1):\n",
    "            \n",
    "            flipped_patch = np.fliplr(patch)\n",
    "        if (num == 2):\n",
    "            \n",
    "            no = random.randrange(-180,180,30)\n",
    "            flipped_patch = scipy.ndimage.interpolation.rotate(patch, no,axes=(1, 0),\n",
    "                                                               reshape=False, output=None, order=3, mode='constant', cval=0.0, prefilter=False)\n",
    "    \n",
    "    \n",
    "    patch2 = flipped_patch\n",
    "    X_train[i,:,:,:] = patch2\n",
    "    \n",
    "    return X_train\n"
   ]
  },
  {
   "cell_type": "code",
   "execution_count": 9,
   "metadata": {},
   "outputs": [],
   "source": [
    "def savePreprocessedData(X_trainPatches, X_testPatches, y_trainPatches, y_testPatches, windowSize, wasPCAapplied = False, numPCAComponents = 0, testRatio = 0.25):\n",
    "    if wasPCAapplied:\n",
    "        with open(\"X_trainPatches_\" + str(windowSize) + \"PCA\" + str(numPCAComponents) + \"testRatio\" + str(testRatio) + \".npy\", 'bw') as outfile:\n",
    "            np.save(outfile, X_trainPatches)\n",
    "        with open(\"X_testPatches_\" + str(windowSize) + \"PCA\" + str(numPCAComponents) + \"testRatio\" + str(testRatio) + \".npy\", 'bw') as outfile:\n",
    "            np.save(outfile, X_testPatches)\n",
    "        with open(\"y_trainPatches_\" + str(windowSize) + \"PCA\" + str(numPCAComponents) + \"testRatio\" + str(testRatio) + \".npy\", 'bw') as outfile:\n",
    "            np.save(outfile, y_trainPatches)\n",
    "        with open(\"y_testPatches_\" + str(windowSize) + \"PCA\" + str(numPCAComponents) + \"testRatio\" + str(testRatio) + \".npy\", 'bw') as outfile:\n",
    "            np.save(outfile, y_testPatches)\n",
    "    else:\n",
    "        with open(\"../preprocessedData/XtrainWindowSize\" + str(windowSize) + \".npy\", 'bw') as outfile:\n",
    "            np.save(outfile, X_trainPatches)\n",
    "        with open(\"../preprocessedData/XtestWindowSize\" + str(windowSize) + \".npy\", 'bw') as outfile:\n",
    "            np.save(outfile, X_testPatches)\n",
    "        with open(\"../preprocessedData/ytrainWindowSize\" + str(windowSize) + \".npy\", 'bw') as outfile:\n",
    "            np.save(outfile, y_trainPatches)\n",
    "        with open(\"../preprocessedData/ytestWindowSize\" + str(windowSize) + \".npy\", 'bw') as outfile:\n",
    "            np.save(outfile, y_testPatches)"
   ]
  },
  {
   "cell_type": "code",
   "execution_count": 10,
   "metadata": {},
   "outputs": [],
   "source": [
    "myFile = open('global_variables.txt', 'r') \n",
    "file = myFile.readlines()[:]\n",
    "\n",
    "\n",
    "for line in file:\n",
    "\n",
    "    if line[0:3] == \"win\":\n",
    "\n",
    "        ds = line.find('=')\n",
    "        windowSize = int(line[ds+1:-1],10)\n",
    "\n",
    "    elif line[0:3] == \"num\":\n",
    "\n",
    "        ds = line.find('=')\n",
    "        numPCAcomponents = int(line[ds+2:-1],10)\n",
    "\n",
    "    else:\n",
    "\n",
    "        ds = line.find('=')\n",
    "        testRatio = float(line[ds+1:])"
   ]
  },
  {
   "cell_type": "code",
   "execution_count": 11,
   "metadata": {},
   "outputs": [],
   "source": [
    "Dataset, GroundTruth = loadIndianPinesData()"
   ]
  },
  {
   "cell_type": "code",
   "execution_count": 12,
   "metadata": {},
   "outputs": [],
   "source": [
    "Dataset,pca = applyPCA(Dataset,numPCAcomponents)"
   ]
  },
  {
   "cell_type": "code",
   "execution_count": 13,
   "metadata": {},
   "outputs": [],
   "source": [
    "XPatches, yPatches = createPatches(Dataset, GroundTruth, windowSize=windowSize)"
   ]
  },
  {
   "cell_type": "code",
   "execution_count": 14,
   "metadata": {},
   "outputs": [],
   "source": [
    "X_train, X_test, y_train, y_test = splitTrainTestSet(XPatches, yPatches, testRatio)"
   ]
  },
  {
   "cell_type": "code",
   "execution_count": 15,
   "metadata": {},
   "outputs": [],
   "source": [
    "X_train, y_train = oversampleWeakClasses(X_train, y_train)"
   ]
  },
  {
   "cell_type": "code",
   "execution_count": 16,
   "metadata": {},
   "outputs": [],
   "source": [
    "X_train = AugmentData(X_train)"
   ]
  },
  {
   "cell_type": "code",
   "execution_count": 17,
   "metadata": {},
   "outputs": [],
   "source": [
    "savePreprocessedData(X_train, X_test, y_train, y_test, windowSize = windowSize,wasPCAapplied=True, numPCAComponents = numPCAcomponents,testRatio = testRatio)"
   ]
  },
  {
   "cell_type": "code",
   "execution_count": 18,
   "metadata": {},
   "outputs": [
    {
     "name": "stderr",
     "output_type": "stream",
     "text": [
      "Using TensorFlow backend.\n"
     ]
    }
   ],
   "source": [
    "import numpy as np\n",
    "import scipy\n",
    "import os\n",
    "from keras.models import Sequential\n",
    "from keras.layers import Dense, Dropout, Flatten\n",
    "from keras.layers import Conv2D, MaxPooling2D\n",
    "from keras.optimizers import SGD\n",
    "from keras import backend as K\n",
    "K.common.set_image_dim_ordering('th')\n",
    "from keras.utils import np_utils\n",
    "#from sklearn.cross_validation import StratifiedKFold"
   ]
  },
  {
   "cell_type": "code",
   "execution_count": 19,
   "metadata": {},
   "outputs": [],
   "source": [
    "X_train = np.load(\"X_trainPatches_\" + str(windowSize) + \"PCA\" + str(numPCAcomponents) + \"testRatio\" + str(testRatio)  + \".npy\")\n",
    "\n",
    "y_train = np.load(\"y_trainPatches_\" + str(windowSize) + \"PCA\" + str(numPCAcomponents) + \"testRatio\" + str(testRatio) + \".npy\")"
   ]
  },
  {
   "cell_type": "code",
   "execution_count": 20,
   "metadata": {},
   "outputs": [],
   "source": [
    "X_train = np.reshape(X_train, (X_train.shape[0],X_train.shape[3], X_train.shape[1], X_train.shape[2]))"
   ]
  },
  {
   "cell_type": "code",
   "execution_count": 21,
   "metadata": {},
   "outputs": [],
   "source": [
    "# convert class labels to on-hot encoding\n",
    "y_train = np_utils.to_categorical(y_train)"
   ]
  },
  {
   "cell_type": "code",
   "execution_count": 22,
   "metadata": {},
   "outputs": [
    {
     "name": "stdout",
     "output_type": "stream",
     "text": [
      "(30, 7, 7)\n"
     ]
    }
   ],
   "source": [
    "input_shape= X_train[0].shape\n",
    "print(input_shape)"
   ]
  },
  {
   "cell_type": "code",
   "execution_count": 23,
   "metadata": {},
   "outputs": [],
   "source": [
    "# number of filters\n",
    "C1 = 3*numPCAcomponents"
   ]
  },
  {
   "cell_type": "code",
   "execution_count": 24,
   "metadata": {},
   "outputs": [],
   "source": [
    "# Define the model\n",
    "model = Sequential()\n",
    "\n",
    "model.add(Conv2D(C1, (3, 3), activation='relu', input_shape=input_shape))\n",
    "model.add(Conv2D(3*C1, (3, 3), activation='relu'))\n",
    "model.add(Dropout(0.25))\n",
    "\n",
    "\n",
    "\n",
    "model.add(Flatten())\n",
    "model.add(Dense(6*numPCAcomponents, activation='relu'))\n",
    "model.add(Dropout(0.5))\n",
    "model.add(Dense(16, activation='softmax'))"
   ]
  },
  {
   "cell_type": "code",
   "execution_count": 25,
   "metadata": {},
   "outputs": [],
   "source": [
    "sgd = SGD(lr=0.0001, decay=1e-6, momentum=0.9, nesterov=True)\n",
    "model.compile(loss='categorical_crossentropy', optimizer=sgd, metrics=['accuracy'])"
   ]
  },
  {
   "cell_type": "code",
   "execution_count": 26,
   "metadata": {},
   "outputs": [
    {
     "name": "stdout",
     "output_type": "stream",
     "text": [
      "Epoch 1/30\n",
      "29685/29685 [==============================] - 115s 4ms/step - loss: 2.0835 - accuracy: 0.4276\n",
      "Epoch 2/30\n",
      "29685/29685 [==============================] - 116s 4ms/step - loss: 1.0466 - accuracy: 0.7157\n",
      "Epoch 3/30\n",
      "29685/29685 [==============================] - 94s 3ms/step - loss: 0.7037 - accuracy: 0.7909\n",
      "Epoch 4/30\n",
      "29685/29685 [==============================] - 94s 3ms/step - loss: 0.5466 - accuracy: 0.8345\n",
      "Epoch 5/30\n",
      "29685/29685 [==============================] - 94s 3ms/step - loss: 0.4508 - accuracy: 0.8631\n",
      "Epoch 6/30\n",
      "29685/29685 [==============================] - 94s 3ms/step - loss: 0.3961 - accuracy: 0.8785\n",
      "Epoch 7/30\n",
      "29685/29685 [==============================] - 95s 3ms/step - loss: 0.3446 - accuracy: 0.8952\n",
      "Epoch 8/30\n",
      "29685/29685 [==============================] - 94s 3ms/step - loss: 0.3045 - accuracy: 0.9077\n",
      "Epoch 9/30\n",
      "29685/29685 [==============================] - 96s 3ms/step - loss: 0.2773 - accuracy: 0.9155\n",
      "Epoch 10/30\n",
      "29685/29685 [==============================] - 93s 3ms/step - loss: 0.2508 - accuracy: 0.9255\n",
      "Epoch 11/30\n",
      "29685/29685 [==============================] - 87s 3ms/step - loss: 0.2357 - accuracy: 0.9295\n",
      "Epoch 12/30\n",
      "29685/29685 [==============================] - 89s 3ms/step - loss: 0.2130 - accuracy: 0.9380\n",
      "Epoch 13/30\n",
      "29685/29685 [==============================] - 87s 3ms/step - loss: 0.2008 - accuracy: 0.9405\n",
      "Epoch 14/30\n",
      "29685/29685 [==============================] - 87s 3ms/step - loss: 0.1866 - accuracy: 0.9446\n",
      "Epoch 15/30\n",
      "29685/29685 [==============================] - 88s 3ms/step - loss: 0.1722 - accuracy: 0.9499\n",
      "Epoch 16/30\n",
      "29685/29685 [==============================] - 87s 3ms/step - loss: 0.1656 - accuracy: 0.9506\n",
      "Epoch 17/30\n",
      "29685/29685 [==============================] - 87s 3ms/step - loss: 0.1520 - accuracy: 0.9562\n",
      "Epoch 18/30\n",
      "29685/29685 [==============================] - 87s 3ms/step - loss: 0.1453 - accuracy: 0.9573\n",
      "Epoch 19/30\n",
      "29685/29685 [==============================] - 87s 3ms/step - loss: 0.1401 - accuracy: 0.9590\n",
      "Epoch 20/30\n",
      "29685/29685 [==============================] - 87s 3ms/step - loss: 0.1318 - accuracy: 0.9621\n",
      "Epoch 21/30\n",
      "29685/29685 [==============================] - 87s 3ms/step - loss: 0.1262 - accuracy: 0.9632\n",
      "Epoch 22/30\n",
      "29685/29685 [==============================] - 89s 3ms/step - loss: 0.1193 - accuracy: 0.9648 0s - loss: 0.1193 - accuracy: 0.96\n",
      "Epoch 23/30\n",
      "29685/29685 [==============================] - 88s 3ms/step - loss: 0.1120 - accuracy: 0.9679\n",
      "Epoch 24/30\n",
      "29685/29685 [==============================] - 94s 3ms/step - loss: 0.1096 - accuracy: 0.9675\n",
      "Epoch 25/30\n",
      "29685/29685 [==============================] - 94s 3ms/step - loss: 0.1043 - accuracy: 0.9700\n",
      "Epoch 26/30\n",
      "29685/29685 [==============================] - 95s 3ms/step - loss: 0.0992 - accuracy: 0.9724\n",
      "Epoch 27/30\n",
      "29685/29685 [==============================] - 94s 3ms/step - loss: 0.0945 - accuracy: 0.9738\n",
      "Epoch 28/30\n",
      "29685/29685 [==============================] - 94s 3ms/step - loss: 0.0932 - accuracy: 0.9731\n",
      "Epoch 29/30\n",
      "29685/29685 [==============================] - 94s 3ms/step - loss: 0.0876 - accuracy: 0.9755\n",
      "Epoch 30/30\n",
      "29685/29685 [==============================] - 90s 3ms/step - loss: 0.0842 - accuracy: 0.9757\n"
     ]
    },
    {
     "data": {
      "text/plain": [
       "<keras.callbacks.callbacks.History at 0x29507bd0c88>"
      ]
     },
     "execution_count": 26,
     "metadata": {},
     "output_type": "execute_result"
    }
   ],
   "source": [
    "model.fit(X_train, y_train, batch_size=32, epochs=30)"
   ]
  },
  {
   "cell_type": "code",
   "execution_count": 27,
   "metadata": {},
   "outputs": [],
   "source": [
    "import h5py\n",
    "from keras.models import load_model"
   ]
  },
  {
   "cell_type": "code",
   "execution_count": 28,
   "metadata": {},
   "outputs": [],
   "source": [
    "model.save('my_model' + str(windowSize) + 'PCA' + str(numPCAcomponents) + \"testRatio\" + str(testRatio) + '.h5')"
   ]
  },
  {
   "cell_type": "code",
   "execution_count": 29,
   "metadata": {},
   "outputs": [],
   "source": [
    "# Import the necessary libraries\n",
    "from keras.models import load_model\n",
    "from keras.utils import np_utils\n",
    "from sklearn.metrics import classification_report, confusion_matrix, cohen_kappa_score\n",
    "import itertools\n",
    "import spectral\n",
    "import matplotlib\n",
    "%matplotlib inline"
   ]
  },
  {
   "cell_type": "code",
   "execution_count": 30,
   "metadata": {},
   "outputs": [],
   "source": [
    "\n",
    "def reports (X_test,y_test):\n",
    "    Y_pred = model.predict(X_test)\n",
    "    y_pred = np.argmax(Y_pred, axis=1)\n",
    "    target_names = ['Alfalfa', 'Corn-notill', 'Corn-mintill', 'Corn'\n",
    "               ,'Grass-pasture', 'Grass-trees', 'Grass-pasture-mowed', \n",
    "                'Hay-windrowed', 'Oats', 'Soybean-notill', 'Soybean-mintill',\n",
    "               'Soybean-clean', 'Wheat', 'Woods', 'Buildings-Grass-Trees-Drives',\n",
    "               'Stone-Steel-Towers']\n",
    "\n",
    "    classification = classification_report(np.argmax(y_test, axis=1), y_pred, target_names=target_names)\n",
    "    confusion = confusion_matrix(np.argmax(y_test, axis=1), y_pred)\n",
    "    avgAcc=[]\n",
    "    classArray=[]\n",
    "    for c in range(len(confusion)):\n",
    "        recallSoc=confusion[c][c]/sum(confusion[c])\n",
    "        classArray+=[recallSoc]\n",
    "    avgAcc.append(sum(classArray)/len(classArray))\n",
    "    avg_accuracy=np.mean(avgAcc)\n",
    "    kappa = cohen_kappa_score(np.argmax(y_test, axis=1), y_pred)\n",
    "    overall_loss, overall_accu = model.evaluate(X_test, y_test, verbose=False)\n",
    "    \n",
    "    \n",
    "    return classification, confusion,kappa,avg_accuracy,overall_accu\n"
   ]
  },
  {
   "cell_type": "code",
   "execution_count": 31,
   "metadata": {},
   "outputs": [],
   "source": [
    "def Patch(data,height_index,width_index):\n",
    "    #transpose_array = data.transpose((2,0,1))\n",
    "    #print transpose_array.shape\n",
    "    height_slice = slice(height_index, height_index+PATCH_SIZE)\n",
    "    width_slice = slice(width_index, width_index+PATCH_SIZE)\n",
    "    patch = data[height_slice, width_slice, :]\n",
    "    return patch"
   ]
  },
  {
   "cell_type": "code",
   "execution_count": 32,
   "metadata": {},
   "outputs": [],
   "source": [
    "X_test  = np.reshape(X_test, (X_test.shape[0], X_test.shape[3], X_test.shape[1], X_test.shape[2]))\n",
    "y_test = np_utils.to_categorical(y_test)"
   ]
  },
  {
   "cell_type": "code",
   "execution_count": 33,
   "metadata": {},
   "outputs": [],
   "source": [
    "# load the model architecture and weights\n",
    "model = load_model('my_model' + str(windowSize) + 'PCA' + str(numPCAcomponents) + \"testRatio\" + str(testRatio) + '.h5')"
   ]
  },
  {
   "cell_type": "code",
   "execution_count": 34,
   "metadata": {},
   "outputs": [
    {
     "name": "stdout",
     "output_type": "stream",
     "text": [
      "Classification_report:\n",
      "\n",
      "                              precision    recall  f1-score   support\n",
      "\n",
      "                     Alfalfa       1.00      1.00      1.00        11\n",
      "                 Corn-notill       0.90      0.90      0.90       357\n",
      "                Corn-mintill       0.96      0.97      0.96       208\n",
      "                        Corn       0.95      0.98      0.97        59\n",
      "               Grass-pasture       0.99      0.97      0.98       121\n",
      "                 Grass-trees       1.00      1.00      1.00       183\n",
      "         Grass-pasture-mowed       1.00      1.00      1.00         7\n",
      "               Hay-windrowed       1.00      1.00      1.00       120\n",
      "                        Oats       1.00      1.00      1.00         5\n",
      "              Soybean-notill       0.89      0.92      0.91       243\n",
      "             Soybean-mintill       0.94      0.93      0.93       614\n",
      "               Soybean-clean       0.96      0.95      0.96       148\n",
      "                       Wheat       1.00      1.00      1.00        51\n",
      "                       Woods       1.00      0.99      1.00       316\n",
      "Buildings-Grass-Trees-Drives       0.94      0.99      0.96        97\n",
      "          Stone-Steel-Towers       1.00      1.00      1.00        23\n",
      "\n",
      "                    accuracy                           0.95      2563\n",
      "                   macro avg       0.97      0.98      0.97      2563\n",
      "                weighted avg       0.95      0.95      0.95      2563\n",
      "\n",
      "\n",
      "Confusion_matrix :\n",
      "\n",
      "[[ 11   0   0   0   0   0   0   0   0   0   0   0   0   0   0   0]\n",
      " [  0 322   5   0   0   0   0   0   0   9  19   2   0   0   0   0]\n",
      " [  0   4 201   2   0   0   0   0   0   0   1   0   0   0   0   0]\n",
      " [  0   0   1  58   0   0   0   0   0   0   0   0   0   0   0   0]\n",
      " [  0   0   1   0 117   0   0   0   0   0   0   1   0   0   2   0]\n",
      " [  0   0   0   0   0 183   0   0   0   0   0   0   0   0   0   0]\n",
      " [  0   0   0   0   0   0   7   0   0   0   0   0   0   0   0   0]\n",
      " [  0   0   0   0   0   0   0 120   0   0   0   0   0   0   0   0]\n",
      " [  0   0   0   0   0   0   0   0   5   0   0   0   0   0   0   0]\n",
      " [  0   2   0   0   0   0   0   0   0 224  14   2   0   1   0   0]\n",
      " [  0  24   1   0   0   0   0   0   0  18 568   1   0   0   2   0]\n",
      " [  0   4   1   0   1   0   0   0   0   0   1 141   0   0   0   0]\n",
      " [  0   0   0   0   0   0   0   0   0   0   0   0  51   0   0   0]\n",
      " [  0   0   0   0   0   0   0   0   0   0   0   0   0 314   2   0]\n",
      " [  0   0   0   1   0   0   0   0   0   0   0   0   0   0  96   0]\n",
      " [  0   0   0   0   0   0   0   0   0   0   0   0   0   0   0  23]]\n",
      "\n",
      "Kappa value : 0.9457771289932632\n",
      "\n",
      "Overall accuracy : 0.9750785236012005\n",
      "\n",
      "Average_accuracy : 0.9523995518684387\n",
      "\n"
     ]
    }
   ],
   "source": [
    "# Using the pretrained model make predictions and print the results into a report\n",
    "classification, confusion,  kappa, overall_accuracy, Average_accuracy = reports(X_test,y_test)\n",
    "print('Classification_report:\\n')\n",
    "print('{}\\n'.format(classification))\n",
    "print('Confusion_matrix :\\n')\n",
    "print('{}\\n'.format(confusion))\n",
    "print('Kappa value : {}\\n'.format(kappa))\n",
    "print('Overall accuracy : {}\\n'.format(overall_accuracy))\n",
    "print('Average_accuracy : {}\\n'.format(Average_accuracy))"
   ]
  },
  {
   "cell_type": "code",
   "execution_count": 35,
   "metadata": {},
   "outputs": [],
   "source": [
    "# load the original image\n",
    "Dataset, GroundTruth = loadIndianPinesData()"
   ]
  },
  {
   "cell_type": "code",
   "execution_count": 36,
   "metadata": {},
   "outputs": [],
   "source": [
    "Dataset,pca = applyPCA(Dataset,numPCAcomponents)"
   ]
  },
  {
   "cell_type": "code",
   "execution_count": 37,
   "metadata": {},
   "outputs": [],
   "source": [
    "height = GroundTruth.shape[0]\n",
    "width = GroundTruth.shape[1]\n",
    "PATCH_SIZE = windowSize\n",
    "numPCAcomponents = numPCAcomponents"
   ]
  },
  {
   "cell_type": "code",
   "execution_count": 38,
   "metadata": {},
   "outputs": [],
   "source": [
    "# calculate the predicted image\n",
    "outputs = np.zeros((height,width))\n",
    "for i in range(height-PATCH_SIZE+1):\n",
    "    for j in range(width-PATCH_SIZE+1):\n",
    "        target = GroundTruth[int(i+PATCH_SIZE/2), int(j+PATCH_SIZE/2)]\n",
    "        if target == 0 :\n",
    "            continue\n",
    "        else :\n",
    "            image_patch=Patch(Dataset,i,j)\n",
    "            #print (image_patch.shape)\n",
    "            X_test_image = image_patch.reshape(1,image_patch.shape[2],image_patch.shape[0],image_patch.shape[1]).astype('float32')                                   \n",
    "            prediction = (model.predict_classes(X_test_image))                         \n",
    "            outputs[int(i+PATCH_SIZE/2)][int(j+PATCH_SIZE/2)] = prediction+1"
   ]
  },
  {
   "cell_type": "code",
   "execution_count": 41,
   "metadata": {},
   "outputs": [
    {
     "data": {
      "text/plain": [
       "Text(0.5, 1.0, 'Classification map of GroundTruth')"
      ]
     },
     "execution_count": 41,
     "metadata": {},
     "output_type": "execute_result"
    },
    {
     "data": {
      "image/png": "[encoded data removed]",
      "text/plain": [
       "<Figure size 360x360 with 1 Axes>"
      ]
     },
     "metadata": {
      "needs_background": "light"
     },
     "output_type": "display_data"
    }
   ],
   "source": [
    "from matplotlib import pyplot as plt\n",
    "# Plot the Ground Truth Image\n",
    "ground_truth = spectral.imshow(classes = GroundTruth,figsize =(5,5))\n",
    "plt.title('Classification map of GroundTruth')"
   ]
  },
  {
   "cell_type": "code",
   "execution_count": 42,
   "metadata": {},
   "outputs": [
    {
     "data": {
      "text/plain": [
       "Text(0.5, 1.0, 'Predicted Classification map by CNN')"
      ]
     },
     "execution_count": 42,
     "metadata": {},
     "output_type": "execute_result"
    },
    {
     "data": {
      "image/png": "[encoded data removed]",
      "text/plain": [
       "<Figure size 360x360 with 1 Axes>"
      ]
     },
     "metadata": {
      "needs_background": "light"
     },
     "output_type": "display_data"
    }
   ],
   "source": [
    "# Plot the Predicted image\n",
    "predict_image = spectral.imshow(classes = outputs.astype(int),figsize =(5,5),cmap= 'jet')\n",
    "plt.title('Predicted Classification map by CNN')"
   ]
  },
  {
   "cell_type": "code",
   "execution_count": 43,
   "metadata": {},
   "outputs": [],
   "source": [
    "from tqdm import tqdm\n",
    "import pandas as pd\n",
    "def extract_pixels(dataset, ground_truth):\n",
    "    df = pd.DataFrame()\n",
    "    for i in tqdm(range(dataset.shape[2])):\n",
    "        df = pd.concat([df, pd.DataFrame(dataset[:, :, i].ravel())], axis=1)\n",
    "    df = pd.concat([df, pd.DataFrame(ground_truth.ravel())], axis=1)\n",
    "    df.columns = [f'band-{i}' for i in range(1, 1+dataset.shape[2])]+['class']\n",
    "    return df"
   ]
  },
  {
   "cell_type": "code",
   "execution_count": 44,
   "metadata": {},
   "outputs": [
    {
     "name": "stderr",
     "output_type": "stream",
     "text": [
      "100%|█████████████████████████████████████████████████████████████████████████████████| 30/30 [00:00<00:00, 142.43it/s]\n"
     ]
    }
   ],
   "source": [
    "df = extract_pixels(Dataset,GroundTruth)"
   ]
  },
  {
   "cell_type": "code",
   "execution_count": 45,
   "metadata": {},
   "outputs": [],
   "source": [
    "df.to_csv('Dataset.csv', index=False)"
   ]
  },
  {
   "cell_type": "code",
   "execution_count": 46,
   "metadata": {},
   "outputs": [],
   "source": [
    "df = pd.read_csv('Dataset.csv')"
   ]
  },
  {
   "cell_type": "code",
   "execution_count": 47,
   "metadata": {},
   "outputs": [
    {
     "data": {
      "text/html": [
       "<div>\n",
       "<style scoped>\n",
       "    .dataframe tbody tr th:only-of-type {\n",
       "        vertical-align: middle;\n",
       "    }\n",
       "\n",
       "    .dataframe tbody tr th {\n",
       "        vertical-align: top;\n",
       "    }\n",
       "\n",
       "    .dataframe thead th {\n",
       "        text-align: right;\n",
       "    }\n",
       "</style>\n",
       "<table border=\"1\" class=\"dataframe\">\n",
       "  <thead>\n",
       "    <tr style=\"text-align: right;\">\n",
       "      <th></th>\n",
       "      <th>band-1</th>\n",
       "      <th>band-2</th>\n",
       "      <th>band-3</th>\n",
       "      <th>band-4</th>\n",
       "      <th>band-5</th>\n",
       "      <th>band-6</th>\n",
       "      <th>band-7</th>\n",
       "      <th>band-8</th>\n",
       "      <th>band-9</th>\n",
       "      <th>band-10</th>\n",
       "      <th>...</th>\n",
       "      <th>band-22</th>\n",
       "      <th>band-23</th>\n",
       "      <th>band-24</th>\n",
       "      <th>band-25</th>\n",
       "      <th>band-26</th>\n",
       "      <th>band-27</th>\n",
       "      <th>band-28</th>\n",
       "      <th>band-29</th>\n",
       "      <th>band-30</th>\n",
       "      <th>class</th>\n",
       "    </tr>\n",
       "  </thead>\n",
       "  <tbody>\n",
       "    <tr>\n",
       "      <th>0</th>\n",
       "      <td>0.968768</td>\n",
       "      <td>0.480151</td>\n",
       "      <td>0.095013</td>\n",
       "      <td>0.125597</td>\n",
       "      <td>-0.835529</td>\n",
       "      <td>-0.153065</td>\n",
       "      <td>0.340916</td>\n",
       "      <td>-0.808385</td>\n",
       "      <td>0.739775</td>\n",
       "      <td>-0.196729</td>\n",
       "      <td>...</td>\n",
       "      <td>-0.684809</td>\n",
       "      <td>-0.735813</td>\n",
       "      <td>0.298723</td>\n",
       "      <td>0.712690</td>\n",
       "      <td>-0.504722</td>\n",
       "      <td>0.350504</td>\n",
       "      <td>-0.362198</td>\n",
       "      <td>-0.071948</td>\n",
       "      <td>-0.067022</td>\n",
       "      <td>3</td>\n",
       "    </tr>\n",
       "    <tr>\n",
       "      <th>1</th>\n",
       "      <td>1.082063</td>\n",
       "      <td>-0.666886</td>\n",
       "      <td>0.457615</td>\n",
       "      <td>-0.932147</td>\n",
       "      <td>0.283993</td>\n",
       "      <td>-0.641161</td>\n",
       "      <td>0.513250</td>\n",
       "      <td>0.639671</td>\n",
       "      <td>-1.369891</td>\n",
       "      <td>0.276042</td>\n",
       "      <td>...</td>\n",
       "      <td>-0.078364</td>\n",
       "      <td>0.645966</td>\n",
       "      <td>0.260609</td>\n",
       "      <td>-0.790352</td>\n",
       "      <td>-0.277622</td>\n",
       "      <td>1.125021</td>\n",
       "      <td>-0.488994</td>\n",
       "      <td>-1.698952</td>\n",
       "      <td>3.501347</td>\n",
       "      <td>3</td>\n",
       "    </tr>\n",
       "    <tr>\n",
       "      <th>2</th>\n",
       "      <td>1.119685</td>\n",
       "      <td>-1.018529</td>\n",
       "      <td>0.641121</td>\n",
       "      <td>-1.340924</td>\n",
       "      <td>0.498481</td>\n",
       "      <td>-0.292634</td>\n",
       "      <td>0.437311</td>\n",
       "      <td>0.546881</td>\n",
       "      <td>1.651550</td>\n",
       "      <td>-0.565766</td>\n",
       "      <td>...</td>\n",
       "      <td>0.059170</td>\n",
       "      <td>0.935491</td>\n",
       "      <td>0.692034</td>\n",
       "      <td>-1.017762</td>\n",
       "      <td>-0.928627</td>\n",
       "      <td>0.806780</td>\n",
       "      <td>0.205743</td>\n",
       "      <td>0.830251</td>\n",
       "      <td>0.072416</td>\n",
       "      <td>3</td>\n",
       "    </tr>\n",
       "    <tr>\n",
       "      <th>3</th>\n",
       "      <td>1.079131</td>\n",
       "      <td>-0.780896</td>\n",
       "      <td>0.465640</td>\n",
       "      <td>-0.886678</td>\n",
       "      <td>0.281052</td>\n",
       "      <td>-0.681895</td>\n",
       "      <td>0.634925</td>\n",
       "      <td>0.624049</td>\n",
       "      <td>-0.905910</td>\n",
       "      <td>0.162279</td>\n",
       "      <td>...</td>\n",
       "      <td>0.117354</td>\n",
       "      <td>0.684372</td>\n",
       "      <td>0.521070</td>\n",
       "      <td>-0.724930</td>\n",
       "      <td>-0.140018</td>\n",
       "      <td>1.183781</td>\n",
       "      <td>-0.596558</td>\n",
       "      <td>-1.623605</td>\n",
       "      <td>3.257161</td>\n",
       "      <td>3</td>\n",
       "    </tr>\n",
       "    <tr>\n",
       "      <th>4</th>\n",
       "      <td>0.969944</td>\n",
       "      <td>0.111926</td>\n",
       "      <td>-0.030070</td>\n",
       "      <td>-0.163259</td>\n",
       "      <td>-0.706674</td>\n",
       "      <td>-0.974477</td>\n",
       "      <td>1.271301</td>\n",
       "      <td>-0.917716</td>\n",
       "      <td>-0.543372</td>\n",
       "      <td>-0.199304</td>\n",
       "      <td>...</td>\n",
       "      <td>-0.240483</td>\n",
       "      <td>-0.181316</td>\n",
       "      <td>0.307950</td>\n",
       "      <td>0.055576</td>\n",
       "      <td>-0.221889</td>\n",
       "      <td>0.626910</td>\n",
       "      <td>-0.341948</td>\n",
       "      <td>0.375381</td>\n",
       "      <td>0.212688</td>\n",
       "      <td>3</td>\n",
       "    </tr>\n",
       "  </tbody>\n",
       "</table>\n",
       "<p>5 rows × 31 columns</p>\n",
       "</div>"
      ],
      "text/plain": [
       "     band-1    band-2    band-3    band-4    band-5    band-6    band-7  \\\n",
       "0  0.968768  0.480151  0.095013  0.125597 -0.835529 -0.153065  0.340916   \n",
       "1  1.082063 -0.666886  0.457615 -0.932147  0.283993 -0.641161  0.513250   \n",
       "2  1.119685 -1.018529  0.641121 -1.340924  0.498481 -0.292634  0.437311   \n",
       "3  1.079131 -0.780896  0.465640 -0.886678  0.281052 -0.681895  0.634925   \n",
       "4  0.969944  0.111926 -0.030070 -0.163259 -0.706674 -0.974477  1.271301   \n",
       "\n",
       "     band-8    band-9   band-10  ...   band-22   band-23   band-24   band-25  \\\n",
       "0 -0.808385  0.739775 -0.196729  ... -0.684809 -0.735813  0.298723  0.712690   \n",
       "1  0.639671 -1.369891  0.276042  ... -0.078364  0.645966  0.260609 -0.790352   \n",
       "2  0.546881  1.651550 -0.565766  ...  0.059170  0.935491  0.692034 -1.017762   \n",
       "3  0.624049 -0.905910  0.162279  ...  0.117354  0.684372  0.521070 -0.724930   \n",
       "4 -0.917716 -0.543372 -0.199304  ... -0.240483 -0.181316  0.307950  0.055576   \n",
       "\n",
       "    band-26   band-27   band-28   band-29   band-30  class  \n",
       "0 -0.504722  0.350504 -0.362198 -0.071948 -0.067022      3  \n",
       "1 -0.277622  1.125021 -0.488994 -1.698952  3.501347      3  \n",
       "2 -0.928627  0.806780  0.205743  0.830251  0.072416      3  \n",
       "3 -0.140018  1.183781 -0.596558 -1.623605  3.257161      3  \n",
       "4 -0.221889  0.626910 -0.341948  0.375381  0.212688      3  \n",
       "\n",
       "[5 rows x 31 columns]"
      ]
     },
     "execution_count": 47,
     "metadata": {},
     "output_type": "execute_result"
    }
   ],
   "source": [
    "df.head()"
   ]
  },
  {
   "cell_type": "code",
   "execution_count": 48,
   "metadata": {},
   "outputs": [
    {
     "data": {
      "text/html": [
       "<div>\n",
       "<style scoped>\n",
       "    .dataframe tbody tr th:only-of-type {\n",
       "        vertical-align: middle;\n",
       "    }\n",
       "\n",
       "    .dataframe tbody tr th {\n",
       "        vertical-align: top;\n",
       "    }\n",
       "\n",
       "    .dataframe thead th {\n",
       "        text-align: right;\n",
       "    }\n",
       "</style>\n",
       "<table border=\"1\" class=\"dataframe\">\n",
       "  <thead>\n",
       "    <tr style=\"text-align: right;\">\n",
       "      <th></th>\n",
       "      <th>band-1</th>\n",
       "      <th>band-2</th>\n",
       "      <th>band-3</th>\n",
       "      <th>band-4</th>\n",
       "      <th>band-5</th>\n",
       "      <th>band-6</th>\n",
       "      <th>band-7</th>\n",
       "      <th>band-8</th>\n",
       "      <th>band-9</th>\n",
       "      <th>band-10</th>\n",
       "      <th>...</th>\n",
       "      <th>band-22</th>\n",
       "      <th>band-23</th>\n",
       "      <th>band-24</th>\n",
       "      <th>band-25</th>\n",
       "      <th>band-26</th>\n",
       "      <th>band-27</th>\n",
       "      <th>band-28</th>\n",
       "      <th>band-29</th>\n",
       "      <th>band-30</th>\n",
       "      <th>class</th>\n",
       "    </tr>\n",
       "  </thead>\n",
       "  <tbody>\n",
       "    <tr>\n",
       "      <th>21020</th>\n",
       "      <td>-1.446429</td>\n",
       "      <td>-0.595113</td>\n",
       "      <td>0.362794</td>\n",
       "      <td>0.393762</td>\n",
       "      <td>-0.140957</td>\n",
       "      <td>-0.115102</td>\n",
       "      <td>0.776806</td>\n",
       "      <td>-0.823795</td>\n",
       "      <td>-1.194214</td>\n",
       "      <td>0.297644</td>\n",
       "      <td>...</td>\n",
       "      <td>0.433514</td>\n",
       "      <td>-0.726573</td>\n",
       "      <td>1.548038</td>\n",
       "      <td>-0.736965</td>\n",
       "      <td>1.523312</td>\n",
       "      <td>-0.493800</td>\n",
       "      <td>1.268203</td>\n",
       "      <td>-0.175072</td>\n",
       "      <td>0.090765</td>\n",
       "      <td>0</td>\n",
       "    </tr>\n",
       "    <tr>\n",
       "      <th>21021</th>\n",
       "      <td>-1.496650</td>\n",
       "      <td>-0.603758</td>\n",
       "      <td>0.522121</td>\n",
       "      <td>0.160608</td>\n",
       "      <td>-0.764288</td>\n",
       "      <td>0.261460</td>\n",
       "      <td>0.927413</td>\n",
       "      <td>-0.550355</td>\n",
       "      <td>-0.718706</td>\n",
       "      <td>0.020027</td>\n",
       "      <td>...</td>\n",
       "      <td>1.878406</td>\n",
       "      <td>-2.435870</td>\n",
       "      <td>2.631545</td>\n",
       "      <td>-1.644268</td>\n",
       "      <td>0.863110</td>\n",
       "      <td>0.542319</td>\n",
       "      <td>2.327307</td>\n",
       "      <td>-0.069756</td>\n",
       "      <td>0.120433</td>\n",
       "      <td>0</td>\n",
       "    </tr>\n",
       "    <tr>\n",
       "      <th>21022</th>\n",
       "      <td>-1.423688</td>\n",
       "      <td>-0.373209</td>\n",
       "      <td>0.520396</td>\n",
       "      <td>0.166038</td>\n",
       "      <td>-0.689525</td>\n",
       "      <td>0.233609</td>\n",
       "      <td>0.910813</td>\n",
       "      <td>-0.402462</td>\n",
       "      <td>0.425064</td>\n",
       "      <td>0.019412</td>\n",
       "      <td>...</td>\n",
       "      <td>0.924966</td>\n",
       "      <td>-0.126389</td>\n",
       "      <td>0.662968</td>\n",
       "      <td>-0.339424</td>\n",
       "      <td>1.286519</td>\n",
       "      <td>-0.769500</td>\n",
       "      <td>0.667748</td>\n",
       "      <td>0.269178</td>\n",
       "      <td>-0.613299</td>\n",
       "      <td>0</td>\n",
       "    </tr>\n",
       "    <tr>\n",
       "      <th>21023</th>\n",
       "      <td>-1.255093</td>\n",
       "      <td>0.263083</td>\n",
       "      <td>0.884569</td>\n",
       "      <td>-0.347298</td>\n",
       "      <td>-1.470755</td>\n",
       "      <td>1.006944</td>\n",
       "      <td>0.644280</td>\n",
       "      <td>0.788674</td>\n",
       "      <td>0.618770</td>\n",
       "      <td>0.047798</td>\n",
       "      <td>...</td>\n",
       "      <td>1.553318</td>\n",
       "      <td>0.005729</td>\n",
       "      <td>-0.407840</td>\n",
       "      <td>0.526086</td>\n",
       "      <td>-1.209826</td>\n",
       "      <td>-0.072185</td>\n",
       "      <td>-0.177156</td>\n",
       "      <td>0.014728</td>\n",
       "      <td>-0.280383</td>\n",
       "      <td>0</td>\n",
       "    </tr>\n",
       "    <tr>\n",
       "      <th>21024</th>\n",
       "      <td>-1.269267</td>\n",
       "      <td>0.114281</td>\n",
       "      <td>0.608330</td>\n",
       "      <td>0.180292</td>\n",
       "      <td>-1.060265</td>\n",
       "      <td>0.590420</td>\n",
       "      <td>0.535895</td>\n",
       "      <td>0.771032</td>\n",
       "      <td>1.032087</td>\n",
       "      <td>-0.408936</td>\n",
       "      <td>...</td>\n",
       "      <td>0.624724</td>\n",
       "      <td>-2.124215</td>\n",
       "      <td>2.156621</td>\n",
       "      <td>-0.870835</td>\n",
       "      <td>-1.208511</td>\n",
       "      <td>0.551309</td>\n",
       "      <td>1.185802</td>\n",
       "      <td>0.511711</td>\n",
       "      <td>-0.542481</td>\n",
       "      <td>0</td>\n",
       "    </tr>\n",
       "  </tbody>\n",
       "</table>\n",
       "<p>5 rows × 31 columns</p>\n",
       "</div>"
      ],
      "text/plain": [
       "         band-1    band-2    band-3    band-4    band-5    band-6    band-7  \\\n",
       "21020 -1.446429 -0.595113  0.362794  0.393762 -0.140957 -0.115102  0.776806   \n",
       "21021 -1.496650 -0.603758  0.522121  0.160608 -0.764288  0.261460  0.927413   \n",
       "21022 -1.423688 -0.373209  0.520396  0.166038 -0.689525  0.233609  0.910813   \n",
       "21023 -1.255093  0.263083  0.884569 -0.347298 -1.470755  1.006944  0.644280   \n",
       "21024 -1.269267  0.114281  0.608330  0.180292 -1.060265  0.590420  0.535895   \n",
       "\n",
       "         band-8    band-9   band-10  ...   band-22   band-23   band-24  \\\n",
       "21020 -0.823795 -1.194214  0.297644  ...  0.433514 -0.726573  1.548038   \n",
       "21021 -0.550355 -0.718706  0.020027  ...  1.878406 -2.435870  2.631545   \n",
       "21022 -0.402462  0.425064  0.019412  ...  0.924966 -0.126389  0.662968   \n",
       "21023  0.788674  0.618770  0.047798  ...  1.553318  0.005729 -0.407840   \n",
       "21024  0.771032  1.032087 -0.408936  ...  0.624724 -2.124215  2.156621   \n",
       "\n",
       "        band-25   band-26   band-27   band-28   band-29   band-30  class  \n",
       "21020 -0.736965  1.523312 -0.493800  1.268203 -0.175072  0.090765      0  \n",
       "21021 -1.644268  0.863110  0.542319  2.327307 -0.069756  0.120433      0  \n",
       "21022 -0.339424  1.286519 -0.769500  0.667748  0.269178 -0.613299      0  \n",
       "21023  0.526086 -1.209826 -0.072185 -0.177156  0.014728 -0.280383      0  \n",
       "21024 -0.870835 -1.208511  0.551309  1.185802  0.511711 -0.542481      0  \n",
       "\n",
       "[5 rows x 31 columns]"
      ]
     },
     "execution_count": 48,
     "metadata": {},
     "output_type": "execute_result"
    }
   ],
   "source": [
    "df.tail()"
   ]
  },
  {
   "cell_type": "code",
   "execution_count": 49,
   "metadata": {},
   "outputs": [
    {
     "data": {
      "text/plain": [
       "band-1     21025\n",
       "band-2     21025\n",
       "band-3     21025\n",
       "band-4     21025\n",
       "band-5     21025\n",
       "band-6     21025\n",
       "band-7     21025\n",
       "band-8     21025\n",
       "band-9     21025\n",
       "band-10    21025\n",
       "band-11    21025\n",
       "band-12    21025\n",
       "band-13    21025\n",
       "band-14    21025\n",
       "band-15    21025\n",
       "band-16    21025\n",
       "band-17    21025\n",
       "band-18    21025\n",
       "band-19    21025\n",
       "band-20    21025\n",
       "band-21    21025\n",
       "band-22    21025\n",
       "band-23    21025\n",
       "band-24    21025\n",
       "band-25    21025\n",
       "band-26    21025\n",
       "band-27    21025\n",
       "band-28    21025\n",
       "band-29    21025\n",
       "band-30    21025\n",
       "class      21025\n",
       "dtype: int64"
      ]
     },
     "execution_count": 49,
     "metadata": {},
     "output_type": "execute_result"
    }
   ],
   "source": [
    "df.count()"
   ]
  },
  {
   "cell_type": "code",
   "execution_count": 50,
   "metadata": {},
   "outputs": [],
   "source": [
    "Dataset = df.iloc[:, :-1].values\n",
    "\n",
    "GroundTruth = df.iloc[:, -1].values"
   ]
  },
  {
   "cell_type": "code",
   "execution_count": 51,
   "metadata": {},
   "outputs": [
    {
     "data": {
      "text/plain": [
       "((21025, 30), (21025,))"
      ]
     },
     "execution_count": 51,
     "metadata": {},
     "output_type": "execute_result"
    }
   ],
   "source": [
    "Dataset.shape, GroundTruth.shape"
   ]
  },
  {
   "cell_type": "code",
   "execution_count": 52,
   "metadata": {},
   "outputs": [],
   "source": [
    "from matplotlib import pyplot as plt"
   ]
  },
  {
   "cell_type": "code",
   "execution_count": 53,
   "metadata": {},
   "outputs": [],
   "source": [
    "def plot_signature(df):\n",
    "    plt.figure(figsize=(12, 6))\n",
    "    pixel_no = np.random.randint(df.shape[0])\n",
    "    plt.plot(range(1, 31), df.iloc[pixel_no, :-1].values.tolist(), 'b--', label= f'Class - {df.iloc[pixel_no, -1]}')\n",
    "    plt.legend()\n",
    "    plt.title(f'Pixel({pixel_no}) signature', fontsize=14)\n",
    "    plt.xlabel('Band Number', fontsize=14)\n",
    "    plt.ylabel('Pixel Intensity', fontsize=14)\n",
    "    plt.show()"
   ]
  },
  {
   "cell_type": "code",
   "execution_count": 54,
   "metadata": {},
   "outputs": [
    {
     "data": {
      "image/png": "[encoded data removed]",
      "text/plain": [
       "<Figure size 864x432 with 1 Axes>"
      ]
     },
     "metadata": {
      "needs_background": "light"
     },
     "output_type": "display_data"
    }
   ],
   "source": [
    "plot_signature(df)"
   ]
  },
  {
   "cell_type": "code",
   "execution_count": 55,
   "metadata": {},
   "outputs": [
    {
     "name": "stdout",
     "output_type": "stream",
     "text": [
      "Unique Class Labels: [ 3  0 15 11 12  5 10 14 16  2  4  8  6  9  1  7 13]\n"
     ]
    }
   ],
   "source": [
    "print(f\"Unique Class Labels: {df.loc[:, 'class'].unique()}\")"
   ]
  },
  {
   "cell_type": "code",
   "execution_count": 56,
   "metadata": {},
   "outputs": [
    {
     "data": {
      "text/plain": [
       "0     10776\n",
       "11     2455\n",
       "2      1428\n",
       "14     1265\n",
       "10      972\n",
       "3       830\n",
       "6       730\n",
       "12      593\n",
       "5       483\n",
       "8       478\n",
       "15      386\n",
       "4       237\n",
       "13      205\n",
       "16       93\n",
       "1        46\n",
       "7        28\n",
       "9        20\n",
       "Name: class, dtype: int64"
      ]
     },
     "execution_count": 56,
     "metadata": {},
     "output_type": "execute_result"
    }
   ],
   "source": [
    "df.loc[:, 'class'].value_counts()"
   ]
  },
  {
   "cell_type": "code",
   "execution_count": 57,
   "metadata": {},
   "outputs": [
    {
     "data": {
      "text/html": [
       "<div>\n",
       "<style scoped>\n",
       "    .dataframe tbody tr th:only-of-type {\n",
       "        vertical-align: middle;\n",
       "    }\n",
       "\n",
       "    .dataframe tbody tr th {\n",
       "        vertical-align: top;\n",
       "    }\n",
       "\n",
       "    .dataframe thead th {\n",
       "        text-align: right;\n",
       "    }\n",
       "</style>\n",
       "<table border=\"1\" class=\"dataframe\">\n",
       "  <thead>\n",
       "    <tr style=\"text-align: right;\">\n",
       "      <th></th>\n",
       "      <th>band-1</th>\n",
       "      <th>band-2</th>\n",
       "      <th>band-3</th>\n",
       "      <th>band-4</th>\n",
       "      <th>band-5</th>\n",
       "      <th>band-6</th>\n",
       "      <th>band-7</th>\n",
       "      <th>band-8</th>\n",
       "      <th>band-9</th>\n",
       "      <th>band-10</th>\n",
       "      <th>...</th>\n",
       "      <th>band-22</th>\n",
       "      <th>band-23</th>\n",
       "      <th>band-24</th>\n",
       "      <th>band-25</th>\n",
       "      <th>band-26</th>\n",
       "      <th>band-27</th>\n",
       "      <th>band-28</th>\n",
       "      <th>band-29</th>\n",
       "      <th>band-30</th>\n",
       "      <th>class</th>\n",
       "    </tr>\n",
       "  </thead>\n",
       "  <tbody>\n",
       "    <tr>\n",
       "      <th>895</th>\n",
       "      <td>0.273131</td>\n",
       "      <td>1.470809</td>\n",
       "      <td>-1.185346</td>\n",
       "      <td>1.560744</td>\n",
       "      <td>0.759810</td>\n",
       "      <td>1.440026</td>\n",
       "      <td>2.328329</td>\n",
       "      <td>-0.497845</td>\n",
       "      <td>0.562169</td>\n",
       "      <td>-0.314895</td>\n",
       "      <td>...</td>\n",
       "      <td>-1.287825</td>\n",
       "      <td>-0.335817</td>\n",
       "      <td>-1.182549</td>\n",
       "      <td>-1.139125</td>\n",
       "      <td>-1.995377</td>\n",
       "      <td>-2.623156</td>\n",
       "      <td>1.800552</td>\n",
       "      <td>-0.912889</td>\n",
       "      <td>-0.387430</td>\n",
       "      <td>5</td>\n",
       "    </tr>\n",
       "    <tr>\n",
       "      <th>896</th>\n",
       "      <td>0.011583</td>\n",
       "      <td>0.801522</td>\n",
       "      <td>-1.600782</td>\n",
       "      <td>0.739374</td>\n",
       "      <td>1.434936</td>\n",
       "      <td>0.297444</td>\n",
       "      <td>2.881041</td>\n",
       "      <td>1.426291</td>\n",
       "      <td>-0.806027</td>\n",
       "      <td>0.894099</td>\n",
       "      <td>...</td>\n",
       "      <td>-0.454769</td>\n",
       "      <td>0.837700</td>\n",
       "      <td>-0.774804</td>\n",
       "      <td>-0.047282</td>\n",
       "      <td>0.896915</td>\n",
       "      <td>0.487413</td>\n",
       "      <td>0.278089</td>\n",
       "      <td>-0.150009</td>\n",
       "      <td>-0.231588</td>\n",
       "      <td>5</td>\n",
       "    </tr>\n",
       "    <tr>\n",
       "      <th>1040</th>\n",
       "      <td>0.298206</td>\n",
       "      <td>1.417528</td>\n",
       "      <td>-1.216626</td>\n",
       "      <td>1.532727</td>\n",
       "      <td>0.579674</td>\n",
       "      <td>1.717269</td>\n",
       "      <td>1.295921</td>\n",
       "      <td>0.062290</td>\n",
       "      <td>-0.376127</td>\n",
       "      <td>-0.687426</td>\n",
       "      <td>...</td>\n",
       "      <td>-1.933098</td>\n",
       "      <td>0.177724</td>\n",
       "      <td>0.017299</td>\n",
       "      <td>-1.273762</td>\n",
       "      <td>-2.375205</td>\n",
       "      <td>-2.127200</td>\n",
       "      <td>0.648991</td>\n",
       "      <td>-0.372330</td>\n",
       "      <td>-0.801953</td>\n",
       "      <td>5</td>\n",
       "    </tr>\n",
       "    <tr>\n",
       "      <th>1041</th>\n",
       "      <td>0.050617</td>\n",
       "      <td>0.891926</td>\n",
       "      <td>-1.611248</td>\n",
       "      <td>1.181963</td>\n",
       "      <td>0.938017</td>\n",
       "      <td>0.248575</td>\n",
       "      <td>3.485898</td>\n",
       "      <td>-0.344050</td>\n",
       "      <td>0.765643</td>\n",
       "      <td>-0.942539</td>\n",
       "      <td>...</td>\n",
       "      <td>-0.450614</td>\n",
       "      <td>0.334387</td>\n",
       "      <td>-0.126771</td>\n",
       "      <td>0.231083</td>\n",
       "      <td>-0.265827</td>\n",
       "      <td>0.072290</td>\n",
       "      <td>0.532932</td>\n",
       "      <td>0.376154</td>\n",
       "      <td>-0.113351</td>\n",
       "      <td>5</td>\n",
       "    </tr>\n",
       "    <tr>\n",
       "      <th>1185</th>\n",
       "      <td>0.410231</td>\n",
       "      <td>0.707526</td>\n",
       "      <td>-0.873147</td>\n",
       "      <td>0.408322</td>\n",
       "      <td>-0.405610</td>\n",
       "      <td>-0.847634</td>\n",
       "      <td>1.019140</td>\n",
       "      <td>-0.811418</td>\n",
       "      <td>-1.270860</td>\n",
       "      <td>-1.165404</td>\n",
       "      <td>...</td>\n",
       "      <td>-0.554486</td>\n",
       "      <td>0.118805</td>\n",
       "      <td>0.280525</td>\n",
       "      <td>0.508907</td>\n",
       "      <td>-0.255938</td>\n",
       "      <td>0.639407</td>\n",
       "      <td>0.417871</td>\n",
       "      <td>0.132434</td>\n",
       "      <td>0.027568</td>\n",
       "      <td>5</td>\n",
       "    </tr>\n",
       "    <tr>\n",
       "      <th>...</th>\n",
       "      <td>...</td>\n",
       "      <td>...</td>\n",
       "      <td>...</td>\n",
       "      <td>...</td>\n",
       "      <td>...</td>\n",
       "      <td>...</td>\n",
       "      <td>...</td>\n",
       "      <td>...</td>\n",
       "      <td>...</td>\n",
       "      <td>...</td>\n",
       "      <td>...</td>\n",
       "      <td>...</td>\n",
       "      <td>...</td>\n",
       "      <td>...</td>\n",
       "      <td>...</td>\n",
       "      <td>...</td>\n",
       "      <td>...</td>\n",
       "      <td>...</td>\n",
       "      <td>...</td>\n",
       "      <td>...</td>\n",
       "      <td>...</td>\n",
       "    </tr>\n",
       "    <tr>\n",
       "      <th>18321</th>\n",
       "      <td>-0.175013</td>\n",
       "      <td>0.309561</td>\n",
       "      <td>-1.601250</td>\n",
       "      <td>-0.263922</td>\n",
       "      <td>1.579009</td>\n",
       "      <td>0.954831</td>\n",
       "      <td>1.361605</td>\n",
       "      <td>0.835528</td>\n",
       "      <td>0.564432</td>\n",
       "      <td>1.734105</td>\n",
       "      <td>...</td>\n",
       "      <td>-0.879529</td>\n",
       "      <td>1.664814</td>\n",
       "      <td>-0.015218</td>\n",
       "      <td>0.031175</td>\n",
       "      <td>-0.124134</td>\n",
       "      <td>0.848432</td>\n",
       "      <td>0.855601</td>\n",
       "      <td>0.653294</td>\n",
       "      <td>-0.656905</td>\n",
       "      <td>5</td>\n",
       "    </tr>\n",
       "    <tr>\n",
       "      <th>18322</th>\n",
       "      <td>-0.202043</td>\n",
       "      <td>0.286146</td>\n",
       "      <td>-1.604245</td>\n",
       "      <td>-0.251253</td>\n",
       "      <td>1.498047</td>\n",
       "      <td>0.995055</td>\n",
       "      <td>1.394744</td>\n",
       "      <td>0.934287</td>\n",
       "      <td>0.619594</td>\n",
       "      <td>1.653625</td>\n",
       "      <td>...</td>\n",
       "      <td>-0.648445</td>\n",
       "      <td>1.702321</td>\n",
       "      <td>-0.032141</td>\n",
       "      <td>0.105836</td>\n",
       "      <td>0.318531</td>\n",
       "      <td>0.973424</td>\n",
       "      <td>0.685857</td>\n",
       "      <td>0.644493</td>\n",
       "      <td>-0.742709</td>\n",
       "      <td>5</td>\n",
       "    </tr>\n",
       "    <tr>\n",
       "      <th>18323</th>\n",
       "      <td>-0.242639</td>\n",
       "      <td>0.339355</td>\n",
       "      <td>-1.749702</td>\n",
       "      <td>-0.134286</td>\n",
       "      <td>1.630332</td>\n",
       "      <td>0.780642</td>\n",
       "      <td>1.302802</td>\n",
       "      <td>0.892027</td>\n",
       "      <td>0.838005</td>\n",
       "      <td>2.380002</td>\n",
       "      <td>...</td>\n",
       "      <td>-0.153836</td>\n",
       "      <td>0.931980</td>\n",
       "      <td>0.500228</td>\n",
       "      <td>-0.460858</td>\n",
       "      <td>-1.126149</td>\n",
       "      <td>0.200709</td>\n",
       "      <td>-0.549643</td>\n",
       "      <td>1.231051</td>\n",
       "      <td>0.063523</td>\n",
       "      <td>5</td>\n",
       "    </tr>\n",
       "    <tr>\n",
       "      <th>18324</th>\n",
       "      <td>-0.256230</td>\n",
       "      <td>0.305667</td>\n",
       "      <td>-1.607788</td>\n",
       "      <td>-0.202424</td>\n",
       "      <td>1.698915</td>\n",
       "      <td>0.821338</td>\n",
       "      <td>1.284264</td>\n",
       "      <td>0.895452</td>\n",
       "      <td>1.723253</td>\n",
       "      <td>2.166642</td>\n",
       "      <td>...</td>\n",
       "      <td>-0.251538</td>\n",
       "      <td>0.752564</td>\n",
       "      <td>0.681028</td>\n",
       "      <td>-0.345569</td>\n",
       "      <td>-0.945532</td>\n",
       "      <td>0.239079</td>\n",
       "      <td>-0.130120</td>\n",
       "      <td>1.208851</td>\n",
       "      <td>-0.242470</td>\n",
       "      <td>5</td>\n",
       "    </tr>\n",
       "    <tr>\n",
       "      <th>18325</th>\n",
       "      <td>-0.261053</td>\n",
       "      <td>0.356253</td>\n",
       "      <td>-1.485271</td>\n",
       "      <td>-0.260971</td>\n",
       "      <td>1.724017</td>\n",
       "      <td>0.741653</td>\n",
       "      <td>1.271521</td>\n",
       "      <td>0.741104</td>\n",
       "      <td>0.767216</td>\n",
       "      <td>2.440638</td>\n",
       "      <td>...</td>\n",
       "      <td>-0.417578</td>\n",
       "      <td>0.974367</td>\n",
       "      <td>0.320940</td>\n",
       "      <td>-0.544111</td>\n",
       "      <td>-0.790636</td>\n",
       "      <td>-0.097698</td>\n",
       "      <td>-0.258797</td>\n",
       "      <td>1.123575</td>\n",
       "      <td>-0.403649</td>\n",
       "      <td>5</td>\n",
       "    </tr>\n",
       "  </tbody>\n",
       "</table>\n",
       "<p>483 rows × 31 columns</p>\n",
       "</div>"
      ],
      "text/plain": [
       "         band-1    band-2    band-3    band-4    band-5    band-6    band-7  \\\n",
       "895    0.273131  1.470809 -1.185346  1.560744  0.759810  1.440026  2.328329   \n",
       "896    0.011583  0.801522 -1.600782  0.739374  1.434936  0.297444  2.881041   \n",
       "1040   0.298206  1.417528 -1.216626  1.532727  0.579674  1.717269  1.295921   \n",
       "1041   0.050617  0.891926 -1.611248  1.181963  0.938017  0.248575  3.485898   \n",
       "1185   0.410231  0.707526 -0.873147  0.408322 -0.405610 -0.847634  1.019140   \n",
       "...         ...       ...       ...       ...       ...       ...       ...   \n",
       "18321 -0.175013  0.309561 -1.601250 -0.263922  1.579009  0.954831  1.361605   \n",
       "18322 -0.202043  0.286146 -1.604245 -0.251253  1.498047  0.995055  1.394744   \n",
       "18323 -0.242639  0.339355 -1.749702 -0.134286  1.630332  0.780642  1.302802   \n",
       "18324 -0.256230  0.305667 -1.607788 -0.202424  1.698915  0.821338  1.284264   \n",
       "18325 -0.261053  0.356253 -1.485271 -0.260971  1.724017  0.741653  1.271521   \n",
       "\n",
       "         band-8    band-9   band-10  ...   band-22   band-23   band-24  \\\n",
       "895   -0.497845  0.562169 -0.314895  ... -1.287825 -0.335817 -1.182549   \n",
       "896    1.426291 -0.806027  0.894099  ... -0.454769  0.837700 -0.774804   \n",
       "1040   0.062290 -0.376127 -0.687426  ... -1.933098  0.177724  0.017299   \n",
       "1041  -0.344050  0.765643 -0.942539  ... -0.450614  0.334387 -0.126771   \n",
       "1185  -0.811418 -1.270860 -1.165404  ... -0.554486  0.118805  0.280525   \n",
       "...         ...       ...       ...  ...       ...       ...       ...   \n",
       "18321  0.835528  0.564432  1.734105  ... -0.879529  1.664814 -0.015218   \n",
       "18322  0.934287  0.619594  1.653625  ... -0.648445  1.702321 -0.032141   \n",
       "18323  0.892027  0.838005  2.380002  ... -0.153836  0.931980  0.500228   \n",
       "18324  0.895452  1.723253  2.166642  ... -0.251538  0.752564  0.681028   \n",
       "18325  0.741104  0.767216  2.440638  ... -0.417578  0.974367  0.320940   \n",
       "\n",
       "        band-25   band-26   band-27   band-28   band-29   band-30  class  \n",
       "895   -1.139125 -1.995377 -2.623156  1.800552 -0.912889 -0.387430      5  \n",
       "896   -0.047282  0.896915  0.487413  0.278089 -0.150009 -0.231588      5  \n",
       "1040  -1.273762 -2.375205 -2.127200  0.648991 -0.372330 -0.801953      5  \n",
       "1041   0.231083 -0.265827  0.072290  0.532932  0.376154 -0.113351      5  \n",
       "1185   0.508907 -0.255938  0.639407  0.417871  0.132434  0.027568      5  \n",
       "...         ...       ...       ...       ...       ...       ...    ...  \n",
       "18321  0.031175 -0.124134  0.848432  0.855601  0.653294 -0.656905      5  \n",
       "18322  0.105836  0.318531  0.973424  0.685857  0.644493 -0.742709      5  \n",
       "18323 -0.460858 -1.126149  0.200709 -0.549643  1.231051  0.063523      5  \n",
       "18324 -0.345569 -0.945532  0.239079 -0.130120  1.208851 -0.242470      5  \n",
       "18325 -0.544111 -0.790636 -0.097698 -0.258797  1.123575 -0.403649      5  \n",
       "\n",
       "[483 rows x 31 columns]"
      ]
     },
     "execution_count": 57,
     "metadata": {},
     "output_type": "execute_result"
    }
   ],
   "source": [
    "df[df['class']== 5][0:2000]"
   ]
  },
  {
   "cell_type": "code",
   "execution_count": null,
   "metadata": {},
   "outputs": [],
   "source": []
  },
  {
   "cell_type": "code",
   "execution_count": null,
   "metadata": {},
   "outputs": [],
   "source": []
  },
  {
   "cell_type": "code",
   "execution_count": null,
   "metadata": {},
   "outputs": [],
   "source": []
  }
 ],
 "metadata": {
  "kernelspec": {
   "display_name": "Python 3",
   "language": "python",
   "name": "python3"
  },
  "language_info": {
   "codemirror_mode": {
    "name": "ipython",
    "version": 3
   },
   "file_extension": ".py",
   "mimetype": "text/x-python",
   "name": "python",
   "nbconvert_exporter": "python",
   "pygments_lexer": "ipython3",
   "version": "3.7.6"
  }
 },
 "nbformat": 4,
 "nbformat_minor": 2
}
