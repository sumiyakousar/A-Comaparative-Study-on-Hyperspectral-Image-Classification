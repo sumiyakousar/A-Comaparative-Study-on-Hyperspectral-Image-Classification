{
 "cells": [
  {
   "cell_type": "markdown",
   "metadata": {},
   "source": [
    "# Importing the modules"
   ]
  },
  {
   "cell_type": "code",
   "execution_count": 1,
   "metadata": {},
   "outputs": [],
   "source": [
    "import numpy as np\n",
    "from sklearn.decomposition import PCA\n",
    "import scipy.io as sio\n",
    "from sklearn.model_selection import train_test_split\n",
    "from sklearn import preprocessing\n",
    "import os\n",
    "import random\n",
    "from random import shuffle\n",
    "from skimage.transform import rotate\n",
    "import scipy.ndimage"
   ]
  },
  {
   "cell_type": "markdown",
   "metadata": {},
   "source": [
    "# Loading the Datasets"
   ]
  },
  {
   "cell_type": "code",
   "execution_count": 2,
   "metadata": {},
   "outputs": [],
   "source": [
    "def loadSalinasData():\n",
    "    data_path = os.path.join('F:\\main_project\\Datasets')\n",
    "    data = sio.loadmat(os.path.join(data_path, 'Salinas_corrected.mat'))['salinas_corrected']\n",
    "    labels = sio.loadmat(os.path.join(data_path, 'Salinas_gt.mat'))['salinas_gt']\n",
    "    \n",
    "    return data, labels"
   ]
  },
  {
   "cell_type": "markdown",
   "metadata": {},
   "source": [
    "# Splitting the datset"
   ]
  },
  {
   "cell_type": "code",
   "execution_count": 3,
   "metadata": {},
   "outputs": [],
   "source": [
    "def splitTrainTestSet(X, y, testRatio=0.10):\n",
    "    X_train, X_test, y_train, y_test = train_test_split(X, y, test_size=testRatio, random_state=345,\n",
    "                                                        stratify=y)\n",
    "    return X_train, X_test, y_train, y_test"
   ]
  },
  {
   "cell_type": "code",
   "execution_count": 4,
   "metadata": {},
   "outputs": [],
   "source": [
    "def oversampleWeakClasses(X, y):\n",
    "    uniqueLabels, labelCounts = np.unique(y, return_counts=True)\n",
    "    maxCount = np.max(labelCounts)\n",
    "    labelInverseRatios = maxCount / labelCounts  \n",
    "    # repeat for every label and concat\n",
    "    newX = X[y == uniqueLabels[0], :, :, :].repeat(round(labelInverseRatios[0]), axis=0)\n",
    "    newY = y[y == uniqueLabels[0]].repeat(round(labelInverseRatios[0]), axis=0)\n",
    "    for label, labelInverseRatio in zip(uniqueLabels[1:], labelInverseRatios[1:]):\n",
    "        cX = X[y== label,:,:,:].repeat(round(labelInverseRatio), axis=0)\n",
    "        cY = y[y == label].repeat(round(labelInverseRatio), axis=0)\n",
    "        newX = np.concatenate((newX, cX))\n",
    "        newY = np.concatenate((newY, cY))\n",
    "    np.random.seed(seed=42)\n",
    "    rand_perm = np.random.permutation(newY.shape[0])\n",
    "    newX = newX[rand_perm, :, :, :]\n",
    "    newY = newY[rand_perm]\n",
    "    return newX, newY"
   ]
  },
  {
   "cell_type": "code",
   "execution_count": 5,
   "metadata": {},
   "outputs": [],
   "source": [
    "def standartizeData(X):\n",
    "    newX = np.reshape(X, (-1, X.shape[2]))\n",
    "    scaler = preprocessing.StandardScaler().fit(newX)  \n",
    "    newX = scaler.transform(newX)\n",
    "    newX = np.reshape(newX, (X.shape[0],X.shape[1],X.shape[2]))\n",
    "    return newX, scaler"
   ]
  },
  {
   "cell_type": "code",
   "execution_count": 6,
   "metadata": {},
   "outputs": [],
   "source": [
    "def applyPCA(X, numComponents=75):\n",
    "    newX = np.reshape(X, (-1, X.shape[2]))\n",
    "    pca = PCA(n_components=numComponents, whiten=True)\n",
    "    newX = pca.fit_transform(newX)\n",
    "    newX = np.reshape(newX, (X.shape[0],X.shape[1], numComponents))\n",
    "    return newX, pca"
   ]
  },
  {
   "cell_type": "code",
   "execution_count": 7,
   "metadata": {},
   "outputs": [],
   "source": [
    "def padWithZeros(X, margin=2):\n",
    "    newX = np.zeros((X.shape[0] + 2 * margin, X.shape[1] + 2* margin, X.shape[2]))\n",
    "    x_offset = margin\n",
    "    y_offset = margin\n",
    "    newX[x_offset:X.shape[0] + x_offset, y_offset:X.shape[1] + y_offset, :] = X\n",
    "    return newX"
   ]
  },
  {
   "cell_type": "code",
   "execution_count": 8,
   "metadata": {},
   "outputs": [],
   "source": [
    "def createPatches(X, y, windowSize=5, removeZeroLabels = True):\n",
    "    margin = int((windowSize - 1) / 2)\n",
    "    zeroPaddedX = padWithZeros(X, margin=margin)\n",
    "    # split patches\n",
    "    patchesData = np.zeros((X.shape[0] * X.shape[1], windowSize, windowSize, X.shape[2]))\n",
    "    patchesLabels = np.zeros((X.shape[0] * X.shape[1]))\n",
    "    patchIndex = 0\n",
    "    for r in range(margin, zeroPaddedX.shape[0] - margin):\n",
    "        for c in range(margin, zeroPaddedX.shape[1] - margin):\n",
    "            patch = zeroPaddedX[r - margin:r + margin + 1, c - margin:c + margin + 1]   \n",
    "            patchesData[patchIndex, :, :, :] = patch\n",
    "            patchesLabels[patchIndex] = y[r-margin, c-margin]\n",
    "            patchIndex = patchIndex + 1\n",
    "    if removeZeroLabels:\n",
    "        patchesData = patchesData[patchesLabels>0,:,:,:]\n",
    "        patchesLabels = patchesLabels[patchesLabels>0]\n",
    "        patchesLabels -= 1\n",
    "    return patchesData, patchesLabels\n"
   ]
  },
  {
   "cell_type": "code",
   "execution_count": 9,
   "metadata": {},
   "outputs": [],
   "source": [
    "def AugmentData(X_train):\n",
    "    for i in range(int(X_train.shape[0]/2)):\n",
    "        patch = X_train[i,:,:,:]\n",
    "        num = random.randint(0,2)\n",
    "        if (num == 0):\n",
    "            \n",
    "            flipped_patch = np.flipud(patch)\n",
    "        if (num == 1):\n",
    "            \n",
    "            flipped_patch = np.fliplr(patch)\n",
    "        if (num == 2):\n",
    "            \n",
    "            no = random.randrange(-180,180,30)\n",
    "            flipped_patch = scipy.ndimage.interpolation.rotate(patch, no,axes=(1, 0),\n",
    "                                                               reshape=False, output=None, order=3, mode='constant', cval=0.0, prefilter=False)\n",
    "    \n",
    "    \n",
    "    patch2 = flipped_patch\n",
    "    X_train[i,:,:,:] = patch2\n",
    "    \n",
    "    return X_train\n"
   ]
  },
  {
   "cell_type": "code",
   "execution_count": 10,
   "metadata": {},
   "outputs": [],
   "source": [
    "def savePreprocessedData(X_trainPatches, X_testPatches, y_trainPatches, y_testPatches, windowSize, wasPCAapplied = False, numPCAComponents = 0, testRatio = 0.25):\n",
    "    if wasPCAapplied:\n",
    "        with open(\"X_trainPatches_\" + str(windowSize) + \"PCA\" + str(numPCAComponents) + \"testRatio\" + str(testRatio) + \".npy\", 'bw') as outfile:\n",
    "            np.save(outfile, X_trainPatches)\n",
    "        with open(\"X_testPatches_\" + str(windowSize) + \"PCA\" + str(numPCAComponents) + \"testRatio\" + str(testRatio) + \".npy\", 'bw') as outfile:\n",
    "            np.save(outfile, X_testPatches)\n",
    "        with open(\"y_trainPatches_\" + str(windowSize) + \"PCA\" + str(numPCAComponents) + \"testRatio\" + str(testRatio) + \".npy\", 'bw') as outfile:\n",
    "            np.save(outfile, y_trainPatches)\n",
    "        with open(\"y_testPatches_\" + str(windowSize) + \"PCA\" + str(numPCAComponents) + \"testRatio\" + str(testRatio) + \".npy\", 'bw') as outfile:\n",
    "            np.save(outfile, y_testPatches)\n",
    "    else:\n",
    "        with open(\"../preprocessedData/XtrainWindowSize\" + str(windowSize) + \".npy\", 'bw') as outfile:\n",
    "            np.save(outfile, X_trainPatches)\n",
    "        with open(\"../preprocessedData/XtestWindowSize\" + str(windowSize) + \".npy\", 'bw') as outfile:\n",
    "            np.save(outfile, X_testPatches)\n",
    "        with open(\"../preprocessedData/ytrainWindowSize\" + str(windowSize) + \".npy\", 'bw') as outfile:\n",
    "            np.save(outfile, y_trainPatches)\n",
    "        with open(\"../preprocessedData/ytestWindowSize\" + str(windowSize) + \".npy\", 'bw') as outfile:\n",
    "            np.save(outfile, y_testPatches)"
   ]
  },
  {
   "cell_type": "code",
   "execution_count": 11,
   "metadata": {},
   "outputs": [],
   "source": [
    "myFile = open('global_variables.txt', 'r') \n",
    "file = myFile.readlines()[:]\n",
    "\n",
    "\n",
    "for line in file:\n",
    "\n",
    "    if line[0:3] == \"win\":\n",
    "\n",
    "        ds = line.find('=')\n",
    "        windowSize = int(line[ds+1:-1],10)\n",
    "\n",
    "    elif line[0:3] == \"num\":\n",
    "\n",
    "        ds = line.find('=')\n",
    "        numPCAcomponents = int(line[ds+2:-1],10)\n",
    "\n",
    "    else:\n",
    "\n",
    "        ds = line.find('=')\n",
    "        testRatio = float(line[ds+1:])"
   ]
  },
  {
   "cell_type": "code",
   "execution_count": 12,
   "metadata": {},
   "outputs": [],
   "source": [
    "Dataset, GroundTruth = loadSalinasData()"
   ]
  },
  {
   "cell_type": "code",
   "execution_count": 13,
   "metadata": {},
   "outputs": [],
   "source": [
    "Dataset,pca = applyPCA(Dataset,numPCAcomponents)"
   ]
  },
  {
   "cell_type": "code",
   "execution_count": 14,
   "metadata": {},
   "outputs": [],
   "source": [
    "XPatches, yPatches = createPatches(Dataset, GroundTruth, windowSize=windowSize)"
   ]
  },
  {
   "cell_type": "code",
   "execution_count": 15,
   "metadata": {},
   "outputs": [],
   "source": [
    "X_train, X_test, y_train, y_test = splitTrainTestSet(XPatches, yPatches, testRatio)"
   ]
  },
  {
   "cell_type": "code",
   "execution_count": 16,
   "metadata": {},
   "outputs": [],
   "source": [
    "X_train, y_train = oversampleWeakClasses(X_train, y_train)"
   ]
  },
  {
   "cell_type": "code",
   "execution_count": 17,
   "metadata": {},
   "outputs": [],
   "source": [
    "X_train = AugmentData(X_train)"
   ]
  },
  {
   "cell_type": "code",
   "execution_count": 18,
   "metadata": {},
   "outputs": [],
   "source": [
    "savePreprocessedData(X_train, X_test, y_train, y_test, windowSize = windowSize,wasPCAapplied=True, numPCAComponents = numPCAcomponents,testRatio = testRatio)"
   ]
  },
  {
   "cell_type": "code",
   "execution_count": 19,
   "metadata": {},
   "outputs": [
    {
     "name": "stderr",
     "output_type": "stream",
     "text": [
      "Using TensorFlow backend.\n"
     ]
    }
   ],
   "source": [
    "import numpy as np\n",
    "import scipy\n",
    "import os\n",
    "from keras.models import Sequential\n",
    "from keras.layers import Dense, Dropout, Flatten\n",
    "from keras.layers import Conv2D, MaxPooling2D\n",
    "from keras.optimizers import SGD\n",
    "from keras import backend as K\n",
    "K.common.set_image_dim_ordering('th')\n",
    "from keras.utils import np_utils\n",
    "#from sklearn.cross_validation import StratifiedKFold"
   ]
  },
  {
   "cell_type": "code",
   "execution_count": 20,
   "metadata": {},
   "outputs": [],
   "source": [
    "X_train = np.load(\"X_trainPatches_\" + str(windowSize) + \"PCA\" + str(numPCAcomponents) + \"testRatio\" + str(testRatio)  + \".npy\")\n",
    "\n",
    "y_train = np.load(\"y_trainPatches_\" + str(windowSize) + \"PCA\" + str(numPCAcomponents) + \"testRatio\" + str(testRatio) + \".npy\")"
   ]
  },
  {
   "cell_type": "code",
   "execution_count": 21,
   "metadata": {},
   "outputs": [],
   "source": [
    "X_train = np.reshape(X_train, (X_train.shape[0],X_train.shape[3], X_train.shape[1], X_train.shape[2]))"
   ]
  },
  {
   "cell_type": "code",
   "execution_count": 22,
   "metadata": {},
   "outputs": [],
   "source": [
    "# convert class labels to on-hot encoding\n",
    "y_train = np_utils.to_categorical(y_train)"
   ]
  },
  {
   "cell_type": "code",
   "execution_count": 23,
   "metadata": {},
   "outputs": [
    {
     "name": "stdout",
     "output_type": "stream",
     "text": [
      "(30, 7, 7)\n"
     ]
    }
   ],
   "source": [
    "input_shape= X_train[0].shape\n",
    "print(input_shape)"
   ]
  },
  {
   "cell_type": "code",
   "execution_count": 24,
   "metadata": {},
   "outputs": [],
   "source": [
    "# number of filters\n",
    "C1 = 3*numPCAcomponents"
   ]
  },
  {
   "cell_type": "code",
   "execution_count": 25,
   "metadata": {},
   "outputs": [],
   "source": [
    "# Define the model\n",
    "model = Sequential()\n",
    "\n",
    "model.add(Conv2D(C1, (3, 3), activation='relu', input_shape=input_shape))\n",
    "model.add(Conv2D(3*C1, (3, 3), activation='relu'))\n",
    "model.add(Dropout(0.25))\n",
    "\n",
    "\n",
    "\n",
    "model.add(Flatten())\n",
    "model.add(Dense(6*numPCAcomponents, activation='relu'))\n",
    "model.add(Dropout(0.5))\n",
    "model.add(Dense(16, activation='softmax'))"
   ]
  },
  {
   "cell_type": "code",
   "execution_count": 26,
   "metadata": {},
   "outputs": [],
   "source": [
    "sgd = SGD(lr=0.0001, decay=1e-6, momentum=0.9, nesterov=True)\n",
    "model.compile(loss='categorical_crossentropy', optimizer=sgd, metrics=['accuracy'])"
   ]
  },
  {
   "cell_type": "code",
   "execution_count": 27,
   "metadata": {},
   "outputs": [
    {
     "name": "stdout",
     "output_type": "stream",
     "text": [
      "Epoch 1/5\n",
      "138400/138400 [==============================] - 435s 3ms/step - loss: 0.4965 - accuracy: 0.8814\n",
      "Epoch 2/5\n",
      "138400/138400 [==============================] - 465s 3ms/step - loss: 0.1005 - accuracy: 0.9711\n",
      "Epoch 3/5\n",
      "138400/138400 [==============================] - 414s 3ms/step - loss: 0.0693 - accuracy: 0.9780\n",
      "Epoch 4/5\n",
      "138400/138400 [==============================] - 425s 3ms/step - loss: 0.0545 - accuracy: 0.9823\n",
      "Epoch 5/5\n",
      "138400/138400 [==============================] - 432s 3ms/step - loss: 0.0453 - accuracy: 0.98480s - loss: 0.0453 - accuracy: 0.\n"
     ]
    },
    {
     "data": {
      "text/plain": [
       "<keras.callbacks.callbacks.History at 0x20f40b3cd88>"
      ]
     },
     "execution_count": 27,
     "metadata": {},
     "output_type": "execute_result"
    }
   ],
   "source": [
    "model.fit(X_train, y_train, batch_size=32, epochs=5)"
   ]
  },
  {
   "cell_type": "code",
   "execution_count": 28,
   "metadata": {},
   "outputs": [],
   "source": [
    "import h5py\n",
    "from keras.models import load_model"
   ]
  },
  {
   "cell_type": "code",
   "execution_count": 29,
   "metadata": {},
   "outputs": [],
   "source": [
    "model.save('my_model' + str(windowSize) + 'PCA' + str(numPCAcomponents) + \"testRatio\" + str(testRatio) + '.h5')"
   ]
  },
  {
   "cell_type": "code",
   "execution_count": 30,
   "metadata": {},
   "outputs": [],
   "source": [
    "# Import the necessary libraries\n",
    "from keras.models import load_model\n",
    "from keras.utils import np_utils\n",
    "from sklearn.metrics import classification_report, confusion_matrix, cohen_kappa_score\n",
    "import itertools\n",
    "import spectral\n",
    "import matplotlib\n",
    "%matplotlib inline"
   ]
  },
  {
   "cell_type": "code",
   "execution_count": 31,
   "metadata": {},
   "outputs": [],
   "source": [
    "def reports (X_test,y_test):\n",
    "    Y_pred = model.predict(X_test)\n",
    "    y_pred = np.argmax(Y_pred, axis=1)\n",
    "    target_names = ['Brocoli_green_weeds_1', 'Brocoli_green_weeds_2', 'Fallow', 'Fallow_rough_plow'\n",
    "               ,'Fallow_smooth', 'Stubble', 'Celery', \n",
    "                'Grapes_untrained', 'Soil_vinyard_develop', 'Corn_senesced_green_weeds', 'Lettuce_romaine_4wk',\n",
    "               'Lettuce_romaine_5wk', 'Lettuce_romaine_6wk', 'Lettuce_romaine_7wk', 'Vinyard_untrained',\n",
    "               'Vinyard_vertical_trellis']\n",
    "\n",
    "    \n",
    "    classification = classification_report(np.argmax(y_test, axis=1), y_pred, target_names=target_names)\n",
    "    confusion = confusion_matrix(np.argmax(y_test, axis=1), y_pred)\n",
    "    avgAcc=[]\n",
    "    classArray=[]\n",
    "    for c in range(len(confusion)):\n",
    "        recallSoc=confusion[c][c]/sum(confusion[c])\n",
    "        classArray+=[recallSoc]\n",
    "    avgAcc.append(sum(classArray)/len(classArray))\n",
    "    avg_accuracy=np.mean(avgAcc)\n",
    "    kappa = cohen_kappa_score(np.argmax(y_test, axis=1), y_pred)\n",
    "    overall_loss, overall_accu = model.evaluate(X_test, y_test, verbose=False)\n",
    "    \n",
    "    \n",
    "    return classification, confusion,kappa,avg_accuracy,overall_accu\n"
   ]
  },
  {
   "cell_type": "code",
   "execution_count": 32,
   "metadata": {},
   "outputs": [],
   "source": [
    "def Patch(data,height_index,width_index):\n",
    "    #transpose_array = data.transpose((2,0,1))\n",
    "    #print transpose_array.shape\n",
    "    height_slice = slice(height_index, height_index+PATCH_SIZE)\n",
    "    width_slice = slice(width_index, width_index+PATCH_SIZE)\n",
    "    patch = data[height_slice, width_slice, :]\n",
    "    return patch"
   ]
  },
  {
   "cell_type": "code",
   "execution_count": 33,
   "metadata": {},
   "outputs": [],
   "source": [
    "X_test  = np.reshape(X_test, (X_test.shape[0], X_test.shape[3], X_test.shape[1], X_test.shape[2]))\n",
    "y_test = np_utils.to_categorical(y_test)"
   ]
  },
  {
   "cell_type": "code",
   "execution_count": 34,
   "metadata": {},
   "outputs": [],
   "source": [
    "# load the model architecture and weights\n",
    "model = load_model('my_model' + str(windowSize) + 'PCA' + str(numPCAcomponents) + \"testRatio\" + str(testRatio) + '.h5')"
   ]
  },
  {
   "cell_type": "code",
   "execution_count": 35,
   "metadata": {},
   "outputs": [
    {
     "name": "stdout",
     "output_type": "stream",
     "text": [
      "Classification_report:\n",
      "\n",
      "                           precision    recall  f1-score   support\n",
      "\n",
      "    Brocoli_green_weeds_1       1.00      1.00      1.00       502\n",
      "    Brocoli_green_weeds_2       1.00      1.00      1.00       932\n",
      "                   Fallow       1.00      1.00      1.00       494\n",
      "        Fallow_rough_plow       1.00      1.00      1.00       348\n",
      "            Fallow_smooth       1.00      1.00      1.00       669\n",
      "                  Stubble       1.00      1.00      1.00       990\n",
      "                   Celery       1.00      1.00      1.00       895\n",
      "         Grapes_untrained       0.98      0.85      0.91      2818\n",
      "     Soil_vinyard_develop       1.00      1.00      1.00      1551\n",
      "Corn_senesced_green_weeds       0.99      1.00      0.99       820\n",
      "      Lettuce_romaine_4wk       1.00      1.00      1.00       267\n",
      "      Lettuce_romaine_5wk       1.00      1.00      1.00       482\n",
      "      Lettuce_romaine_6wk       1.00      1.00      1.00       229\n",
      "      Lettuce_romaine_7wk       1.00      1.00      1.00       267\n",
      "        Vinyard_untrained       0.81      0.98      0.89      1817\n",
      " Vinyard_vertical_trellis       1.00      1.00      1.00       452\n",
      "\n",
      "                 accuracy                           0.97     13533\n",
      "                macro avg       0.99      0.99      0.99     13533\n",
      "             weighted avg       0.97      0.97      0.97     13533\n",
      "\n",
      "\n",
      "Confusion_matrix :\n",
      "\n",
      "[[ 502    0    0    0    0    0    0    0    0    0    0    0    0    0\n",
      "     0    0]\n",
      " [   0  932    0    0    0    0    0    0    0    0    0    0    0    0\n",
      "     0    0]\n",
      " [   0    0  494    0    0    0    0    0    0    0    0    0    0    0\n",
      "     0    0]\n",
      " [   0    0    0  348    0    0    0    0    0    0    0    0    0    0\n",
      "     0    0]\n",
      " [   0    0    2    1  666    0    0    0    0    0    0    0    0    0\n",
      "     0    0]\n",
      " [   0    0    0    0    0  990    0    0    0    0    0    0    0    0\n",
      "     0    0]\n",
      " [   0    0    0    0    0    0  895    0    0    0    0    0    0    0\n",
      "     0    0]\n",
      " [   0    0    0    0    0    0    0 2404    0    7    0    0    0    0\n",
      "   407    0]\n",
      " [   0    0    0    0    0    0    0    0 1551    0    0    0    0    0\n",
      "     0    0]\n",
      " [   0    0    0    0    0    0    0    0    2  817    1    0    0    0\n",
      "     0    0]\n",
      " [   0    0    0    0    0    0    0    0    0    0  267    0    0    0\n",
      "     0    0]\n",
      " [   0    0    0    0    0    0    0    0    0    0    0  482    0    0\n",
      "     0    0]\n",
      " [   0    0    0    0    0    0    0    0    0    0    0    0  229    0\n",
      "     0    0]\n",
      " [   0    0    0    0    0    0    0    0    0    0    0    0    0  267\n",
      "     0    0]\n",
      " [   0    0    0    0    2    0    0   43    0    0    0    0    0    0\n",
      "  1772    0]\n",
      " [   0    0    0    0    0    0    0    0    0    0    0    0    0    0\n",
      "     0  452]]\n",
      "\n",
      "Kappa value : 0.9618281814343642\n",
      "\n",
      "Overall accuracy : 0.98876114727955\n",
      "\n",
      "Average_accuracy : 0.9656395316123962\n",
      "\n"
     ]
    }
   ],
   "source": [
    "# Using the pretrained model make predictions and print the results into a report\n",
    "classification, confusion,  kappa, overall_accuracy, Average_accuracy = reports(X_test,y_test)\n",
    "print('Classification_report:\\n')\n",
    "print('{}\\n'.format(classification))\n",
    "print('Confusion_matrix :\\n')\n",
    "print('{}\\n'.format(confusion))\n",
    "print('Kappa value : {}\\n'.format(kappa))\n",
    "print('Overall accuracy : {}\\n'.format(overall_accuracy))\n",
    "print('Average_accuracy : {}\\n'.format(Average_accuracy))"
   ]
  },
  {
   "cell_type": "code",
   "execution_count": 36,
   "metadata": {},
   "outputs": [],
   "source": [
    "# load the original image\n",
    "Dataset, GroundTruth = loadSalinasData()"
   ]
  },
  {
   "cell_type": "code",
   "execution_count": 37,
   "metadata": {},
   "outputs": [],
   "source": [
    "Dataset,pca = applyPCA(Dataset,numPCAcomponents)"
   ]
  },
  {
   "cell_type": "code",
   "execution_count": 38,
   "metadata": {},
   "outputs": [],
   "source": [
    "height = GroundTruth.shape[0]\n",
    "width = GroundTruth.shape[1]\n",
    "PATCH_SIZE = windowSize\n",
    "numPCAcomponents = numPCAcomponents"
   ]
  },
  {
   "cell_type": "code",
   "execution_count": 39,
   "metadata": {},
   "outputs": [],
   "source": [
    "# calculate the predicted image\n",
    "outputs = np.zeros((height,width))\n",
    "for i in range(height-PATCH_SIZE+1):\n",
    "    for j in range(width-PATCH_SIZE+1):\n",
    "        target = GroundTruth[int(i+PATCH_SIZE/2), int(j+PATCH_SIZE/2)]\n",
    "        if target == 0 :\n",
    "            continue\n",
    "        else :\n",
    "            image_patch=Patch(Dataset,i,j)\n",
    "            #print (image_patch.shape)\n",
    "            X_test_image = image_patch.reshape(1,image_patch.shape[2],image_patch.shape[0],image_patch.shape[1]).astype('float32')                                   \n",
    "            prediction = (model.predict_classes(X_test_image))                         \n",
    "            outputs[int(i+PATCH_SIZE/2)][int(j+PATCH_SIZE/2)] = prediction+1"
   ]
  },
  {
   "cell_type": "code",
   "execution_count": 40,
   "metadata": {},
   "outputs": [
    {
     "data": {
      "image/png": "[encoded data removed]",
      "text/plain": [
       "<Figure size 360x360 with 1 Axes>"
      ]
     },
     "metadata": {
      "needs_background": "light"
     },
     "output_type": "display_data"
    }
   ],
   "source": [
    "# Plot the Ground Truth Image\n",
    "ground_truth = spectral.imshow(classes = GroundTruth,figsize =(5,5))\n",
    "plt.title('Classification map of GroundTruth')\n",
    "plt.colorbar()"
   ]
  },
  {
   "cell_type": "code",
   "execution_count": 41,
   "metadata": {},
   "outputs": [
    {
     "data": {
      "image/png": "[encoded data removed]",
      "text/plain": [
       "<Figure size 360x360 with 1 Axes>"
      ]
     },
     "metadata": {
      "needs_background": "light"
     },
     "output_type": "display_data"
    }
   ],
   "source": [
    "# Plot the Predicted image\n",
    "predict_image = spectral.imshow(classes = outputs.astype(int),figsize =(5,5))\n",
    "plt.title('Predicted Classification map by CNN')\n",
    "plt.colorbar()"
   ]
  },
  {
   "cell_type": "code",
   "execution_count": 42,
   "metadata": {},
   "outputs": [],
   "source": [
    "from tqdm import tqdm\n",
    "import pandas as pd\n",
    "def extract_pixels(dataset, ground_truth):\n",
    "    df = pd.DataFrame()\n",
    "    for i in tqdm(range(dataset.shape[2])):\n",
    "        df = pd.concat([df, pd.DataFrame(dataset[:, :, i].ravel())], axis=1)\n",
    "    df = pd.concat([df, pd.DataFrame(ground_truth.ravel())], axis=1)\n",
    "    df.columns = [f'band-{i}' for i in range(1, 1+dataset.shape[2])]+['class']\n",
    "    return df"
   ]
  },
  {
   "cell_type": "code",
   "execution_count": 43,
   "metadata": {},
   "outputs": [
    {
     "name": "stderr",
     "output_type": "stream",
     "text": [
      "100%|██████████████████████████████████████████████████████████████████████████████████| 30/30 [00:00<00:00, 31.81it/s]\n"
     ]
    }
   ],
   "source": [
    "df = extract_pixels(Dataset,GroundTruth)"
   ]
  },
  {
   "cell_type": "code",
   "execution_count": 44,
   "metadata": {},
   "outputs": [],
   "source": [
    "df.to_csv('Dataset.csv', index=False)"
   ]
  },
  {
   "cell_type": "code",
   "execution_count": 45,
   "metadata": {},
   "outputs": [],
   "source": [
    "df = pd.read_csv('Dataset.csv')"
   ]
  },
  {
   "cell_type": "code",
   "execution_count": 46,
   "metadata": {},
   "outputs": [
    {
     "data": {
      "text/html": [
       "<div>\n",
       "<style scoped>\n",
       "    .dataframe tbody tr th:only-of-type {\n",
       "        vertical-align: middle;\n",
       "    }\n",
       "\n",
       "    .dataframe tbody tr th {\n",
       "        vertical-align: top;\n",
       "    }\n",
       "\n",
       "    .dataframe thead th {\n",
       "        text-align: right;\n",
       "    }\n",
       "</style>\n",
       "<table border=\"1\" class=\"dataframe\">\n",
       "  <thead>\n",
       "    <tr style=\"text-align: right;\">\n",
       "      <th></th>\n",
       "      <th>band-1</th>\n",
       "      <th>band-2</th>\n",
       "      <th>band-3</th>\n",
       "      <th>band-4</th>\n",
       "      <th>band-5</th>\n",
       "      <th>band-6</th>\n",
       "      <th>band-7</th>\n",
       "      <th>band-8</th>\n",
       "      <th>band-9</th>\n",
       "      <th>band-10</th>\n",
       "      <th>...</th>\n",
       "      <th>band-22</th>\n",
       "      <th>band-23</th>\n",
       "      <th>band-24</th>\n",
       "      <th>band-25</th>\n",
       "      <th>band-26</th>\n",
       "      <th>band-27</th>\n",
       "      <th>band-28</th>\n",
       "      <th>band-29</th>\n",
       "      <th>band-30</th>\n",
       "      <th>class</th>\n",
       "    </tr>\n",
       "  </thead>\n",
       "  <tbody>\n",
       "    <tr>\n",
       "      <th>0</th>\n",
       "      <td>-0.939167</td>\n",
       "      <td>-1.194099</td>\n",
       "      <td>0.779388</td>\n",
       "      <td>-0.542766</td>\n",
       "      <td>-0.022708</td>\n",
       "      <td>0.271585</td>\n",
       "      <td>-1.102113</td>\n",
       "      <td>-0.305896</td>\n",
       "      <td>0.438839</td>\n",
       "      <td>1.159355</td>\n",
       "      <td>...</td>\n",
       "      <td>0.932960</td>\n",
       "      <td>-0.608359</td>\n",
       "      <td>0.607565</td>\n",
       "      <td>0.241221</td>\n",
       "      <td>-0.202965</td>\n",
       "      <td>-0.436421</td>\n",
       "      <td>-0.254312</td>\n",
       "      <td>0.947910</td>\n",
       "      <td>-1.010056</td>\n",
       "      <td>0</td>\n",
       "    </tr>\n",
       "    <tr>\n",
       "      <th>1</th>\n",
       "      <td>-0.948437</td>\n",
       "      <td>-1.187275</td>\n",
       "      <td>0.704805</td>\n",
       "      <td>-0.484976</td>\n",
       "      <td>-0.006070</td>\n",
       "      <td>-0.075593</td>\n",
       "      <td>-1.201575</td>\n",
       "      <td>-0.528179</td>\n",
       "      <td>0.782088</td>\n",
       "      <td>1.044729</td>\n",
       "      <td>...</td>\n",
       "      <td>0.105340</td>\n",
       "      <td>0.301732</td>\n",
       "      <td>-0.857656</td>\n",
       "      <td>0.129949</td>\n",
       "      <td>1.550214</td>\n",
       "      <td>0.579911</td>\n",
       "      <td>-0.379206</td>\n",
       "      <td>1.203441</td>\n",
       "      <td>-1.004743</td>\n",
       "      <td>0</td>\n",
       "    </tr>\n",
       "    <tr>\n",
       "      <th>2</th>\n",
       "      <td>-0.973315</td>\n",
       "      <td>-1.278025</td>\n",
       "      <td>0.716907</td>\n",
       "      <td>-0.514601</td>\n",
       "      <td>0.058213</td>\n",
       "      <td>-0.098523</td>\n",
       "      <td>-1.039683</td>\n",
       "      <td>-0.252036</td>\n",
       "      <td>0.375713</td>\n",
       "      <td>1.079779</td>\n",
       "      <td>...</td>\n",
       "      <td>0.241749</td>\n",
       "      <td>-0.669045</td>\n",
       "      <td>-0.807568</td>\n",
       "      <td>0.073466</td>\n",
       "      <td>0.078962</td>\n",
       "      <td>-1.290506</td>\n",
       "      <td>0.911948</td>\n",
       "      <td>0.686730</td>\n",
       "      <td>-0.385844</td>\n",
       "      <td>0</td>\n",
       "    </tr>\n",
       "    <tr>\n",
       "      <th>3</th>\n",
       "      <td>-1.007623</td>\n",
       "      <td>-1.389680</td>\n",
       "      <td>0.781918</td>\n",
       "      <td>-0.563784</td>\n",
       "      <td>0.125749</td>\n",
       "      <td>-0.052865</td>\n",
       "      <td>-1.108675</td>\n",
       "      <td>-0.162984</td>\n",
       "      <td>0.336742</td>\n",
       "      <td>1.048065</td>\n",
       "      <td>...</td>\n",
       "      <td>-0.158044</td>\n",
       "      <td>-0.469000</td>\n",
       "      <td>0.425150</td>\n",
       "      <td>1.857993</td>\n",
       "      <td>-1.210193</td>\n",
       "      <td>-1.820690</td>\n",
       "      <td>0.787265</td>\n",
       "      <td>0.364616</td>\n",
       "      <td>0.590985</td>\n",
       "      <td>0</td>\n",
       "    </tr>\n",
       "    <tr>\n",
       "      <th>4</th>\n",
       "      <td>-1.046029</td>\n",
       "      <td>-1.466360</td>\n",
       "      <td>0.827074</td>\n",
       "      <td>-0.588119</td>\n",
       "      <td>0.078566</td>\n",
       "      <td>-0.110411</td>\n",
       "      <td>-1.142269</td>\n",
       "      <td>-0.336486</td>\n",
       "      <td>0.394522</td>\n",
       "      <td>1.391513</td>\n",
       "      <td>...</td>\n",
       "      <td>0.467812</td>\n",
       "      <td>-0.839109</td>\n",
       "      <td>0.658572</td>\n",
       "      <td>0.678263</td>\n",
       "      <td>-0.536288</td>\n",
       "      <td>0.169903</td>\n",
       "      <td>-0.807995</td>\n",
       "      <td>1.574449</td>\n",
       "      <td>-0.433446</td>\n",
       "      <td>0</td>\n",
       "    </tr>\n",
       "  </tbody>\n",
       "</table>\n",
       "<p>5 rows × 31 columns</p>\n",
       "</div>"
      ],
      "text/plain": [
       "     band-1    band-2    band-3    band-4    band-5    band-6    band-7  \\\n",
       "0 -0.939167 -1.194099  0.779388 -0.542766 -0.022708  0.271585 -1.102113   \n",
       "1 -0.948437 -1.187275  0.704805 -0.484976 -0.006070 -0.075593 -1.201575   \n",
       "2 -0.973315 -1.278025  0.716907 -0.514601  0.058213 -0.098523 -1.039683   \n",
       "3 -1.007623 -1.389680  0.781918 -0.563784  0.125749 -0.052865 -1.108675   \n",
       "4 -1.046029 -1.466360  0.827074 -0.588119  0.078566 -0.110411 -1.142269   \n",
       "\n",
       "     band-8    band-9   band-10  ...   band-22   band-23   band-24   band-25  \\\n",
       "0 -0.305896  0.438839  1.159355  ...  0.932960 -0.608359  0.607565  0.241221   \n",
       "1 -0.528179  0.782088  1.044729  ...  0.105340  0.301732 -0.857656  0.129949   \n",
       "2 -0.252036  0.375713  1.079779  ...  0.241749 -0.669045 -0.807568  0.073466   \n",
       "3 -0.162984  0.336742  1.048065  ... -0.158044 -0.469000  0.425150  1.857993   \n",
       "4 -0.336486  0.394522  1.391513  ...  0.467812 -0.839109  0.658572  0.678263   \n",
       "\n",
       "    band-26   band-27   band-28   band-29   band-30  class  \n",
       "0 -0.202965 -0.436421 -0.254312  0.947910 -1.010056      0  \n",
       "1  1.550214  0.579911 -0.379206  1.203441 -1.004743      0  \n",
       "2  0.078962 -1.290506  0.911948  0.686730 -0.385844      0  \n",
       "3 -1.210193 -1.820690  0.787265  0.364616  0.590985      0  \n",
       "4 -0.536288  0.169903 -0.807995  1.574449 -0.433446      0  \n",
       "\n",
       "[5 rows x 31 columns]"
      ]
     },
     "execution_count": 46,
     "metadata": {},
     "output_type": "execute_result"
    }
   ],
   "source": [
    "df.head()"
   ]
  },
  {
   "cell_type": "code",
   "execution_count": 47,
   "metadata": {},
   "outputs": [
    {
     "data": {
      "text/html": [
       "<div>\n",
       "<style scoped>\n",
       "    .dataframe tbody tr th:only-of-type {\n",
       "        vertical-align: middle;\n",
       "    }\n",
       "\n",
       "    .dataframe tbody tr th {\n",
       "        vertical-align: top;\n",
       "    }\n",
       "\n",
       "    .dataframe thead th {\n",
       "        text-align: right;\n",
       "    }\n",
       "</style>\n",
       "<table border=\"1\" class=\"dataframe\">\n",
       "  <thead>\n",
       "    <tr style=\"text-align: right;\">\n",
       "      <th></th>\n",
       "      <th>band-1</th>\n",
       "      <th>band-2</th>\n",
       "      <th>band-3</th>\n",
       "      <th>band-4</th>\n",
       "      <th>band-5</th>\n",
       "      <th>band-6</th>\n",
       "      <th>band-7</th>\n",
       "      <th>band-8</th>\n",
       "      <th>band-9</th>\n",
       "      <th>band-10</th>\n",
       "      <th>...</th>\n",
       "      <th>band-22</th>\n",
       "      <th>band-23</th>\n",
       "      <th>band-24</th>\n",
       "      <th>band-25</th>\n",
       "      <th>band-26</th>\n",
       "      <th>band-27</th>\n",
       "      <th>band-28</th>\n",
       "      <th>band-29</th>\n",
       "      <th>band-30</th>\n",
       "      <th>class</th>\n",
       "    </tr>\n",
       "  </thead>\n",
       "  <tbody>\n",
       "    <tr>\n",
       "      <th>111099</th>\n",
       "      <td>-1.036973</td>\n",
       "      <td>-1.099571</td>\n",
       "      <td>0.684779</td>\n",
       "      <td>0.266833</td>\n",
       "      <td>0.479193</td>\n",
       "      <td>0.183495</td>\n",
       "      <td>-0.264057</td>\n",
       "      <td>-0.619567</td>\n",
       "      <td>0.552964</td>\n",
       "      <td>0.440380</td>\n",
       "      <td>...</td>\n",
       "      <td>-0.616765</td>\n",
       "      <td>-0.962069</td>\n",
       "      <td>1.093721</td>\n",
       "      <td>-0.408970</td>\n",
       "      <td>0.273253</td>\n",
       "      <td>0.259642</td>\n",
       "      <td>0.159954</td>\n",
       "      <td>-0.327165</td>\n",
       "      <td>-1.019179</td>\n",
       "      <td>0</td>\n",
       "    </tr>\n",
       "    <tr>\n",
       "      <th>111100</th>\n",
       "      <td>-1.036864</td>\n",
       "      <td>-1.134272</td>\n",
       "      <td>0.725204</td>\n",
       "      <td>0.240231</td>\n",
       "      <td>0.484513</td>\n",
       "      <td>0.222305</td>\n",
       "      <td>-0.211968</td>\n",
       "      <td>-0.402044</td>\n",
       "      <td>0.135863</td>\n",
       "      <td>0.224777</td>\n",
       "      <td>...</td>\n",
       "      <td>0.457425</td>\n",
       "      <td>-0.526516</td>\n",
       "      <td>1.213040</td>\n",
       "      <td>1.001919</td>\n",
       "      <td>0.041390</td>\n",
       "      <td>-0.282935</td>\n",
       "      <td>-0.572449</td>\n",
       "      <td>1.417969</td>\n",
       "      <td>-0.725775</td>\n",
       "      <td>0</td>\n",
       "    </tr>\n",
       "    <tr>\n",
       "      <th>111101</th>\n",
       "      <td>-1.031623</td>\n",
       "      <td>-1.123715</td>\n",
       "      <td>0.737942</td>\n",
       "      <td>0.205885</td>\n",
       "      <td>0.442266</td>\n",
       "      <td>0.043123</td>\n",
       "      <td>0.146694</td>\n",
       "      <td>0.289763</td>\n",
       "      <td>0.015858</td>\n",
       "      <td>0.455808</td>\n",
       "      <td>...</td>\n",
       "      <td>-0.319310</td>\n",
       "      <td>-0.615874</td>\n",
       "      <td>0.351373</td>\n",
       "      <td>0.646698</td>\n",
       "      <td>-0.947625</td>\n",
       "      <td>-0.700594</td>\n",
       "      <td>0.666997</td>\n",
       "      <td>0.002190</td>\n",
       "      <td>-0.751462</td>\n",
       "      <td>0</td>\n",
       "    </tr>\n",
       "    <tr>\n",
       "      <th>111102</th>\n",
       "      <td>-1.035148</td>\n",
       "      <td>-1.125899</td>\n",
       "      <td>0.718307</td>\n",
       "      <td>0.230570</td>\n",
       "      <td>0.460970</td>\n",
       "      <td>0.200232</td>\n",
       "      <td>-0.144466</td>\n",
       "      <td>-0.071891</td>\n",
       "      <td>-0.249919</td>\n",
       "      <td>0.255622</td>\n",
       "      <td>...</td>\n",
       "      <td>-0.938895</td>\n",
       "      <td>0.026106</td>\n",
       "      <td>0.238343</td>\n",
       "      <td>0.334066</td>\n",
       "      <td>-0.071830</td>\n",
       "      <td>-0.668875</td>\n",
       "      <td>0.516975</td>\n",
       "      <td>0.714014</td>\n",
       "      <td>0.086876</td>\n",
       "      <td>0</td>\n",
       "    </tr>\n",
       "    <tr>\n",
       "      <th>111103</th>\n",
       "      <td>-1.019928</td>\n",
       "      <td>-1.093966</td>\n",
       "      <td>0.723556</td>\n",
       "      <td>0.264956</td>\n",
       "      <td>0.456573</td>\n",
       "      <td>0.232927</td>\n",
       "      <td>0.176768</td>\n",
       "      <td>0.297938</td>\n",
       "      <td>-0.381754</td>\n",
       "      <td>0.060296</td>\n",
       "      <td>...</td>\n",
       "      <td>-1.244699</td>\n",
       "      <td>-0.907499</td>\n",
       "      <td>0.149556</td>\n",
       "      <td>-0.549522</td>\n",
       "      <td>-0.573517</td>\n",
       "      <td>-1.230418</td>\n",
       "      <td>0.296667</td>\n",
       "      <td>1.100760</td>\n",
       "      <td>0.162964</td>\n",
       "      <td>0</td>\n",
       "    </tr>\n",
       "  </tbody>\n",
       "</table>\n",
       "<p>5 rows × 31 columns</p>\n",
       "</div>"
      ],
      "text/plain": [
       "          band-1    band-2    band-3    band-4    band-5    band-6    band-7  \\\n",
       "111099 -1.036973 -1.099571  0.684779  0.266833  0.479193  0.183495 -0.264057   \n",
       "111100 -1.036864 -1.134272  0.725204  0.240231  0.484513  0.222305 -0.211968   \n",
       "111101 -1.031623 -1.123715  0.737942  0.205885  0.442266  0.043123  0.146694   \n",
       "111102 -1.035148 -1.125899  0.718307  0.230570  0.460970  0.200232 -0.144466   \n",
       "111103 -1.019928 -1.093966  0.723556  0.264956  0.456573  0.232927  0.176768   \n",
       "\n",
       "          band-8    band-9   band-10  ...   band-22   band-23   band-24  \\\n",
       "111099 -0.619567  0.552964  0.440380  ... -0.616765 -0.962069  1.093721   \n",
       "111100 -0.402044  0.135863  0.224777  ...  0.457425 -0.526516  1.213040   \n",
       "111101  0.289763  0.015858  0.455808  ... -0.319310 -0.615874  0.351373   \n",
       "111102 -0.071891 -0.249919  0.255622  ... -0.938895  0.026106  0.238343   \n",
       "111103  0.297938 -0.381754  0.060296  ... -1.244699 -0.907499  0.149556   \n",
       "\n",
       "         band-25   band-26   band-27   band-28   band-29   band-30  class  \n",
       "111099 -0.408970  0.273253  0.259642  0.159954 -0.327165 -1.019179      0  \n",
       "111100  1.001919  0.041390 -0.282935 -0.572449  1.417969 -0.725775      0  \n",
       "111101  0.646698 -0.947625 -0.700594  0.666997  0.002190 -0.751462      0  \n",
       "111102  0.334066 -0.071830 -0.668875  0.516975  0.714014  0.086876      0  \n",
       "111103 -0.549522 -0.573517 -1.230418  0.296667  1.100760  0.162964      0  \n",
       "\n",
       "[5 rows x 31 columns]"
      ]
     },
     "execution_count": 47,
     "metadata": {},
     "output_type": "execute_result"
    }
   ],
   "source": [
    "df.tail()"
   ]
  },
  {
   "cell_type": "code",
   "execution_count": 48,
   "metadata": {},
   "outputs": [],
   "source": [
    "Dataset = df.iloc[:, :-1].values\n",
    "\n",
    "GroundTruth = df.iloc[:, -1].values"
   ]
  },
  {
   "cell_type": "code",
   "execution_count": 49,
   "metadata": {},
   "outputs": [
    {
     "data": {
      "text/plain": [
       "((111104, 30), (111104,))"
      ]
     },
     "execution_count": 49,
     "metadata": {},
     "output_type": "execute_result"
    }
   ],
   "source": [
    "Dataset.shape, GroundTruth.shape"
   ]
  },
  {
   "cell_type": "code",
   "execution_count": 50,
   "metadata": {},
   "outputs": [],
   "source": [
    "from matplotlib import pyplot as plt"
   ]
  },
  {
   "cell_type": "code",
   "execution_count": 51,
   "metadata": {},
   "outputs": [],
   "source": [
    "def plot_signature(df):\n",
    "    plt.figure(figsize=(12, 6))\n",
    "    pixel_no = np.random.randint(df.shape[0])\n",
    "    plt.plot(range(1, 31), df.iloc[pixel_no, :-1].values.tolist(), 'b--', label= f'Class - {df.iloc[pixel_no, -1]}')\n",
    "    plt.legend()\n",
    "    plt.title(f'Pixel({pixel_no}) signature', fontsize=14)\n",
    "    plt.xlabel('Band Number', fontsize=14)\n",
    "    plt.ylabel('Pixel Intensity', fontsize=14)\n",
    "    plt.show()"
   ]
  },
  {
   "cell_type": "code",
   "execution_count": 52,
   "metadata": {},
   "outputs": [
    {
     "data": {
      "image/png": "[encoded data removed]",
      "text/plain": [
       "<Figure size 864x432 with 1 Axes>"
      ]
     },
     "metadata": {
      "needs_background": "light"
     },
     "output_type": "display_data"
    }
   ],
   "source": [
    "plot_signature(df)"
   ]
  },
  {
   "cell_type": "code",
   "execution_count": 53,
   "metadata": {},
   "outputs": [
    {
     "name": "stdout",
     "output_type": "stream",
     "text": [
      "Unique Class Labels: [ 0  6  7  4  5 15  8  3  2  1 11 12 13 14 10  9 16]\n"
     ]
    }
   ],
   "source": [
    "print(f\"Unique Class Labels: {df.loc[:, 'class'].unique()}\")"
   ]
  },
  {
   "cell_type": "code",
   "execution_count": 54,
   "metadata": {},
   "outputs": [
    {
     "data": {
      "text/plain": [
       "0     56975\n",
       "8     11271\n",
       "15     7268\n",
       "9      6203\n",
       "6      3959\n",
       "2      3726\n",
       "7      3579\n",
       "10     3278\n",
       "5      2678\n",
       "1      2009\n",
       "3      1976\n",
       "12     1927\n",
       "16     1807\n",
       "4      1394\n",
       "14     1070\n",
       "11     1068\n",
       "13      916\n",
       "Name: class, dtype: int64"
      ]
     },
     "execution_count": 54,
     "metadata": {},
     "output_type": "execute_result"
    }
   ],
   "source": [
    "df.loc[:, 'class'].value_counts()"
   ]
  },
  {
   "cell_type": "code",
   "execution_count": 55,
   "metadata": {},
   "outputs": [
    {
     "data": {
      "text/html": [
       "<div>\n",
       "<style scoped>\n",
       "    .dataframe tbody tr th:only-of-type {\n",
       "        vertical-align: middle;\n",
       "    }\n",
       "\n",
       "    .dataframe tbody tr th {\n",
       "        vertical-align: top;\n",
       "    }\n",
       "\n",
       "    .dataframe thead th {\n",
       "        text-align: right;\n",
       "    }\n",
       "</style>\n",
       "<table border=\"1\" class=\"dataframe\">\n",
       "  <thead>\n",
       "    <tr style=\"text-align: right;\">\n",
       "      <th></th>\n",
       "      <th>band-1</th>\n",
       "      <th>band-2</th>\n",
       "      <th>band-3</th>\n",
       "      <th>band-4</th>\n",
       "      <th>band-5</th>\n",
       "      <th>band-6</th>\n",
       "      <th>band-7</th>\n",
       "      <th>band-8</th>\n",
       "      <th>band-9</th>\n",
       "      <th>band-10</th>\n",
       "      <th>...</th>\n",
       "      <th>band-22</th>\n",
       "      <th>band-23</th>\n",
       "      <th>band-24</th>\n",
       "      <th>band-25</th>\n",
       "      <th>band-26</th>\n",
       "      <th>band-27</th>\n",
       "      <th>band-28</th>\n",
       "      <th>band-29</th>\n",
       "      <th>band-30</th>\n",
       "      <th>class</th>\n",
       "    </tr>\n",
       "  </thead>\n",
       "  <tbody>\n",
       "    <tr>\n",
       "      <th>933</th>\n",
       "      <td>-0.889086</td>\n",
       "      <td>-0.586813</td>\n",
       "      <td>0.894511</td>\n",
       "      <td>-0.934605</td>\n",
       "      <td>-0.071589</td>\n",
       "      <td>-1.036202</td>\n",
       "      <td>-1.928976</td>\n",
       "      <td>-0.270368</td>\n",
       "      <td>0.367219</td>\n",
       "      <td>-0.079315</td>\n",
       "      <td>...</td>\n",
       "      <td>-1.155408</td>\n",
       "      <td>1.016728</td>\n",
       "      <td>0.528034</td>\n",
       "      <td>-0.072705</td>\n",
       "      <td>-0.206908</td>\n",
       "      <td>1.094277</td>\n",
       "      <td>0.131191</td>\n",
       "      <td>1.168495</td>\n",
       "      <td>0.833552</td>\n",
       "      <td>5</td>\n",
       "    </tr>\n",
       "    <tr>\n",
       "      <th>934</th>\n",
       "      <td>-0.874322</td>\n",
       "      <td>-0.373163</td>\n",
       "      <td>1.042617</td>\n",
       "      <td>-0.995953</td>\n",
       "      <td>0.375421</td>\n",
       "      <td>-0.470604</td>\n",
       "      <td>-1.478347</td>\n",
       "      <td>-0.237040</td>\n",
       "      <td>0.041691</td>\n",
       "      <td>0.352896</td>\n",
       "      <td>...</td>\n",
       "      <td>-0.197892</td>\n",
       "      <td>1.772998</td>\n",
       "      <td>0.043871</td>\n",
       "      <td>-0.495175</td>\n",
       "      <td>1.593854</td>\n",
       "      <td>-1.091459</td>\n",
       "      <td>-0.231945</td>\n",
       "      <td>0.470733</td>\n",
       "      <td>0.083908</td>\n",
       "      <td>5</td>\n",
       "    </tr>\n",
       "    <tr>\n",
       "      <th>935</th>\n",
       "      <td>-0.871816</td>\n",
       "      <td>-0.394028</td>\n",
       "      <td>1.013518</td>\n",
       "      <td>-1.003349</td>\n",
       "      <td>0.430354</td>\n",
       "      <td>-0.497895</td>\n",
       "      <td>-1.621319</td>\n",
       "      <td>-0.455497</td>\n",
       "      <td>0.958984</td>\n",
       "      <td>0.888795</td>\n",
       "      <td>...</td>\n",
       "      <td>-1.401490</td>\n",
       "      <td>1.773156</td>\n",
       "      <td>-0.485922</td>\n",
       "      <td>0.077051</td>\n",
       "      <td>0.616213</td>\n",
       "      <td>0.826134</td>\n",
       "      <td>-0.488336</td>\n",
       "      <td>-0.446004</td>\n",
       "      <td>-0.721176</td>\n",
       "      <td>5</td>\n",
       "    </tr>\n",
       "    <tr>\n",
       "      <th>936</th>\n",
       "      <td>-0.890492</td>\n",
       "      <td>-0.443971</td>\n",
       "      <td>1.017594</td>\n",
       "      <td>-0.988067</td>\n",
       "      <td>0.442652</td>\n",
       "      <td>-0.536309</td>\n",
       "      <td>-1.609953</td>\n",
       "      <td>-0.101237</td>\n",
       "      <td>-0.190607</td>\n",
       "      <td>0.688068</td>\n",
       "      <td>...</td>\n",
       "      <td>0.229004</td>\n",
       "      <td>1.179247</td>\n",
       "      <td>-0.358224</td>\n",
       "      <td>-0.680527</td>\n",
       "      <td>0.995968</td>\n",
       "      <td>1.321247</td>\n",
       "      <td>-0.575711</td>\n",
       "      <td>-0.925127</td>\n",
       "      <td>0.022878</td>\n",
       "      <td>5</td>\n",
       "    </tr>\n",
       "    <tr>\n",
       "      <th>937</th>\n",
       "      <td>-0.878983</td>\n",
       "      <td>-0.421533</td>\n",
       "      <td>1.028268</td>\n",
       "      <td>-0.937578</td>\n",
       "      <td>0.462337</td>\n",
       "      <td>-0.419698</td>\n",
       "      <td>-1.289672</td>\n",
       "      <td>0.128963</td>\n",
       "      <td>0.381749</td>\n",
       "      <td>0.682579</td>\n",
       "      <td>...</td>\n",
       "      <td>0.490371</td>\n",
       "      <td>1.017694</td>\n",
       "      <td>0.691568</td>\n",
       "      <td>0.170563</td>\n",
       "      <td>1.421633</td>\n",
       "      <td>-0.890425</td>\n",
       "      <td>-0.343029</td>\n",
       "      <td>0.578418</td>\n",
       "      <td>-0.351311</td>\n",
       "      <td>5</td>\n",
       "    </tr>\n",
       "    <tr>\n",
       "      <th>...</th>\n",
       "      <td>...</td>\n",
       "      <td>...</td>\n",
       "      <td>...</td>\n",
       "      <td>...</td>\n",
       "      <td>...</td>\n",
       "      <td>...</td>\n",
       "      <td>...</td>\n",
       "      <td>...</td>\n",
       "      <td>...</td>\n",
       "      <td>...</td>\n",
       "      <td>...</td>\n",
       "      <td>...</td>\n",
       "      <td>...</td>\n",
       "      <td>...</td>\n",
       "      <td>...</td>\n",
       "      <td>...</td>\n",
       "      <td>...</td>\n",
       "      <td>...</td>\n",
       "      <td>...</td>\n",
       "      <td>...</td>\n",
       "      <td>...</td>\n",
       "    </tr>\n",
       "    <tr>\n",
       "      <th>25748</th>\n",
       "      <td>-0.772125</td>\n",
       "      <td>-0.131559</td>\n",
       "      <td>0.842805</td>\n",
       "      <td>-0.847396</td>\n",
       "      <td>0.502675</td>\n",
       "      <td>-0.208931</td>\n",
       "      <td>-1.020168</td>\n",
       "      <td>0.182191</td>\n",
       "      <td>-0.702979</td>\n",
       "      <td>0.010736</td>\n",
       "      <td>...</td>\n",
       "      <td>0.455765</td>\n",
       "      <td>0.266885</td>\n",
       "      <td>1.178908</td>\n",
       "      <td>-1.277445</td>\n",
       "      <td>0.964569</td>\n",
       "      <td>0.802725</td>\n",
       "      <td>0.234717</td>\n",
       "      <td>-0.543045</td>\n",
       "      <td>1.695063</td>\n",
       "      <td>5</td>\n",
       "    </tr>\n",
       "    <tr>\n",
       "      <th>25946</th>\n",
       "      <td>-0.921629</td>\n",
       "      <td>-0.890682</td>\n",
       "      <td>0.678775</td>\n",
       "      <td>-0.608071</td>\n",
       "      <td>-0.240583</td>\n",
       "      <td>-1.189352</td>\n",
       "      <td>-1.628658</td>\n",
       "      <td>0.720365</td>\n",
       "      <td>0.625922</td>\n",
       "      <td>0.348155</td>\n",
       "      <td>...</td>\n",
       "      <td>-0.687169</td>\n",
       "      <td>0.651162</td>\n",
       "      <td>1.542190</td>\n",
       "      <td>-1.604301</td>\n",
       "      <td>0.692381</td>\n",
       "      <td>-1.081709</td>\n",
       "      <td>0.712991</td>\n",
       "      <td>1.279068</td>\n",
       "      <td>-0.326912</td>\n",
       "      <td>5</td>\n",
       "    </tr>\n",
       "    <tr>\n",
       "      <th>25947</th>\n",
       "      <td>-0.807765</td>\n",
       "      <td>-0.271800</td>\n",
       "      <td>0.710045</td>\n",
       "      <td>-0.636125</td>\n",
       "      <td>-0.120584</td>\n",
       "      <td>-0.740724</td>\n",
       "      <td>-2.308851</td>\n",
       "      <td>-1.333501</td>\n",
       "      <td>0.908289</td>\n",
       "      <td>0.278947</td>\n",
       "      <td>...</td>\n",
       "      <td>-0.676628</td>\n",
       "      <td>0.720183</td>\n",
       "      <td>-0.774273</td>\n",
       "      <td>0.566880</td>\n",
       "      <td>-0.385649</td>\n",
       "      <td>0.673422</td>\n",
       "      <td>0.289469</td>\n",
       "      <td>0.748004</td>\n",
       "      <td>0.331469</td>\n",
       "      <td>5</td>\n",
       "    </tr>\n",
       "    <tr>\n",
       "      <th>25948</th>\n",
       "      <td>-0.832965</td>\n",
       "      <td>-0.248302</td>\n",
       "      <td>0.860089</td>\n",
       "      <td>-0.720703</td>\n",
       "      <td>0.444940</td>\n",
       "      <td>-0.289078</td>\n",
       "      <td>-1.756191</td>\n",
       "      <td>-0.864619</td>\n",
       "      <td>0.222937</td>\n",
       "      <td>0.524490</td>\n",
       "      <td>...</td>\n",
       "      <td>0.575659</td>\n",
       "      <td>0.738927</td>\n",
       "      <td>0.700776</td>\n",
       "      <td>-0.092721</td>\n",
       "      <td>0.667991</td>\n",
       "      <td>-0.540103</td>\n",
       "      <td>1.043516</td>\n",
       "      <td>-1.306430</td>\n",
       "      <td>1.866147</td>\n",
       "      <td>5</td>\n",
       "    </tr>\n",
       "    <tr>\n",
       "      <th>25949</th>\n",
       "      <td>-0.817147</td>\n",
       "      <td>-0.234338</td>\n",
       "      <td>0.840611</td>\n",
       "      <td>-0.741723</td>\n",
       "      <td>0.321758</td>\n",
       "      <td>-0.234067</td>\n",
       "      <td>-1.494392</td>\n",
       "      <td>-0.285890</td>\n",
       "      <td>0.330944</td>\n",
       "      <td>0.872063</td>\n",
       "      <td>...</td>\n",
       "      <td>0.925467</td>\n",
       "      <td>0.504305</td>\n",
       "      <td>0.728662</td>\n",
       "      <td>0.284080</td>\n",
       "      <td>0.384270</td>\n",
       "      <td>1.061870</td>\n",
       "      <td>0.376920</td>\n",
       "      <td>-0.170643</td>\n",
       "      <td>0.206460</td>\n",
       "      <td>5</td>\n",
       "    </tr>\n",
       "  </tbody>\n",
       "</table>\n",
       "<p>2000 rows × 31 columns</p>\n",
       "</div>"
      ],
      "text/plain": [
       "         band-1    band-2    band-3    band-4    band-5    band-6    band-7  \\\n",
       "933   -0.889086 -0.586813  0.894511 -0.934605 -0.071589 -1.036202 -1.928976   \n",
       "934   -0.874322 -0.373163  1.042617 -0.995953  0.375421 -0.470604 -1.478347   \n",
       "935   -0.871816 -0.394028  1.013518 -1.003349  0.430354 -0.497895 -1.621319   \n",
       "936   -0.890492 -0.443971  1.017594 -0.988067  0.442652 -0.536309 -1.609953   \n",
       "937   -0.878983 -0.421533  1.028268 -0.937578  0.462337 -0.419698 -1.289672   \n",
       "...         ...       ...       ...       ...       ...       ...       ...   \n",
       "25748 -0.772125 -0.131559  0.842805 -0.847396  0.502675 -0.208931 -1.020168   \n",
       "25946 -0.921629 -0.890682  0.678775 -0.608071 -0.240583 -1.189352 -1.628658   \n",
       "25947 -0.807765 -0.271800  0.710045 -0.636125 -0.120584 -0.740724 -2.308851   \n",
       "25948 -0.832965 -0.248302  0.860089 -0.720703  0.444940 -0.289078 -1.756191   \n",
       "25949 -0.817147 -0.234338  0.840611 -0.741723  0.321758 -0.234067 -1.494392   \n",
       "\n",
       "         band-8    band-9   band-10  ...   band-22   band-23   band-24  \\\n",
       "933   -0.270368  0.367219 -0.079315  ... -1.155408  1.016728  0.528034   \n",
       "934   -0.237040  0.041691  0.352896  ... -0.197892  1.772998  0.043871   \n",
       "935   -0.455497  0.958984  0.888795  ... -1.401490  1.773156 -0.485922   \n",
       "936   -0.101237 -0.190607  0.688068  ...  0.229004  1.179247 -0.358224   \n",
       "937    0.128963  0.381749  0.682579  ...  0.490371  1.017694  0.691568   \n",
       "...         ...       ...       ...  ...       ...       ...       ...   \n",
       "25748  0.182191 -0.702979  0.010736  ...  0.455765  0.266885  1.178908   \n",
       "25946  0.720365  0.625922  0.348155  ... -0.687169  0.651162  1.542190   \n",
       "25947 -1.333501  0.908289  0.278947  ... -0.676628  0.720183 -0.774273   \n",
       "25948 -0.864619  0.222937  0.524490  ...  0.575659  0.738927  0.700776   \n",
       "25949 -0.285890  0.330944  0.872063  ...  0.925467  0.504305  0.728662   \n",
       "\n",
       "        band-25   band-26   band-27   band-28   band-29   band-30  class  \n",
       "933   -0.072705 -0.206908  1.094277  0.131191  1.168495  0.833552      5  \n",
       "934   -0.495175  1.593854 -1.091459 -0.231945  0.470733  0.083908      5  \n",
       "935    0.077051  0.616213  0.826134 -0.488336 -0.446004 -0.721176      5  \n",
       "936   -0.680527  0.995968  1.321247 -0.575711 -0.925127  0.022878      5  \n",
       "937    0.170563  1.421633 -0.890425 -0.343029  0.578418 -0.351311      5  \n",
       "...         ...       ...       ...       ...       ...       ...    ...  \n",
       "25748 -1.277445  0.964569  0.802725  0.234717 -0.543045  1.695063      5  \n",
       "25946 -1.604301  0.692381 -1.081709  0.712991  1.279068 -0.326912      5  \n",
       "25947  0.566880 -0.385649  0.673422  0.289469  0.748004  0.331469      5  \n",
       "25948 -0.092721  0.667991 -0.540103  1.043516 -1.306430  1.866147      5  \n",
       "25949  0.284080  0.384270  1.061870  0.376920 -0.170643  0.206460      5  \n",
       "\n",
       "[2000 rows x 31 columns]"
      ]
     },
     "execution_count": 55,
     "metadata": {},
     "output_type": "execute_result"
    }
   ],
   "source": [
    "df[df['class']== 5][0:2000]"
   ]
  },
  {
   "cell_type": "code",
   "execution_count": null,
   "metadata": {},
   "outputs": [],
   "source": []
  }
 ],
 "metadata": {
  "kernelspec": {
   "display_name": "Python 3",
   "language": "python",
   "name": "python3"
  },
  "language_info": {
   "codemirror_mode": {
    "name": "ipython",
    "version": 3
   },
   "file_extension": ".py",
   "mimetype": "text/x-python",
   "name": "python",
   "nbconvert_exporter": "python",
   "pygments_lexer": "ipython3",
   "version": "3.7.6"
  }
 },
 "nbformat": 4,
 "nbformat_minor": 2
}
