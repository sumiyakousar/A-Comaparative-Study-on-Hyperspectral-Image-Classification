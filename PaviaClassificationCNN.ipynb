{
 "cells": [
  {
   "cell_type": "markdown",
   "metadata": {},
   "source": [
    "# Importing modules"
   ]
  },
  {
   "cell_type": "code",
   "execution_count": 1,
   "metadata": {},
   "outputs": [],
   "source": [
    "import numpy as np\n",
    "from sklearn.decomposition import PCA\n",
    "import scipy.io as sio\n",
    "from sklearn.model_selection import train_test_split\n",
    "from sklearn import preprocessing\n",
    "import os\n",
    "import random\n",
    "from random import shuffle\n",
    "from skimage.transform import rotate\n",
    "import scipy.ndimage"
   ]
  },
  {
   "cell_type": "markdown",
   "metadata": {},
   "source": [
    "# Loading the Datasets"
   ]
  },
  {
   "cell_type": "code",
   "execution_count": 2,
   "metadata": {},
   "outputs": [],
   "source": [
    "def loadPaviaUData():\n",
    "    data_path = os.path.join('F:\\main_project\\Datasets')\n",
    "    data = sio.loadmat(os.path.join(data_path, 'PaviaU.mat'))['paviaU']\n",
    "    labels = sio.loadmat(os.path.join(data_path, 'PaviaU_gt.mat'))['paviaU_gt']\n",
    "    \n",
    "    return data, labels"
   ]
  },
  {
   "cell_type": "markdown",
   "metadata": {},
   "source": [
    "# Spliting the datasets"
   ]
  },
  {
   "cell_type": "code",
   "execution_count": 3,
   "metadata": {},
   "outputs": [],
   "source": [
    "def splitTrainTestSet(X, y, testRatio=0.10):\n",
    "    X_train, X_test, y_train, y_test = train_test_split(X, y, test_size=testRatio, random_state=345,\n",
    "                                                        stratify=y)\n",
    "    return X_train, X_test, y_train, y_test"
   ]
  },
  {
   "cell_type": "code",
   "execution_count": 4,
   "metadata": {},
   "outputs": [],
   "source": [
    "def oversampleWeakClasses(X, y):\n",
    "    uniqueLabels, labelCounts = np.unique(y, return_counts=True)\n",
    "    maxCount = np.max(labelCounts)\n",
    "    labelInverseRatios = maxCount / labelCounts  \n",
    "    # repeat for every label and concat\n",
    "    newX = X[y == uniqueLabels[0], :, :, :].repeat(round(labelInverseRatios[0]), axis=0)\n",
    "    newY = y[y == uniqueLabels[0]].repeat(round(labelInverseRatios[0]), axis=0)\n",
    "    for label, labelInverseRatio in zip(uniqueLabels[1:], labelInverseRatios[1:]):\n",
    "        cX = X[y== label,:,:,:].repeat(round(labelInverseRatio), axis=0)\n",
    "        cY = y[y == label].repeat(round(labelInverseRatio), axis=0)\n",
    "        newX = np.concatenate((newX, cX))\n",
    "        newY = np.concatenate((newY, cY))\n",
    "    np.random.seed(seed=42)\n",
    "    rand_perm = np.random.permutation(newY.shape[0])\n",
    "    newX = newX[rand_perm, :, :, :]\n",
    "    newY = newY[rand_perm]\n",
    "    return newX, newY"
   ]
  },
  {
   "cell_type": "code",
   "execution_count": 5,
   "metadata": {},
   "outputs": [],
   "source": [
    "def standartizeData(X):\n",
    "    newX = np.reshape(X, (-1, X.shape[2]))\n",
    "    scaler = preprocessing.StandardScaler().fit(newX)  \n",
    "    newX = scaler.transform(newX)\n",
    "    newX = np.reshape(newX, (X.shape[0],X.shape[1],X.shape[2]))\n",
    "    return newX, scaler"
   ]
  },
  {
   "cell_type": "code",
   "execution_count": 6,
   "metadata": {},
   "outputs": [],
   "source": [
    "def applyPCA(X, numComponents=35):\n",
    "    newX = np.reshape(X, (-1, X.shape[2]))\n",
    "    pca = PCA(n_components=numComponents, whiten=True)\n",
    "    newX = pca.fit_transform(newX)\n",
    "    newX = np.reshape(newX, (X.shape[0],X.shape[1], numComponents))\n",
    "    return newX, pca"
   ]
  },
  {
   "cell_type": "code",
   "execution_count": 7,
   "metadata": {},
   "outputs": [],
   "source": [
    "def padWithZeros(X, margin=2):\n",
    "    newX = np.zeros((X.shape[0] + 2 * margin, X.shape[1] + 2* margin, X.shape[2]))\n",
    "    x_offset = margin\n",
    "    y_offset = margin\n",
    "    newX[x_offset:X.shape[0] + x_offset, y_offset:X.shape[1] + y_offset, :] = X\n",
    "    return newX"
   ]
  },
  {
   "cell_type": "code",
   "execution_count": 8,
   "metadata": {},
   "outputs": [],
   "source": [
    "def createPatches(X, y, windowSize=5, removeZeroLabels = True):\n",
    "    margin = int((windowSize - 1) / 2)\n",
    "    zeroPaddedX = padWithZeros(X, margin=margin)\n",
    "    # split patches\n",
    "    patchesData = np.zeros((X.shape[0] * X.shape[1], windowSize, windowSize, X.shape[2]))\n",
    "    patchesLabels = np.zeros((X.shape[0] * X.shape[1]))\n",
    "    patchIndex = 0\n",
    "    for r in range(margin, zeroPaddedX.shape[0] - margin):\n",
    "        for c in range(margin, zeroPaddedX.shape[1] - margin):\n",
    "            patch = zeroPaddedX[r - margin:r + margin + 1, c - margin:c + margin + 1]   \n",
    "            patchesData[patchIndex, :, :, :] = patch\n",
    "            patchesLabels[patchIndex] = y[r-margin, c-margin]\n",
    "            patchIndex = patchIndex + 1\n",
    "    if removeZeroLabels:\n",
    "        patchesData = patchesData[patchesLabels>0,:,:,:]\n",
    "        patchesLabels = patchesLabels[patchesLabels>0]\n",
    "        patchesLabels -= 1\n",
    "    return patchesData, patchesLabels"
   ]
  },
  {
   "cell_type": "code",
   "execution_count": 9,
   "metadata": {},
   "outputs": [],
   "source": [
    "def AugmentData(X_train):\n",
    "    for i in range(int(X_train.shape[0]/2)):\n",
    "        patch = X_train[i,:,:,:]\n",
    "        num = random.randint(0,2)\n",
    "        if (num == 0):\n",
    "            \n",
    "            flipped_patch = np.flipud(patch)\n",
    "        if (num == 1):\n",
    "            \n",
    "            flipped_patch = np.fliplr(patch)\n",
    "        if (num == 2):\n",
    "            \n",
    "            no = random.randrange(-180,180,30)\n",
    "            flipped_patch = scipy.ndimage.interpolation.rotate(patch, no,axes=(1, 0),\n",
    "                                                               reshape=False, output=None, order=3, mode='constant', cval=0.0, prefilter=False)\n",
    "    \n",
    "    \n",
    "    patch2 = flipped_patch\n",
    "    X_train[i,:,:,:] = patch2\n",
    "    \n",
    "    return X_train\n"
   ]
  },
  {
   "cell_type": "code",
   "execution_count": 10,
   "metadata": {},
   "outputs": [],
   "source": [
    "def savePreprocessedData(X_trainPatches, X_testPatches, y_trainPatches, y_testPatches, windowSize, wasPCAapplied = False, numPCAComponents = 0, testRatio = 0.25):\n",
    "    if wasPCAapplied:\n",
    "        with open(\"X_trainPatches_\" + str(windowSize) + \"PCA\" + str(numPCAComponents) + \"testRatio\" + str(testRatio) + \".npy\", 'bw') as outfile:\n",
    "            np.save(outfile, X_trainPatches)\n",
    "        with open(\"X_testPatches_\" + str(windowSize) + \"PCA\" + str(numPCAComponents) + \"testRatio\" + str(testRatio) + \".npy\", 'bw') as outfile:\n",
    "            np.save(outfile, X_testPatches)\n",
    "        with open(\"y_trainPatches_\" + str(windowSize) + \"PCA\" + str(numPCAComponents) + \"testRatio\" + str(testRatio) + \".npy\", 'bw') as outfile:\n",
    "            np.save(outfile, y_trainPatches)\n",
    "        with open(\"y_testPatches_\" + str(windowSize) + \"PCA\" + str(numPCAComponents) + \"testRatio\" + str(testRatio) + \".npy\", 'bw') as outfile:\n",
    "            np.save(outfile, y_testPatches)\n",
    "    else:\n",
    "        with open(\"../preprocessedData/XtrainWindowSize\" + str(windowSize) + \".npy\", 'bw') as outfile:\n",
    "            np.save(outfile, X_trainPatches)\n",
    "        with open(\"../preprocessedData/XtestWindowSize\" + str(windowSize) + \".npy\", 'bw') as outfile:\n",
    "            np.save(outfile, X_testPatches)\n",
    "        with open(\"../preprocessedData/ytrainWindowSize\" + str(windowSize) + \".npy\", 'bw') as outfile:\n",
    "            np.save(outfile, y_trainPatches)\n",
    "        with open(\"../preprocessedData/ytestWindowSize\" + str(windowSize) + \".npy\", 'bw') as outfile:\n",
    "            np.save(outfile, y_testPatches)"
   ]
  },
  {
   "cell_type": "code",
   "execution_count": 11,
   "metadata": {},
   "outputs": [],
   "source": [
    "myFile = open('global_variables.txt', 'r') \n",
    "file = myFile.readlines()[:]\n",
    "\n",
    "\n",
    "for line in file:\n",
    "\n",
    "    if line[0:3] == \"win\":\n",
    "\n",
    "        ds = line.find('=')\n",
    "        windowSize = int(line[ds+1:-1],10)\n",
    "\n",
    "    elif line[0:3] == \"num\":\n",
    "\n",
    "        ds = line.find('=')\n",
    "        numPCAcomponents = int(line[ds+2:-1],10)\n",
    "\n",
    "    else:\n",
    "\n",
    "        ds = line.find('=')\n",
    "        testRatio = float(line[ds+1:])"
   ]
  },
  {
   "cell_type": "code",
   "execution_count": 12,
   "metadata": {},
   "outputs": [],
   "source": [
    "Dataset, GroundTruth= loadPaviaUData()"
   ]
  },
  {
   "cell_type": "code",
   "execution_count": 13,
   "metadata": {},
   "outputs": [],
   "source": [
    "Dataset,pca = applyPCA(Dataset,numPCAcomponents)"
   ]
  },
  {
   "cell_type": "code",
   "execution_count": 14,
   "metadata": {},
   "outputs": [],
   "source": [
    "XPatches, yPatches = createPatches(Dataset, GroundTruth, windowSize=windowSize)"
   ]
  },
  {
   "cell_type": "code",
   "execution_count": 15,
   "metadata": {},
   "outputs": [],
   "source": [
    "X_train, X_test, y_train, y_test = splitTrainTestSet(XPatches, yPatches, testRatio)"
   ]
  },
  {
   "cell_type": "code",
   "execution_count": 16,
   "metadata": {},
   "outputs": [],
   "source": [
    "X_train, y_train = oversampleWeakClasses(X_train, y_train)"
   ]
  },
  {
   "cell_type": "code",
   "execution_count": 17,
   "metadata": {},
   "outputs": [],
   "source": [
    "X_train = AugmentData(X_train)"
   ]
  },
  {
   "cell_type": "code",
   "execution_count": 18,
   "metadata": {},
   "outputs": [],
   "source": [
    "savePreprocessedData(X_train, X_test, y_train, y_test, windowSize = windowSize,wasPCAapplied=True, numPCAComponents = numPCAcomponents,testRatio = testRatio)"
   ]
  },
  {
   "cell_type": "code",
   "execution_count": 19,
   "metadata": {},
   "outputs": [
    {
     "name": "stderr",
     "output_type": "stream",
     "text": [
      "Using TensorFlow backend.\n"
     ]
    }
   ],
   "source": [
    "import numpy as np\n",
    "import scipy\n",
    "import os\n",
    "from keras.models import Sequential\n",
    "from keras.layers import Dense, Dropout, Flatten\n",
    "from keras.layers import Conv2D, MaxPooling2D\n",
    "from keras.optimizers import SGD\n",
    "from keras import backend as K\n",
    "K.common.set_image_dim_ordering('th')\n",
    "from keras.utils import np_utils\n",
    "#from sklearn.cross_validation import StratifiedKFold"
   ]
  },
  {
   "cell_type": "code",
   "execution_count": 20,
   "metadata": {},
   "outputs": [],
   "source": [
    "X_train = np.load(\"X_trainPatches_\" + str(windowSize) + \"PCA\" + str(numPCAcomponents) + \"testRatio\" + str(testRatio)  + \".npy\")\n",
    "\n",
    "y_train = np.load(\"y_trainPatches_\" + str(windowSize) + \"PCA\" + str(numPCAcomponents) + \"testRatio\" + str(testRatio) + \".npy\")"
   ]
  },
  {
   "cell_type": "code",
   "execution_count": 21,
   "metadata": {},
   "outputs": [],
   "source": [
    "X_train = np.reshape(X_train, (X_train.shape[0],X_train.shape[3], X_train.shape[1], X_train.shape[2]))"
   ]
  },
  {
   "cell_type": "code",
   "execution_count": 22,
   "metadata": {},
   "outputs": [],
   "source": [
    "# convert class labels to on-hot encoding\n",
    "y_train = np_utils.to_categorical(y_train)"
   ]
  },
  {
   "cell_type": "code",
   "execution_count": 23,
   "metadata": {},
   "outputs": [
    {
     "name": "stdout",
     "output_type": "stream",
     "text": [
      "(30, 5, 5)\n"
     ]
    }
   ],
   "source": [
    "input_shape= X_train[0].shape\n",
    "print(input_shape)"
   ]
  },
  {
   "cell_type": "code",
   "execution_count": 24,
   "metadata": {},
   "outputs": [],
   "source": [
    "# number of filters\n",
    "C1 = 3*numPCAcomponents"
   ]
  },
  {
   "cell_type": "code",
   "execution_count": 25,
   "metadata": {},
   "outputs": [],
   "source": [
    "# Define the model\n",
    "model = Sequential()\n",
    "\n",
    "model.add(Conv2D(C1, (3, 3), activation='relu', input_shape=input_shape))\n",
    "model.add(Conv2D(3*C1, (3, 3), activation='relu'))\n",
    "model.add(Dropout(0.25))\n",
    "\n",
    "\n",
    "\n",
    "model.add(Flatten())\n",
    "model.add(Dense(6*numPCAcomponents, activation='relu'))\n",
    "model.add(Dropout(0.5))\n",
    "model.add(Dense(9, activation='softmax'))"
   ]
  },
  {
   "cell_type": "code",
   "execution_count": 26,
   "metadata": {},
   "outputs": [],
   "source": [
    "sgd = SGD(lr=0.0001, decay=1e-6, momentum=0.9, nesterov=True)\n",
    "model.compile(loss='categorical_crossentropy', optimizer=sgd, metrics=['accuracy'])"
   ]
  },
  {
   "cell_type": "code",
   "execution_count": 27,
   "metadata": {},
   "outputs": [
    {
     "name": "stdout",
     "output_type": "stream",
     "text": [
      "Epoch 1/5\n",
      "128051/128051 [==============================] - 202s 2ms/step - loss: 0.9935 - accuracy: 0.6807\n",
      "Epoch 2/5\n",
      "128051/128051 [==============================] - 204s 2ms/step - loss: 0.3036 - accuracy: 0.8966\n",
      "Epoch 3/5\n",
      "128051/128051 [==============================] - 199s 2ms/step - loss: 0.2063 - accuracy: 0.9300\n",
      "Epoch 4/5\n",
      "128051/128051 [==============================] - 200s 2ms/step - loss: 0.1646 - accuracy: 0.9445\n",
      "Epoch 5/5\n",
      "128051/128051 [==============================] - 196s 2ms/step - loss: 0.1370 - accuracy: 0.9532\n"
     ]
    },
    {
     "data": {
      "text/plain": [
       "<keras.callbacks.callbacks.History at 0x2500e8fcd08>"
      ]
     },
     "execution_count": 27,
     "metadata": {},
     "output_type": "execute_result"
    }
   ],
   "source": [
    "model.fit(X_train, y_train, batch_size=32, epochs=5)"
   ]
  },
  {
   "cell_type": "code",
   "execution_count": 28,
   "metadata": {},
   "outputs": [],
   "source": [
    "import h5py\n",
    "from keras.models import load_model"
   ]
  },
  {
   "cell_type": "code",
   "execution_count": 29,
   "metadata": {},
   "outputs": [],
   "source": [
    "model.save('my_model' + str(windowSize) + 'PCA' + str(numPCAcomponents) + \"testRatio\" + str(testRatio) + '.h5')"
   ]
  },
  {
   "cell_type": "code",
   "execution_count": 30,
   "metadata": {},
   "outputs": [],
   "source": [
    "# Import the necessary libraries\n",
    "from keras.models import load_model\n",
    "from keras.utils import np_utils\n",
    "from sklearn.metrics import classification_report, confusion_matrix,cohen_kappa_score\n",
    "import itertools\n",
    "import spectral\n",
    "import matplotlib\n",
    "%matplotlib inline"
   ]
  },
  {
   "cell_type": "code",
   "execution_count": 31,
   "metadata": {},
   "outputs": [],
   "source": [
    "\n",
    "def reports (X_test,y_test):\n",
    "    Y_pred = model.predict(X_test)\n",
    "    y_pred = np.argmax(Y_pred, axis=1)\n",
    "    target_names = ['Asphalt','Meadows','Gravel','Trees','Painted metal sheets','Bare Soil','Bitumen','Sels-Blocking Bricks','Shadows']\n",
    "\n",
    "    \n",
    "    classification = classification_report(np.argmax(y_test, axis=1), y_pred, target_names=target_names)\n",
    "    confusion = confusion_matrix(np.argmax(y_test, axis=1), y_pred)\n",
    "    avgAcc=[]\n",
    "    classArray=[]\n",
    "    for c in range(len(confusion)):\n",
    "        recallSoc=confusion[c][c]/sum(confusion[c])\n",
    "        classArray+=[recallSoc]\n",
    "    avgAcc.append(sum(classArray)/len(classArray))\n",
    "    avg_accuracy=np.mean(avgAcc)\n",
    "    kappa = cohen_kappa_score(np.argmax(y_test, axis=1), y_pred)\n",
    "    overall_loss, overall_accu = model.evaluate(X_test, y_test, verbose=False)\n",
    "    \n",
    "    \n",
    "    return classification, confusion,kappa,avg_accuracy,overall_accu\n"
   ]
  },
  {
   "cell_type": "code",
   "execution_count": 32,
   "metadata": {},
   "outputs": [],
   "source": [
    "def Patch(data,height_index,width_index):\n",
    "    #transpose_array = data.transpose((2,0,1))\n",
    "    #print transpose_array.shape\n",
    "    height_slice = slice(height_index, height_index+PATCH_SIZE)\n",
    "    width_slice = slice(width_index, width_index+PATCH_SIZE)\n",
    "    patch = data[height_slice, width_slice, :]\n",
    "    return patch"
   ]
  },
  {
   "cell_type": "code",
   "execution_count": 33,
   "metadata": {},
   "outputs": [],
   "source": [
    "X_test  = np.reshape(X_test, (X_test.shape[0], X_test.shape[3], X_test.shape[1], X_test.shape[2]))\n",
    "y_test = np_utils.to_categorical(y_test)"
   ]
  },
  {
   "cell_type": "code",
   "execution_count": 34,
   "metadata": {},
   "outputs": [],
   "source": [
    "# load the model architecture and weights\n",
    "model = load_model('my_model' + str(windowSize) + 'PCA' + str(numPCAcomponents) + \"testRatio\" + str(testRatio) + '.h5')"
   ]
  },
  {
   "cell_type": "code",
   "execution_count": 35,
   "metadata": {},
   "outputs": [
    {
     "name": "stdout",
     "output_type": "stream",
     "text": [
      "Classification_report:\n",
      "\n",
      "                      precision    recall  f1-score   support\n",
      "\n",
      "             Asphalt       0.99      0.97      0.98      1658\n",
      "             Meadows       0.99      0.97      0.98      4662\n",
      "              Gravel       0.89      0.88      0.88       525\n",
      "               Trees       0.98      0.99      0.99       766\n",
      "Painted metal sheets       1.00      1.00      1.00       336\n",
      "           Bare Soil       0.92      0.98      0.95      1257\n",
      "             Bitumen       0.93      0.99      0.96       332\n",
      "Sels-Blocking Bricks       0.90      0.93      0.91       921\n",
      "             Shadows       0.99      1.00      1.00       237\n",
      "\n",
      "            accuracy                           0.97     10694\n",
      "           macro avg       0.96      0.97      0.96     10694\n",
      "        weighted avg       0.97      0.97      0.97     10694\n",
      "\n",
      "\n",
      "Confusion_matrix :\n",
      "\n",
      "[[1603    0    6    0    0    3   23   23    0]\n",
      " [   2 4538    0   12    0  103    0    7    0]\n",
      " [   1    0  461    0    0    0    0   63    0]\n",
      " [   0    5    0  757    0    2    0    0    2]\n",
      " [   0    0    0    0  336    0    0    0    0]\n",
      " [   0   17    0    0    0 1236    0    4    0]\n",
      " [   2    0    0    0    0    0  330    0    0]\n",
      " [  12    2   50    1    0    3    0  853    0]\n",
      " [   0    0    0    0    0    0    0    0  237]]\n",
      "\n",
      "Kappa value : 0.957688573541383\n",
      "\n",
      "Overall accuracy : 0.9677791151677348\n",
      "\n",
      "Average_accuracy : 0.9679259657859802\n",
      "\n"
     ]
    }
   ],
   "source": [
    "# Using the pretrained model make predictions and print the results into a report\n",
    "classification, confusion,  kappa, overall_accuracy, Average_accuracy = reports(X_test,y_test)\n",
    "print('Classification_report:\\n')\n",
    "print('{}\\n'.format(classification))\n",
    "print('Confusion_matrix :\\n')\n",
    "print('{}\\n'.format(confusion))\n",
    "print('Kappa value : {}\\n'.format(kappa))\n",
    "print('Overall accuracy : {}\\n'.format(overall_accuracy))\n",
    "print('Average_accuracy : {}\\n'.format(Average_accuracy))"
   ]
  },
  {
   "cell_type": "code",
   "execution_count": 36,
   "metadata": {},
   "outputs": [],
   "source": [
    "# load the original image\n",
    "Dataset, GroundTruth = loadPaviaUData()"
   ]
  },
  {
   "cell_type": "code",
   "execution_count": 37,
   "metadata": {},
   "outputs": [],
   "source": [
    "Dataset,pca = applyPCA(Dataset,numPCAcomponents)"
   ]
  },
  {
   "cell_type": "code",
   "execution_count": 39,
   "metadata": {},
   "outputs": [],
   "source": [
    "height = GroundTruth.shape[0]\n",
    "width = GroundTruth.shape[1]\n",
    "PATCH_SIZE = windowSize\n",
    "numPCAcomponents = numPCAcomponents"
   ]
  },
  {
   "cell_type": "code",
   "execution_count": 41,
   "metadata": {},
   "outputs": [],
   "source": [
    "# calculate the predicted image\n",
    "outputs = np.zeros((height,width))\n",
    "for i in range(height-PATCH_SIZE+1):\n",
    "    for j in range(width-PATCH_SIZE+1):\n",
    "        target = GroundTruth[int(i+PATCH_SIZE/2), int(j+PATCH_SIZE/2)]\n",
    "        if target == 0 :\n",
    "            continue\n",
    "        else :\n",
    "            image_patch=Patch(Dataset,i,j)\n",
    "            #print (image_patch.shape)\n",
    "            X_test_image = image_patch.reshape(1,image_patch.shape[2],image_patch.shape[0],image_patch.shape[1]).astype('float32')                                   \n",
    "            prediction = (model.predict_classes(X_test_image))                         \n",
    "            outputs[int(i+PATCH_SIZE/2)][int(j+PATCH_SIZE/2)] = prediction+1"
   ]
  },
  {
   "cell_type": "code",
   "execution_count": 42,
   "metadata": {},
   "outputs": [
    {
     "data": {
      "image/png": "[encoded data removed]",
      "text/plain": [
       "<Figure size 360x360 with 1 Axes>"
      ]
     },
     "metadata": {
      "needs_background": "light"
     },
     "output_type": "display_data"
    }
   ],
   "source": [
    "# Plot the Ground Truth Image\n",
    "ground_truth = spectral.imshow(classes = GroundTruth,figsize =(5,5))\n",
    "plt.title('Classification map of GroundTruth')\n",
    "plt.colorbar()"
   ]
  },
  {
   "cell_type": "code",
   "execution_count": 43,
   "metadata": {},
   "outputs": [
    {
     "data": {
      "image/png": "[encoded data removed]",
      "text/plain": [
       "<Figure size 360x360 with 1 Axes>"
      ]
     },
     "metadata": {
      "needs_background": "light"
     },
     "output_type": "display_data"
    }
   ],
   "source": [
    "# Plot the Predicted image\n",
    "predict_image = spectral.imshow(classes = outputs.astype(int),figsize =(5,5))\n",
    "plt.title('Predicted Classification map by CNN')\n",
    "plt.colorbar()"
   ]
  },
  {
   "cell_type": "code",
   "execution_count": 44,
   "metadata": {},
   "outputs": [],
   "source": [
    "from tqdm import tqdm\n",
    "import pandas as pd\n",
    "def extract_pixels(dataset, ground_truth):\n",
    "    df = pd.DataFrame()\n",
    "    for i in tqdm(range(dataset.shape[2])):\n",
    "        df = pd.concat([df, pd.DataFrame(dataset[:, :, i].ravel())], axis=1)\n",
    "    df = pd.concat([df, pd.DataFrame(ground_truth.ravel())], axis=1)\n",
    "    df.columns = [f'band-{i}' for i in range(1, 1+dataset.shape[2])]+['class']\n",
    "    return df"
   ]
  },
  {
   "cell_type": "code",
   "execution_count": 45,
   "metadata": {},
   "outputs": [
    {
     "name": "stderr",
     "output_type": "stream",
     "text": [
      "100%|██████████████████████████████████████████████████████████████████████████████████| 30/30 [00:02<00:00, 12.85it/s]\n"
     ]
    }
   ],
   "source": [
    "df = extract_pixels(Dataset,GroundTruth)"
   ]
  },
  {
   "cell_type": "code",
   "execution_count": 46,
   "metadata": {},
   "outputs": [],
   "source": [
    "df.to_csv('Dataset.csv', index=False)"
   ]
  },
  {
   "cell_type": "code",
   "execution_count": 47,
   "metadata": {},
   "outputs": [],
   "source": [
    "df = pd.read_csv('Dataset.csv')"
   ]
  },
  {
   "cell_type": "code",
   "execution_count": 48,
   "metadata": {},
   "outputs": [
    {
     "data": {
      "text/html": [
       "<div>\n",
       "<style scoped>\n",
       "    .dataframe tbody tr th:only-of-type {\n",
       "        vertical-align: middle;\n",
       "    }\n",
       "\n",
       "    .dataframe tbody tr th {\n",
       "        vertical-align: top;\n",
       "    }\n",
       "\n",
       "    .dataframe thead th {\n",
       "        text-align: right;\n",
       "    }\n",
       "</style>\n",
       "<table border=\"1\" class=\"dataframe\">\n",
       "  <thead>\n",
       "    <tr style=\"text-align: right;\">\n",
       "      <th></th>\n",
       "      <th>band-1</th>\n",
       "      <th>band-2</th>\n",
       "      <th>band-3</th>\n",
       "      <th>band-4</th>\n",
       "      <th>band-5</th>\n",
       "      <th>band-6</th>\n",
       "      <th>band-7</th>\n",
       "      <th>band-8</th>\n",
       "      <th>band-9</th>\n",
       "      <th>band-10</th>\n",
       "      <th>...</th>\n",
       "      <th>band-22</th>\n",
       "      <th>band-23</th>\n",
       "      <th>band-24</th>\n",
       "      <th>band-25</th>\n",
       "      <th>band-26</th>\n",
       "      <th>band-27</th>\n",
       "      <th>band-28</th>\n",
       "      <th>band-29</th>\n",
       "      <th>band-30</th>\n",
       "      <th>class</th>\n",
       "    </tr>\n",
       "  </thead>\n",
       "  <tbody>\n",
       "    <tr>\n",
       "      <th>0</th>\n",
       "      <td>-0.920134</td>\n",
       "      <td>1.542995</td>\n",
       "      <td>0.992466</td>\n",
       "      <td>1.019944</td>\n",
       "      <td>-0.774048</td>\n",
       "      <td>-2.695414</td>\n",
       "      <td>1.140214</td>\n",
       "      <td>1.454452</td>\n",
       "      <td>-1.810544</td>\n",
       "      <td>1.905855</td>\n",
       "      <td>...</td>\n",
       "      <td>-0.612583</td>\n",
       "      <td>0.643593</td>\n",
       "      <td>0.894020</td>\n",
       "      <td>0.301778</td>\n",
       "      <td>0.860657</td>\n",
       "      <td>0.948755</td>\n",
       "      <td>-0.367806</td>\n",
       "      <td>-0.096344</td>\n",
       "      <td>-1.297209</td>\n",
       "      <td>0</td>\n",
       "    </tr>\n",
       "    <tr>\n",
       "      <th>1</th>\n",
       "      <td>-1.086655</td>\n",
       "      <td>0.717241</td>\n",
       "      <td>0.947675</td>\n",
       "      <td>0.384608</td>\n",
       "      <td>-1.307291</td>\n",
       "      <td>-1.605801</td>\n",
       "      <td>1.411176</td>\n",
       "      <td>0.978857</td>\n",
       "      <td>-1.824406</td>\n",
       "      <td>1.370275</td>\n",
       "      <td>...</td>\n",
       "      <td>0.092762</td>\n",
       "      <td>0.542794</td>\n",
       "      <td>0.056056</td>\n",
       "      <td>-0.360312</td>\n",
       "      <td>0.642724</td>\n",
       "      <td>-0.834398</td>\n",
       "      <td>-1.484430</td>\n",
       "      <td>-0.647981</td>\n",
       "      <td>0.824532</td>\n",
       "      <td>0</td>\n",
       "    </tr>\n",
       "    <tr>\n",
       "      <th>2</th>\n",
       "      <td>-1.288945</td>\n",
       "      <td>0.263153</td>\n",
       "      <td>0.907275</td>\n",
       "      <td>1.019979</td>\n",
       "      <td>0.113350</td>\n",
       "      <td>-1.814865</td>\n",
       "      <td>-0.544383</td>\n",
       "      <td>0.046225</td>\n",
       "      <td>-1.337938</td>\n",
       "      <td>0.107269</td>\n",
       "      <td>...</td>\n",
       "      <td>-0.292814</td>\n",
       "      <td>0.470057</td>\n",
       "      <td>0.104593</td>\n",
       "      <td>0.976036</td>\n",
       "      <td>0.171821</td>\n",
       "      <td>-0.028809</td>\n",
       "      <td>0.825754</td>\n",
       "      <td>-0.170735</td>\n",
       "      <td>-0.821857</td>\n",
       "      <td>0</td>\n",
       "    </tr>\n",
       "    <tr>\n",
       "      <th>3</th>\n",
       "      <td>-1.173133</td>\n",
       "      <td>0.771808</td>\n",
       "      <td>0.729298</td>\n",
       "      <td>1.235721</td>\n",
       "      <td>-0.900821</td>\n",
       "      <td>-1.325197</td>\n",
       "      <td>0.849179</td>\n",
       "      <td>-0.015451</td>\n",
       "      <td>-1.416055</td>\n",
       "      <td>1.432525</td>\n",
       "      <td>...</td>\n",
       "      <td>-1.278490</td>\n",
       "      <td>0.369815</td>\n",
       "      <td>-0.096958</td>\n",
       "      <td>-1.213936</td>\n",
       "      <td>1.003311</td>\n",
       "      <td>-0.320932</td>\n",
       "      <td>0.452404</td>\n",
       "      <td>-0.051617</td>\n",
       "      <td>-0.495302</td>\n",
       "      <td>0</td>\n",
       "    </tr>\n",
       "    <tr>\n",
       "      <th>4</th>\n",
       "      <td>-1.160750</td>\n",
       "      <td>0.489303</td>\n",
       "      <td>0.670962</td>\n",
       "      <td>0.067778</td>\n",
       "      <td>-0.580534</td>\n",
       "      <td>-0.611783</td>\n",
       "      <td>-0.276626</td>\n",
       "      <td>-0.511947</td>\n",
       "      <td>-0.801633</td>\n",
       "      <td>1.632529</td>\n",
       "      <td>...</td>\n",
       "      <td>0.303518</td>\n",
       "      <td>-0.148666</td>\n",
       "      <td>0.306018</td>\n",
       "      <td>0.692015</td>\n",
       "      <td>-1.876743</td>\n",
       "      <td>0.437166</td>\n",
       "      <td>-1.211834</td>\n",
       "      <td>-0.315729</td>\n",
       "      <td>0.260082</td>\n",
       "      <td>0</td>\n",
       "    </tr>\n",
       "  </tbody>\n",
       "</table>\n",
       "<p>5 rows × 31 columns</p>\n",
       "</div>"
      ],
      "text/plain": [
       "     band-1    band-2    band-3    band-4    band-5    band-6    band-7  \\\n",
       "0 -0.920134  1.542995  0.992466  1.019944 -0.774048 -2.695414  1.140214   \n",
       "1 -1.086655  0.717241  0.947675  0.384608 -1.307291 -1.605801  1.411176   \n",
       "2 -1.288945  0.263153  0.907275  1.019979  0.113350 -1.814865 -0.544383   \n",
       "3 -1.173133  0.771808  0.729298  1.235721 -0.900821 -1.325197  0.849179   \n",
       "4 -1.160750  0.489303  0.670962  0.067778 -0.580534 -0.611783 -0.276626   \n",
       "\n",
       "     band-8    band-9   band-10  ...   band-22   band-23   band-24   band-25  \\\n",
       "0  1.454452 -1.810544  1.905855  ... -0.612583  0.643593  0.894020  0.301778   \n",
       "1  0.978857 -1.824406  1.370275  ...  0.092762  0.542794  0.056056 -0.360312   \n",
       "2  0.046225 -1.337938  0.107269  ... -0.292814  0.470057  0.104593  0.976036   \n",
       "3 -0.015451 -1.416055  1.432525  ... -1.278490  0.369815 -0.096958 -1.213936   \n",
       "4 -0.511947 -0.801633  1.632529  ...  0.303518 -0.148666  0.306018  0.692015   \n",
       "\n",
       "    band-26   band-27   band-28   band-29   band-30  class  \n",
       "0  0.860657  0.948755 -0.367806 -0.096344 -1.297209      0  \n",
       "1  0.642724 -0.834398 -1.484430 -0.647981  0.824532      0  \n",
       "2  0.171821 -0.028809  0.825754 -0.170735 -0.821857      0  \n",
       "3  1.003311 -0.320932  0.452404 -0.051617 -0.495302      0  \n",
       "4 -1.876743  0.437166 -1.211834 -0.315729  0.260082      0  \n",
       "\n",
       "[5 rows x 31 columns]"
      ]
     },
     "execution_count": 48,
     "metadata": {},
     "output_type": "execute_result"
    }
   ],
   "source": [
    "df.head()"
   ]
  },
  {
   "cell_type": "code",
   "execution_count": 49,
   "metadata": {},
   "outputs": [
    {
     "data": {
      "text/html": [
       "<div>\n",
       "<style scoped>\n",
       "    .dataframe tbody tr th:only-of-type {\n",
       "        vertical-align: middle;\n",
       "    }\n",
       "\n",
       "    .dataframe tbody tr th {\n",
       "        vertical-align: top;\n",
       "    }\n",
       "\n",
       "    .dataframe thead th {\n",
       "        text-align: right;\n",
       "    }\n",
       "</style>\n",
       "<table border=\"1\" class=\"dataframe\">\n",
       "  <thead>\n",
       "    <tr style=\"text-align: right;\">\n",
       "      <th></th>\n",
       "      <th>band-1</th>\n",
       "      <th>band-2</th>\n",
       "      <th>band-3</th>\n",
       "      <th>band-4</th>\n",
       "      <th>band-5</th>\n",
       "      <th>band-6</th>\n",
       "      <th>band-7</th>\n",
       "      <th>band-8</th>\n",
       "      <th>band-9</th>\n",
       "      <th>band-10</th>\n",
       "      <th>...</th>\n",
       "      <th>band-22</th>\n",
       "      <th>band-23</th>\n",
       "      <th>band-24</th>\n",
       "      <th>band-25</th>\n",
       "      <th>band-26</th>\n",
       "      <th>band-27</th>\n",
       "      <th>band-28</th>\n",
       "      <th>band-29</th>\n",
       "      <th>band-30</th>\n",
       "      <th>class</th>\n",
       "    </tr>\n",
       "  </thead>\n",
       "  <tbody>\n",
       "    <tr>\n",
       "      <th>207395</th>\n",
       "      <td>-0.770975</td>\n",
       "      <td>0.047431</td>\n",
       "      <td>-0.024353</td>\n",
       "      <td>-0.039267</td>\n",
       "      <td>0.347382</td>\n",
       "      <td>0.306568</td>\n",
       "      <td>-0.094786</td>\n",
       "      <td>-0.296737</td>\n",
       "      <td>-0.156745</td>\n",
       "      <td>-0.912093</td>\n",
       "      <td>...</td>\n",
       "      <td>0.348055</td>\n",
       "      <td>-0.441291</td>\n",
       "      <td>0.319767</td>\n",
       "      <td>0.677104</td>\n",
       "      <td>0.162559</td>\n",
       "      <td>0.854683</td>\n",
       "      <td>0.977026</td>\n",
       "      <td>-0.172818</td>\n",
       "      <td>0.715302</td>\n",
       "      <td>0</td>\n",
       "    </tr>\n",
       "    <tr>\n",
       "      <th>207396</th>\n",
       "      <td>-0.716873</td>\n",
       "      <td>0.155604</td>\n",
       "      <td>0.129100</td>\n",
       "      <td>0.138532</td>\n",
       "      <td>0.410377</td>\n",
       "      <td>0.317541</td>\n",
       "      <td>-0.081034</td>\n",
       "      <td>-1.595349</td>\n",
       "      <td>-0.440342</td>\n",
       "      <td>-1.706435</td>\n",
       "      <td>...</td>\n",
       "      <td>0.375864</td>\n",
       "      <td>0.416711</td>\n",
       "      <td>-0.273667</td>\n",
       "      <td>0.097429</td>\n",
       "      <td>-0.462823</td>\n",
       "      <td>1.764673</td>\n",
       "      <td>-0.546483</td>\n",
       "      <td>-0.337229</td>\n",
       "      <td>-0.854291</td>\n",
       "      <td>0</td>\n",
       "    </tr>\n",
       "    <tr>\n",
       "      <th>207397</th>\n",
       "      <td>-0.710181</td>\n",
       "      <td>0.373100</td>\n",
       "      <td>0.163947</td>\n",
       "      <td>-0.715615</td>\n",
       "      <td>0.341184</td>\n",
       "      <td>0.686904</td>\n",
       "      <td>-0.030147</td>\n",
       "      <td>-0.554701</td>\n",
       "      <td>0.509995</td>\n",
       "      <td>-0.441717</td>\n",
       "      <td>...</td>\n",
       "      <td>-0.104236</td>\n",
       "      <td>0.590469</td>\n",
       "      <td>-0.881546</td>\n",
       "      <td>-0.029832</td>\n",
       "      <td>-0.141225</td>\n",
       "      <td>-0.158649</td>\n",
       "      <td>0.115054</td>\n",
       "      <td>-0.283687</td>\n",
       "      <td>-1.335424</td>\n",
       "      <td>0</td>\n",
       "    </tr>\n",
       "    <tr>\n",
       "      <th>207398</th>\n",
       "      <td>-0.722259</td>\n",
       "      <td>0.279649</td>\n",
       "      <td>0.323812</td>\n",
       "      <td>-0.314122</td>\n",
       "      <td>-0.455909</td>\n",
       "      <td>0.932808</td>\n",
       "      <td>-0.129387</td>\n",
       "      <td>-1.077168</td>\n",
       "      <td>0.145284</td>\n",
       "      <td>-1.327086</td>\n",
       "      <td>...</td>\n",
       "      <td>1.282621</td>\n",
       "      <td>-0.256876</td>\n",
       "      <td>0.060861</td>\n",
       "      <td>0.060841</td>\n",
       "      <td>-0.361786</td>\n",
       "      <td>0.692921</td>\n",
       "      <td>-0.169507</td>\n",
       "      <td>-0.076699</td>\n",
       "      <td>-1.639181</td>\n",
       "      <td>0</td>\n",
       "    </tr>\n",
       "    <tr>\n",
       "      <th>207399</th>\n",
       "      <td>-0.730116</td>\n",
       "      <td>0.495178</td>\n",
       "      <td>0.294649</td>\n",
       "      <td>-0.110439</td>\n",
       "      <td>-0.520752</td>\n",
       "      <td>0.848315</td>\n",
       "      <td>-0.754808</td>\n",
       "      <td>0.484016</td>\n",
       "      <td>0.571128</td>\n",
       "      <td>-0.670774</td>\n",
       "      <td>...</td>\n",
       "      <td>-1.008317</td>\n",
       "      <td>0.880688</td>\n",
       "      <td>-0.030159</td>\n",
       "      <td>-0.287177</td>\n",
       "      <td>0.642240</td>\n",
       "      <td>-0.848415</td>\n",
       "      <td>0.752263</td>\n",
       "      <td>0.207435</td>\n",
       "      <td>0.603852</td>\n",
       "      <td>0</td>\n",
       "    </tr>\n",
       "  </tbody>\n",
       "</table>\n",
       "<p>5 rows × 31 columns</p>\n",
       "</div>"
      ],
      "text/plain": [
       "          band-1    band-2    band-3    band-4    band-5    band-6    band-7  \\\n",
       "207395 -0.770975  0.047431 -0.024353 -0.039267  0.347382  0.306568 -0.094786   \n",
       "207396 -0.716873  0.155604  0.129100  0.138532  0.410377  0.317541 -0.081034   \n",
       "207397 -0.710181  0.373100  0.163947 -0.715615  0.341184  0.686904 -0.030147   \n",
       "207398 -0.722259  0.279649  0.323812 -0.314122 -0.455909  0.932808 -0.129387   \n",
       "207399 -0.730116  0.495178  0.294649 -0.110439 -0.520752  0.848315 -0.754808   \n",
       "\n",
       "          band-8    band-9   band-10  ...   band-22   band-23   band-24  \\\n",
       "207395 -0.296737 -0.156745 -0.912093  ...  0.348055 -0.441291  0.319767   \n",
       "207396 -1.595349 -0.440342 -1.706435  ...  0.375864  0.416711 -0.273667   \n",
       "207397 -0.554701  0.509995 -0.441717  ... -0.104236  0.590469 -0.881546   \n",
       "207398 -1.077168  0.145284 -1.327086  ...  1.282621 -0.256876  0.060861   \n",
       "207399  0.484016  0.571128 -0.670774  ... -1.008317  0.880688 -0.030159   \n",
       "\n",
       "         band-25   band-26   band-27   band-28   band-29   band-30  class  \n",
       "207395  0.677104  0.162559  0.854683  0.977026 -0.172818  0.715302      0  \n",
       "207396  0.097429 -0.462823  1.764673 -0.546483 -0.337229 -0.854291      0  \n",
       "207397 -0.029832 -0.141225 -0.158649  0.115054 -0.283687 -1.335424      0  \n",
       "207398  0.060841 -0.361786  0.692921 -0.169507 -0.076699 -1.639181      0  \n",
       "207399 -0.287177  0.642240 -0.848415  0.752263  0.207435  0.603852      0  \n",
       "\n",
       "[5 rows x 31 columns]"
      ]
     },
     "execution_count": 49,
     "metadata": {},
     "output_type": "execute_result"
    }
   ],
   "source": [
    "df.tail()"
   ]
  },
  {
   "cell_type": "code",
   "execution_count": 50,
   "metadata": {},
   "outputs": [
    {
     "data": {
      "text/plain": [
       "band-1     207400\n",
       "band-2     207400\n",
       "band-3     207400\n",
       "band-4     207400\n",
       "band-5     207400\n",
       "band-6     207400\n",
       "band-7     207400\n",
       "band-8     207400\n",
       "band-9     207400\n",
       "band-10    207400\n",
       "band-11    207400\n",
       "band-12    207400\n",
       "band-13    207400\n",
       "band-14    207400\n",
       "band-15    207400\n",
       "band-16    207400\n",
       "band-17    207400\n",
       "band-18    207400\n",
       "band-19    207400\n",
       "band-20    207400\n",
       "band-21    207400\n",
       "band-22    207400\n",
       "band-23    207400\n",
       "band-24    207400\n",
       "band-25    207400\n",
       "band-26    207400\n",
       "band-27    207400\n",
       "band-28    207400\n",
       "band-29    207400\n",
       "band-30    207400\n",
       "class      207400\n",
       "dtype: int64"
      ]
     },
     "execution_count": 50,
     "metadata": {},
     "output_type": "execute_result"
    }
   ],
   "source": [
    "df.count()"
   ]
  },
  {
   "cell_type": "code",
   "execution_count": 51,
   "metadata": {},
   "outputs": [],
   "source": [
    "Dataset = df.iloc[:, :-1].values\n",
    "\n",
    "GroundTruth = df.iloc[:, -1].values"
   ]
  },
  {
   "cell_type": "code",
   "execution_count": 52,
   "metadata": {},
   "outputs": [
    {
     "data": {
      "text/plain": [
       "((207400, 30), (207400,))"
      ]
     },
     "execution_count": 52,
     "metadata": {},
     "output_type": "execute_result"
    }
   ],
   "source": [
    "Dataset.shape, GroundTruth.shape"
   ]
  },
  {
   "cell_type": "code",
   "execution_count": 55,
   "metadata": {},
   "outputs": [],
   "source": [
    "from matplotlib import pyplot as plt"
   ]
  },
  {
   "cell_type": "code",
   "execution_count": 56,
   "metadata": {},
   "outputs": [],
   "source": [
    "def plot_signature(df):\n",
    "    plt.figure(figsize=(12, 6))\n",
    "    pixel_no = np.random.randint(df.shape[0])\n",
    "    plt.plot(range(1, 31), df.iloc[pixel_no, :-1].values.tolist(), 'b--', label= f'Class - {df.iloc[pixel_no, -1]}')\n",
    "    plt.legend()\n",
    "    plt.title(f'Pixel({pixel_no}) signature', fontsize=14)\n",
    "    plt.xlabel('Band Number', fontsize=14)\n",
    "    plt.ylabel('Pixel Intensity', fontsize=14)\n",
    "    plt.show()"
   ]
  },
  {
   "cell_type": "code",
   "execution_count": 57,
   "metadata": {},
   "outputs": [
    {
     "data": {
      "image/png": "[encoded data removed]",
      "text/plain": [
       "<Figure size 864x432 with 1 Axes>"
      ]
     },
     "metadata": {
      "needs_background": "light"
     },
     "output_type": "display_data"
    }
   ],
   "source": [
    "plot_signature(df)"
   ]
  },
  {
   "cell_type": "code",
   "execution_count": 58,
   "metadata": {},
   "outputs": [
    {
     "name": "stdout",
     "output_type": "stream",
     "text": [
      "Unique Class Labels: [0 1 4 2 8 5 9 6 3 7]\n"
     ]
    }
   ],
   "source": [
    "print(f\"Unique Class Labels: {df.loc[:, 'class'].unique()}\")"
   ]
  },
  {
   "cell_type": "code",
   "execution_count": 59,
   "metadata": {},
   "outputs": [
    {
     "data": {
      "text/plain": [
       "0    164624\n",
       "2     18649\n",
       "1      6631\n",
       "6      5029\n",
       "8      3682\n",
       "4      3064\n",
       "3      2099\n",
       "5      1345\n",
       "7      1330\n",
       "9       947\n",
       "Name: class, dtype: int64"
      ]
     },
     "execution_count": 59,
     "metadata": {},
     "output_type": "execute_result"
    }
   ],
   "source": [
    "df.loc[:, 'class'].value_counts()"
   ]
  },
  {
   "cell_type": "code",
   "execution_count": 60,
   "metadata": {},
   "outputs": [
    {
     "data": {
      "text/html": [
       "<div>\n",
       "<style scoped>\n",
       "    .dataframe tbody tr th:only-of-type {\n",
       "        vertical-align: middle;\n",
       "    }\n",
       "\n",
       "    .dataframe tbody tr th {\n",
       "        vertical-align: top;\n",
       "    }\n",
       "\n",
       "    .dataframe thead th {\n",
       "        text-align: right;\n",
       "    }\n",
       "</style>\n",
       "<table border=\"1\" class=\"dataframe\">\n",
       "  <thead>\n",
       "    <tr style=\"text-align: right;\">\n",
       "      <th></th>\n",
       "      <th>band-1</th>\n",
       "      <th>band-2</th>\n",
       "      <th>band-3</th>\n",
       "      <th>band-4</th>\n",
       "      <th>band-5</th>\n",
       "      <th>band-6</th>\n",
       "      <th>band-7</th>\n",
       "      <th>band-8</th>\n",
       "      <th>band-9</th>\n",
       "      <th>band-10</th>\n",
       "      <th>...</th>\n",
       "      <th>band-22</th>\n",
       "      <th>band-23</th>\n",
       "      <th>band-24</th>\n",
       "      <th>band-25</th>\n",
       "      <th>band-26</th>\n",
       "      <th>band-27</th>\n",
       "      <th>band-28</th>\n",
       "      <th>band-29</th>\n",
       "      <th>band-30</th>\n",
       "      <th>class</th>\n",
       "    </tr>\n",
       "  </thead>\n",
       "  <tbody>\n",
       "    <tr>\n",
       "      <th>49432</th>\n",
       "      <td>5.473765</td>\n",
       "      <td>-0.333763</td>\n",
       "      <td>7.919475</td>\n",
       "      <td>-0.107699</td>\n",
       "      <td>5.150626</td>\n",
       "      <td>3.375921</td>\n",
       "      <td>-0.471460</td>\n",
       "      <td>2.163552</td>\n",
       "      <td>-2.589462</td>\n",
       "      <td>0.318156</td>\n",
       "      <td>...</td>\n",
       "      <td>-0.616124</td>\n",
       "      <td>1.409804</td>\n",
       "      <td>-1.359548</td>\n",
       "      <td>-0.158163</td>\n",
       "      <td>-0.120589</td>\n",
       "      <td>-1.172246</td>\n",
       "      <td>-0.809122</td>\n",
       "      <td>-0.994118</td>\n",
       "      <td>-1.891036</td>\n",
       "      <td>5</td>\n",
       "    </tr>\n",
       "    <tr>\n",
       "      <th>49769</th>\n",
       "      <td>5.338089</td>\n",
       "      <td>-0.257692</td>\n",
       "      <td>7.487268</td>\n",
       "      <td>-0.252586</td>\n",
       "      <td>5.022560</td>\n",
       "      <td>3.045689</td>\n",
       "      <td>-2.067593</td>\n",
       "      <td>1.745040</td>\n",
       "      <td>-3.653726</td>\n",
       "      <td>-0.558318</td>\n",
       "      <td>...</td>\n",
       "      <td>0.483332</td>\n",
       "      <td>0.638860</td>\n",
       "      <td>-0.599522</td>\n",
       "      <td>-0.402338</td>\n",
       "      <td>1.404153</td>\n",
       "      <td>0.515001</td>\n",
       "      <td>-1.569584</td>\n",
       "      <td>1.976447</td>\n",
       "      <td>2.441379</td>\n",
       "      <td>5</td>\n",
       "    </tr>\n",
       "    <tr>\n",
       "      <th>49770</th>\n",
       "      <td>5.523727</td>\n",
       "      <td>-0.333338</td>\n",
       "      <td>8.069374</td>\n",
       "      <td>0.616138</td>\n",
       "      <td>4.767682</td>\n",
       "      <td>3.223675</td>\n",
       "      <td>-2.128807</td>\n",
       "      <td>2.285339</td>\n",
       "      <td>-1.761922</td>\n",
       "      <td>0.722875</td>\n",
       "      <td>...</td>\n",
       "      <td>-0.923050</td>\n",
       "      <td>0.849008</td>\n",
       "      <td>0.325243</td>\n",
       "      <td>-1.355275</td>\n",
       "      <td>3.131137</td>\n",
       "      <td>-1.186038</td>\n",
       "      <td>-0.498540</td>\n",
       "      <td>-1.139750</td>\n",
       "      <td>-0.915302</td>\n",
       "      <td>5</td>\n",
       "    </tr>\n",
       "    <tr>\n",
       "      <th>49771</th>\n",
       "      <td>5.528564</td>\n",
       "      <td>-0.330620</td>\n",
       "      <td>8.043535</td>\n",
       "      <td>0.168584</td>\n",
       "      <td>5.481406</td>\n",
       "      <td>3.197497</td>\n",
       "      <td>-0.394679</td>\n",
       "      <td>1.530300</td>\n",
       "      <td>-1.525528</td>\n",
       "      <td>0.858789</td>\n",
       "      <td>...</td>\n",
       "      <td>-1.315183</td>\n",
       "      <td>1.344568</td>\n",
       "      <td>0.999535</td>\n",
       "      <td>2.612432</td>\n",
       "      <td>2.081715</td>\n",
       "      <td>-2.514774</td>\n",
       "      <td>-2.148045</td>\n",
       "      <td>-2.307433</td>\n",
       "      <td>-0.278768</td>\n",
       "      <td>5</td>\n",
       "    </tr>\n",
       "    <tr>\n",
       "      <th>49772</th>\n",
       "      <td>5.526334</td>\n",
       "      <td>-0.371601</td>\n",
       "      <td>8.053768</td>\n",
       "      <td>0.386579</td>\n",
       "      <td>4.805901</td>\n",
       "      <td>3.239905</td>\n",
       "      <td>-0.790677</td>\n",
       "      <td>2.611328</td>\n",
       "      <td>-1.280788</td>\n",
       "      <td>0.531532</td>\n",
       "      <td>...</td>\n",
       "      <td>-0.224098</td>\n",
       "      <td>0.310274</td>\n",
       "      <td>-0.779920</td>\n",
       "      <td>0.390289</td>\n",
       "      <td>1.121918</td>\n",
       "      <td>-3.336741</td>\n",
       "      <td>-1.118723</td>\n",
       "      <td>-0.628516</td>\n",
       "      <td>0.125785</td>\n",
       "      <td>5</td>\n",
       "    </tr>\n",
       "    <tr>\n",
       "      <th>...</th>\n",
       "      <td>...</td>\n",
       "      <td>...</td>\n",
       "      <td>...</td>\n",
       "      <td>...</td>\n",
       "      <td>...</td>\n",
       "      <td>...</td>\n",
       "      <td>...</td>\n",
       "      <td>...</td>\n",
       "      <td>...</td>\n",
       "      <td>...</td>\n",
       "      <td>...</td>\n",
       "      <td>...</td>\n",
       "      <td>...</td>\n",
       "      <td>...</td>\n",
       "      <td>...</td>\n",
       "      <td>...</td>\n",
       "      <td>...</td>\n",
       "      <td>...</td>\n",
       "      <td>...</td>\n",
       "      <td>...</td>\n",
       "      <td>...</td>\n",
       "    </tr>\n",
       "    <tr>\n",
       "      <th>87191</th>\n",
       "      <td>1.547211</td>\n",
       "      <td>-1.176612</td>\n",
       "      <td>4.143351</td>\n",
       "      <td>-0.202254</td>\n",
       "      <td>2.288876</td>\n",
       "      <td>1.630643</td>\n",
       "      <td>-0.592496</td>\n",
       "      <td>0.946423</td>\n",
       "      <td>-1.733664</td>\n",
       "      <td>-0.374670</td>\n",
       "      <td>...</td>\n",
       "      <td>0.094297</td>\n",
       "      <td>0.233040</td>\n",
       "      <td>0.389494</td>\n",
       "      <td>2.018213</td>\n",
       "      <td>0.428843</td>\n",
       "      <td>-0.174410</td>\n",
       "      <td>0.881477</td>\n",
       "      <td>-0.409232</td>\n",
       "      <td>3.578169</td>\n",
       "      <td>5</td>\n",
       "    </tr>\n",
       "    <tr>\n",
       "      <th>87192</th>\n",
       "      <td>1.556239</td>\n",
       "      <td>-1.175417</td>\n",
       "      <td>4.115517</td>\n",
       "      <td>0.604624</td>\n",
       "      <td>2.156464</td>\n",
       "      <td>1.544553</td>\n",
       "      <td>0.416941</td>\n",
       "      <td>0.251525</td>\n",
       "      <td>-1.355066</td>\n",
       "      <td>0.130006</td>\n",
       "      <td>...</td>\n",
       "      <td>-0.660210</td>\n",
       "      <td>1.299281</td>\n",
       "      <td>-0.714019</td>\n",
       "      <td>-2.385442</td>\n",
       "      <td>1.241083</td>\n",
       "      <td>-0.236612</td>\n",
       "      <td>-2.027397</td>\n",
       "      <td>1.701378</td>\n",
       "      <td>-1.419370</td>\n",
       "      <td>5</td>\n",
       "    </tr>\n",
       "    <tr>\n",
       "      <th>87529</th>\n",
       "      <td>1.502997</td>\n",
       "      <td>-1.101673</td>\n",
       "      <td>3.666236</td>\n",
       "      <td>-1.093412</td>\n",
       "      <td>2.827503</td>\n",
       "      <td>1.304733</td>\n",
       "      <td>0.280854</td>\n",
       "      <td>1.789211</td>\n",
       "      <td>-0.835092</td>\n",
       "      <td>-0.522595</td>\n",
       "      <td>...</td>\n",
       "      <td>0.695892</td>\n",
       "      <td>0.267541</td>\n",
       "      <td>2.215237</td>\n",
       "      <td>0.309823</td>\n",
       "      <td>0.015853</td>\n",
       "      <td>-0.989863</td>\n",
       "      <td>0.080615</td>\n",
       "      <td>-0.218571</td>\n",
       "      <td>1.067654</td>\n",
       "      <td>5</td>\n",
       "    </tr>\n",
       "    <tr>\n",
       "      <th>87530</th>\n",
       "      <td>1.567793</td>\n",
       "      <td>-1.243340</td>\n",
       "      <td>4.333702</td>\n",
       "      <td>0.275167</td>\n",
       "      <td>2.028385</td>\n",
       "      <td>1.669621</td>\n",
       "      <td>-0.602604</td>\n",
       "      <td>0.989234</td>\n",
       "      <td>-0.145559</td>\n",
       "      <td>-0.118842</td>\n",
       "      <td>...</td>\n",
       "      <td>-0.885521</td>\n",
       "      <td>0.698764</td>\n",
       "      <td>-1.570846</td>\n",
       "      <td>-0.303836</td>\n",
       "      <td>-1.400238</td>\n",
       "      <td>0.311686</td>\n",
       "      <td>-2.163281</td>\n",
       "      <td>-0.672872</td>\n",
       "      <td>-0.558671</td>\n",
       "      <td>5</td>\n",
       "    </tr>\n",
       "    <tr>\n",
       "      <th>87531</th>\n",
       "      <td>1.272060</td>\n",
       "      <td>-1.408630</td>\n",
       "      <td>4.185153</td>\n",
       "      <td>-0.422084</td>\n",
       "      <td>1.899092</td>\n",
       "      <td>1.445045</td>\n",
       "      <td>-0.196061</td>\n",
       "      <td>1.910264</td>\n",
       "      <td>-0.055709</td>\n",
       "      <td>-0.427270</td>\n",
       "      <td>...</td>\n",
       "      <td>-0.617619</td>\n",
       "      <td>0.950881</td>\n",
       "      <td>0.589916</td>\n",
       "      <td>0.854245</td>\n",
       "      <td>0.133202</td>\n",
       "      <td>-0.484847</td>\n",
       "      <td>-1.431517</td>\n",
       "      <td>-1.817624</td>\n",
       "      <td>-0.298696</td>\n",
       "      <td>5</td>\n",
       "    </tr>\n",
       "  </tbody>\n",
       "</table>\n",
       "<p>1345 rows × 31 columns</p>\n",
       "</div>"
      ],
      "text/plain": [
       "         band-1    band-2    band-3    band-4    band-5    band-6    band-7  \\\n",
       "49432  5.473765 -0.333763  7.919475 -0.107699  5.150626  3.375921 -0.471460   \n",
       "49769  5.338089 -0.257692  7.487268 -0.252586  5.022560  3.045689 -2.067593   \n",
       "49770  5.523727 -0.333338  8.069374  0.616138  4.767682  3.223675 -2.128807   \n",
       "49771  5.528564 -0.330620  8.043535  0.168584  5.481406  3.197497 -0.394679   \n",
       "49772  5.526334 -0.371601  8.053768  0.386579  4.805901  3.239905 -0.790677   \n",
       "...         ...       ...       ...       ...       ...       ...       ...   \n",
       "87191  1.547211 -1.176612  4.143351 -0.202254  2.288876  1.630643 -0.592496   \n",
       "87192  1.556239 -1.175417  4.115517  0.604624  2.156464  1.544553  0.416941   \n",
       "87529  1.502997 -1.101673  3.666236 -1.093412  2.827503  1.304733  0.280854   \n",
       "87530  1.567793 -1.243340  4.333702  0.275167  2.028385  1.669621 -0.602604   \n",
       "87531  1.272060 -1.408630  4.185153 -0.422084  1.899092  1.445045 -0.196061   \n",
       "\n",
       "         band-8    band-9   band-10  ...   band-22   band-23   band-24  \\\n",
       "49432  2.163552 -2.589462  0.318156  ... -0.616124  1.409804 -1.359548   \n",
       "49769  1.745040 -3.653726 -0.558318  ...  0.483332  0.638860 -0.599522   \n",
       "49770  2.285339 -1.761922  0.722875  ... -0.923050  0.849008  0.325243   \n",
       "49771  1.530300 -1.525528  0.858789  ... -1.315183  1.344568  0.999535   \n",
       "49772  2.611328 -1.280788  0.531532  ... -0.224098  0.310274 -0.779920   \n",
       "...         ...       ...       ...  ...       ...       ...       ...   \n",
       "87191  0.946423 -1.733664 -0.374670  ...  0.094297  0.233040  0.389494   \n",
       "87192  0.251525 -1.355066  0.130006  ... -0.660210  1.299281 -0.714019   \n",
       "87529  1.789211 -0.835092 -0.522595  ...  0.695892  0.267541  2.215237   \n",
       "87530  0.989234 -0.145559 -0.118842  ... -0.885521  0.698764 -1.570846   \n",
       "87531  1.910264 -0.055709 -0.427270  ... -0.617619  0.950881  0.589916   \n",
       "\n",
       "        band-25   band-26   band-27   band-28   band-29   band-30  class  \n",
       "49432 -0.158163 -0.120589 -1.172246 -0.809122 -0.994118 -1.891036      5  \n",
       "49769 -0.402338  1.404153  0.515001 -1.569584  1.976447  2.441379      5  \n",
       "49770 -1.355275  3.131137 -1.186038 -0.498540 -1.139750 -0.915302      5  \n",
       "49771  2.612432  2.081715 -2.514774 -2.148045 -2.307433 -0.278768      5  \n",
       "49772  0.390289  1.121918 -3.336741 -1.118723 -0.628516  0.125785      5  \n",
       "...         ...       ...       ...       ...       ...       ...    ...  \n",
       "87191  2.018213  0.428843 -0.174410  0.881477 -0.409232  3.578169      5  \n",
       "87192 -2.385442  1.241083 -0.236612 -2.027397  1.701378 -1.419370      5  \n",
       "87529  0.309823  0.015853 -0.989863  0.080615 -0.218571  1.067654      5  \n",
       "87530 -0.303836 -1.400238  0.311686 -2.163281 -0.672872 -0.558671      5  \n",
       "87531  0.854245  0.133202 -0.484847 -1.431517 -1.817624 -0.298696      5  \n",
       "\n",
       "[1345 rows x 31 columns]"
      ]
     },
     "execution_count": 60,
     "metadata": {},
     "output_type": "execute_result"
    }
   ],
   "source": [
    "df[df['class']== 5][0:2000]"
   ]
  },
  {
   "cell_type": "code",
   "execution_count": null,
   "metadata": {},
   "outputs": [],
   "source": []
  }
 ],
 "metadata": {
  "kernelspec": {
   "display_name": "Python 3",
   "language": "python",
   "name": "python3"
  },
  "language_info": {
   "codemirror_mode": {
    "name": "ipython",
    "version": 3
   },
   "file_extension": ".py",
   "mimetype": "text/x-python",
   "name": "python",
   "nbconvert_exporter": "python",
   "pygments_lexer": "ipython3",
   "version": "3.7.6"
  }
 },
 "nbformat": 4,
 "nbformat_minor": 2
}
