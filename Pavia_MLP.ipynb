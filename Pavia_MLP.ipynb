{
 "cells": [
  {
   "cell_type": "markdown",
   "metadata": {},
   "source": [
    "# Importing modules"
   ]
  },
  {
   "cell_type": "code",
   "execution_count": 1,
   "metadata": {},
   "outputs": [
    {
     "name": "stderr",
     "output_type": "stream",
     "text": [
      "Using TensorFlow backend.\n"
     ]
    }
   ],
   "source": [
    "import numpy as np\n",
    "from keras import models, layers, optimizers, metrics, losses, regularizers\n",
    "import img_util as util\n",
    "from scipy import io as sio\n",
    "import os\n",
    "from matplotlib import pyplot as plt"
   ]
  },
  {
   "cell_type": "markdown",
   "metadata": {},
   "source": [
    "# Loading Datasets"
   ]
  },
  {
   "cell_type": "code",
   "execution_count": 2,
   "metadata": {},
   "outputs": [],
   "source": [
    "def loadPaviaUData():\n",
    "    data_path = os.path.join('F:\\main_project\\Datasets')\n",
    "    data = sio.loadmat(os.path.join(data_path, 'PaviaU.mat'))['paviaU']\n",
    "    labels = sio.loadmat(os.path.join(data_path, 'PaviaU_gt.mat'))['paviaU_gt']\n",
    "    \n",
    "    return data, labels"
   ]
  },
  {
   "cell_type": "code",
   "execution_count": 3,
   "metadata": {},
   "outputs": [],
   "source": [
    "data_set, gt=loadPaviaUData()"
   ]
  },
  {
   "cell_type": "markdown",
   "metadata": {},
   "source": [
    "# Splitting the dataset"
   ]
  },
  {
   "cell_type": "code",
   "execution_count": 4,
   "metadata": {},
   "outputs": [
    {
     "name": "stdout",
     "output_type": "stream",
     "text": [
      "Number of training samples = 36354.\n",
      "Number of test samples = 6420.\n"
     ]
    }
   ],
   "source": [
    "train_fraction = 0.85\n",
    "rem_classes = [0]\n",
    "(train_rows, train_cols), (test_rows, test_cols) = util.data_split(gt,\n",
    "                                                                   train_fraction=train_fraction,\n",
    "                                                                   rem_classes=rem_classes)\n",
    "\n",
    "print('Number of training samples = {}.\\nNumber of test samples = {}.'.format(len(train_rows), len(test_rows)))"
   ]
  },
  {
   "cell_type": "markdown",
   "metadata": {},
   "source": [
    "A portion of training data can optionally be set aside for validation."
   ]
  },
  {
   "cell_type": "code",
   "execution_count": 5,
   "metadata": {},
   "outputs": [],
   "source": [
    "val_fraction = 0.05\n",
    "(train_rows_sub, train_cols_sub), (val_rows, val_cols) = util.val_split(\n",
    "        train_rows, train_cols, gt , val_fraction=val_fraction)"
   ]
  },
  {
   "cell_type": "code",
   "execution_count": 6,
   "metadata": {},
   "outputs": [
    {
     "data": {
      "text/plain": [
       "(610, 340, 75)"
      ]
     },
     "execution_count": 6,
     "metadata": {},
     "output_type": "execute_result"
    }
   ],
   "source": [
    "data_set= util.reduce_dim(img_data=data_set, n_components=75)\n",
    "data_set.shape"
   ]
  },
  {
   "cell_type": "markdown",
   "metadata": {},
   "source": [
    "# Creating input for MLP"
   ]
  },
  {
   "cell_type": "code",
   "execution_count": 7,
   "metadata": {},
   "outputs": [],
   "source": [
    "patch_size=1\n",
    "train_pixel_indices_sub = (train_rows_sub, train_cols_sub)\n",
    "val_pixel_indices = (val_rows, val_cols)\n",
    "test_pixel_indices = (test_rows, test_cols) \n",
    "catg_labels = np.unique([int(gt[idx[0],idx[1]]) for idx in zip(train_rows, train_cols)])\n",
    "int_to_vector_dict = util.label_2_one_hot(catg_labels) \n",
    "\n",
    "train_input_sub, y_train_sub = util.create_patch(\n",
    "        data_set=data_set,\n",
    "        gt=gt,\n",
    "        pixel_indices=train_pixel_indices_sub,\n",
    "        patch_size=patch_size,\n",
    "        label_vect_dict=int_to_vector_dict)\n",
    "\n",
    "val_input, y_val = util.create_patch(\n",
    "        data_set=data_set,\n",
    "        gt=gt,\n",
    "        pixel_indices=val_pixel_indices,\n",
    "        patch_size=patch_size,\n",
    "        label_vect_dict=int_to_vector_dict)\n",
    "\n",
    "test_input, y_test = util.create_patch(\n",
    "        data_set=data_set,\n",
    "        gt=gt,\n",
    "        pixel_indices=test_pixel_indices,\n",
    "        patch_size=patch_size,\n",
    "        label_vect_dict=int_to_vector_dict)"
   ]
  },
  {
   "cell_type": "markdown",
   "metadata": {},
   "source": [
    "# Creating an MLP neural network"
   ]
  },
  {
   "cell_type": "code",
   "execution_count": 8,
   "metadata": {},
   "outputs": [
    {
     "name": "stdout",
     "output_type": "stream",
     "text": [
      "Model: \"sequential_1\"\n",
      "_________________________________________________________________\n",
      "Layer (type)                 Output Shape              Param #   \n",
      "=================================================================\n",
      "dense_1 (Dense)              (None, 1, 1, 75)          5700      \n",
      "_________________________________________________________________\n",
      "flatten_1 (Flatten)          (None, 75)                0         \n",
      "_________________________________________________________________\n",
      "dense_2 (Dense)              (None, 256)               19456     \n",
      "_________________________________________________________________\n",
      "dropout_1 (Dropout)          (None, 256)               0         \n",
      "_________________________________________________________________\n",
      "dense_3 (Dense)              (None, 9)                 2313      \n",
      "=================================================================\n",
      "Total params: 27,469\n",
      "Trainable params: 27,469\n",
      "Non-trainable params: 0\n",
      "_________________________________________________________________\n"
     ]
    }
   ],
   "source": [
    "units_1 = 2**8\n",
    "drop_rate =0.35\n",
    "num_catg = len(catg_labels)\n",
    "input_shape = (patch_size, patch_size, data_set.shape[-1])\n",
    "\n",
    "# Building a MLP network model\n",
    "nn_model = models.Sequential()\n",
    "#\n",
    "# dense_input\n",
    "nn_model.add(layer=layers.Dense(units=data_set.shape[2], activation='relu',\n",
    "                                input_shape=input_shape))\n",
    "# flatten_1, changes input shape from (1,1,num_band) to (num_band,)\n",
    "nn_model.add(layer=layers.Flatten())\n",
    "# dense_1\n",
    "nn_model.add(layer=layers.Dense(units=units_1, activation='relu')) \n",
    "# dropout_1\n",
    "nn_model.add(layer=layers.Dropout(drop_rate))\n",
    "# dense_output\n",
    "nn_model.add(layer=layers.Dense(units=num_catg, activation='softmax'))\n",
    "\n",
    "nn_model.summary()"
   ]
  },
  {
   "cell_type": "markdown",
   "metadata": {},
   "source": [
    "# Training model"
   ]
  },
  {
   "cell_type": "code",
   "execution_count": 9,
   "metadata": {},
   "outputs": [
    {
     "data": {
      "text/plain": [
       "<keras.callbacks.callbacks.History at 0x19f26bce508>"
      ]
     },
     "execution_count": 9,
     "metadata": {},
     "output_type": "execute_result"
    }
   ],
   "source": [
    "lr = 1e-4\n",
    "batch_size = 2**3\n",
    "\n",
    "# Compiling the modele\n",
    "nn_model.compile(optimizer=optimizers.RMSprop(lr=lr),\n",
    "                 loss=losses.categorical_crossentropy,\n",
    "                 metrics=[metrics.categorical_accuracy])\n",
    "\n",
    "# Training the model\n",
    "nn_model.fit(x=train_input_sub, y=y_train_sub, batch_size=batch_size,\n",
    "                       epochs=15, validation_data=(val_input, y_val), verbose=False)"
   ]
  },
  {
   "cell_type": "markdown",
   "metadata": {},
   "source": [
    "# Model performance evaluation"
   ]
  },
  {
   "cell_type": "code",
   "execution_count": 10,
   "metadata": {},
   "outputs": [],
   "source": [
    "from sklearn.metrics import classification_report, confusion_matrix, cohen_kappa_score\n",
    "import spectral\n",
    "import matplotlib"
   ]
  },
  {
   "cell_type": "code",
   "execution_count": 11,
   "metadata": {},
   "outputs": [],
   "source": [
    "def reports (X_test,y_test):\n",
    "    Y_pred =nn_model.predict(X_test)\n",
    "    y_pred = np.argmax(Y_pred, axis=1)\n",
    "    target_names = ['Asphalt','Meadows','Gravel','Trees','Painted metal sheets','Bare Soil','Bitumen','Sels-Blocking Bricks','Shadows']\n",
    "    classification = classification_report(np.argmax(y_test, axis=1), y_pred, target_names=target_names)\n",
    "    confusion = confusion_matrix(np.argmax(y_test, axis=1), y_pred)\n",
    "    avgAcc=[]\n",
    "    classArray=[]\n",
    "    for c in range(len(confusion)):\n",
    "        recallSoc=confusion[c][c]/sum(confusion[c])\n",
    "        classArray+=[recallSoc]\n",
    "    avgAcc.append(sum(classArray)/len(classArray))\n",
    "    avg_accuracy=np.mean(avgAcc)\n",
    "    kappa = cohen_kappa_score(np.argmax(y_test, axis=1), y_pred)\n",
    "    overall_loss, overall_accu = nn_model.evaluate(X_test, y_test, verbose=False)\n",
    "    \n",
    "    \n",
    "    return classification, confusion, kappa,  overall_accu, avg_accuracy\n"
   ]
  },
  {
   "cell_type": "code",
   "execution_count": 12,
   "metadata": {},
   "outputs": [
    {
     "name": "stdout",
     "output_type": "stream",
     "text": [
      "Classification_report:\n",
      "\n",
      "                      precision    recall  f1-score   support\n",
      "\n",
      "             Asphalt       0.92      0.95      0.94       995\n",
      "             Meadows       0.98      0.98      0.98      2798\n",
      "              Gravel       0.87      0.66      0.75       315\n",
      "               Trees       0.94      0.97      0.95       460\n",
      "Painted metal sheets       1.00      1.00      1.00       202\n",
      "           Bare Soil       0.97      0.92      0.94       755\n",
      "             Bitumen       0.91      0.77      0.83       200\n",
      "Sels-Blocking Bricks       0.80      0.90      0.85       553\n",
      "             Shadows       1.00      0.99      1.00       142\n",
      "\n",
      "            accuracy                           0.94      6420\n",
      "           macro avg       0.93      0.90      0.91      6420\n",
      "        weighted avg       0.94      0.94      0.94      6420\n",
      "\n",
      "\n",
      "Confusion_matrix :\n",
      "\n",
      "[[ 950    2    1    0    0    1   15   26    0]\n",
      " [   0 2748    0   29    0   21    0    0    0]\n",
      " [  14    3  207    0    0    0    0   91    0]\n",
      " [   0   11    0  447    0    2    0    0    0]\n",
      " [   0    0    0    0  202    0    0    0    0]\n",
      " [   2   53    0    1    1  693    0    5    0]\n",
      " [  42    0    0    0    0    0  153    5    0]\n",
      " [  23    1   29    0    0    1    0  499    0]\n",
      " [   1    0    0    0    0    0    0    0  141]]\n",
      "\n",
      "Kappa value : 0.9213737991625259\n",
      "\n",
      "Overall accuracy : 0.940809965133667\n",
      "\n",
      "Average_accuracy : 0.9048861449746632\n",
      "\n"
     ]
    }
   ],
   "source": [
    "classification, confusion,  kappa, overall_accuracy, avg_accuracy = reports(test_input,y_test)\n",
    "print('Classification_report:\\n')\n",
    "print('{}\\n'.format(classification))\n",
    "print('Confusion_matrix :\\n')\n",
    "print('{}\\n'.format(confusion))\n",
    "print('Kappa value : {}\\n'.format(kappa))\n",
    "print('Overall accuracy : {}\\n'.format(overall_accuracy))\n",
    "print('Average_accuracy : {}\\n'.format(avg_accuracy))"
   ]
  },
  {
   "cell_type": "code",
   "execution_count": 13,
   "metadata": {},
   "outputs": [
    {
     "data": {
      "text/plain": [
       "Text(0.5, 1.0, 'Classification Map of GroundTruth')"
      ]
     },
     "execution_count": 13,
     "metadata": {},
     "output_type": "execute_result"
    },
    {
     "data": {
      "image/png": "[encoded data removed]",
      "text/plain": [
       "<Figure size 360x360 with 1 Axes>"
      ]
     },
     "metadata": {
      "needs_background": "light"
     },
     "output_type": "display_data"
    }
   ],
   "source": [
    "ground_truth = spectral.imshow(classes = gt,figsize =(5,5))\n",
    "plt.title('Classification Map of GroundTruth')"
   ]
  },
  {
   "cell_type": "code",
   "execution_count": 14,
   "metadata": {},
   "outputs": [
    {
     "data": {
      "image/png": "[encoded data removed]",
      "text/plain": [
       "<Figure size 360x360 with 1 Axes>"
      ]
     },
     "metadata": {
      "needs_background": "light"
     },
     "output_type": "display_data"
    }
   ],
   "source": [
    "concat_rows =  np.concatenate((train_rows_sub, val_rows, test_rows))\n",
    "concat_cols = np.concatenate((train_cols_sub, val_cols, test_cols))\n",
    "concat_input = np.concatenate((train_input_sub, val_input, test_input))\n",
    "concat_y = np.concatenate((y_train_sub, y_val, y_test))\n",
    "pixel_indices = (concat_rows, concat_cols)\n",
    "\n",
    "partial_map = util.plot_partial_map(nn_model, gt, pixel_indices, concat_input,\n",
    "                            concat_y, int_to_vector_dict, plo=False)\n",
    "full_map = util.plot_full_map(nn_model, data_set, gt, int_to_vector_dict, patch_size, plo=False)\n",
    "\n",
    "predicted_image=spectral.imshow(classes=partial_map.astype(int),figsize =(5,5),cmap= 'jet')\n",
    "plt.title('Prediction Classification Map by MLP ')\n",
    "plt.show()"
   ]
  },
  {
   "cell_type": "code",
   "execution_count": 15,
   "metadata": {},
   "outputs": [],
   "source": [
    "from tqdm import tqdm\n",
    "import pandas as pd\n",
    "def extract_pixels(dataset, ground_truth):\n",
    "    df = pd.DataFrame()\n",
    "    for i in tqdm(range(dataset.shape[2])):\n",
    "        df = pd.concat([df, pd.DataFrame(dataset[:, :, i].ravel())], axis=1)\n",
    "    df = pd.concat([df, pd.DataFrame(ground_truth.ravel())], axis=1)\n",
    "    df.columns = [f'band-{i}' for i in range(1, 1+dataset.shape[2])]+['class']\n",
    "    return df"
   ]
  },
  {
   "cell_type": "code",
   "execution_count": 16,
   "metadata": {},
   "outputs": [
    {
     "name": "stderr",
     "output_type": "stream",
     "text": [
      "100%|██████████████████████████████████████████████████████████████████████████████████| 75/75 [00:09<00:00,  7.93it/s]\n"
     ]
    }
   ],
   "source": [
    "df = extract_pixels(data_set, gt)"
   ]
  },
  {
   "cell_type": "code",
   "execution_count": 17,
   "metadata": {},
   "outputs": [],
   "source": [
    "df.to_csv('data_set.csv', index=False)"
   ]
  },
  {
   "cell_type": "code",
   "execution_count": 18,
   "metadata": {},
   "outputs": [],
   "source": [
    "df = pd.read_csv('data_set.csv')"
   ]
  },
  {
   "cell_type": "code",
   "execution_count": 19,
   "metadata": {},
   "outputs": [
    {
     "data": {
      "text/html": [
       "<div>\n",
       "<style scoped>\n",
       "    .dataframe tbody tr th:only-of-type {\n",
       "        vertical-align: middle;\n",
       "    }\n",
       "\n",
       "    .dataframe tbody tr th {\n",
       "        vertical-align: top;\n",
       "    }\n",
       "\n",
       "    .dataframe thead th {\n",
       "        text-align: right;\n",
       "    }\n",
       "</style>\n",
       "<table border=\"1\" class=\"dataframe\">\n",
       "  <thead>\n",
       "    <tr style=\"text-align: right;\">\n",
       "      <th></th>\n",
       "      <th>band-1</th>\n",
       "      <th>band-2</th>\n",
       "      <th>band-3</th>\n",
       "      <th>band-4</th>\n",
       "      <th>band-5</th>\n",
       "      <th>band-6</th>\n",
       "      <th>band-7</th>\n",
       "      <th>band-8</th>\n",
       "      <th>band-9</th>\n",
       "      <th>band-10</th>\n",
       "      <th>...</th>\n",
       "      <th>band-67</th>\n",
       "      <th>band-68</th>\n",
       "      <th>band-69</th>\n",
       "      <th>band-70</th>\n",
       "      <th>band-71</th>\n",
       "      <th>band-72</th>\n",
       "      <th>band-73</th>\n",
       "      <th>band-74</th>\n",
       "      <th>band-75</th>\n",
       "      <th>class</th>\n",
       "    </tr>\n",
       "  </thead>\n",
       "  <tbody>\n",
       "    <tr>\n",
       "      <th>0</th>\n",
       "      <td>-5150.190044</td>\n",
       "      <td>6795.052770</td>\n",
       "      <td>1532.351461</td>\n",
       "      <td>410.030134</td>\n",
       "      <td>-259.856157</td>\n",
       "      <td>-832.898970</td>\n",
       "      <td>293.239776</td>\n",
       "      <td>278.385213</td>\n",
       "      <td>-285.609914</td>\n",
       "      <td>251.208844</td>\n",
       "      <td>...</td>\n",
       "      <td>-3.922149</td>\n",
       "      <td>-7.570744</td>\n",
       "      <td>-6.188630</td>\n",
       "      <td>6.013479</td>\n",
       "      <td>-3.320831</td>\n",
       "      <td>-1.612457</td>\n",
       "      <td>-0.768773</td>\n",
       "      <td>-7.756281</td>\n",
       "      <td>3.163554</td>\n",
       "      <td>0</td>\n",
       "    </tr>\n",
       "    <tr>\n",
       "      <th>1</th>\n",
       "      <td>-6082.245760</td>\n",
       "      <td>3158.592195</td>\n",
       "      <td>1463.194744</td>\n",
       "      <td>154.617093</td>\n",
       "      <td>-438.871878</td>\n",
       "      <td>-496.202149</td>\n",
       "      <td>362.925839</td>\n",
       "      <td>187.355434</td>\n",
       "      <td>-287.796733</td>\n",
       "      <td>180.614526</td>\n",
       "      <td>...</td>\n",
       "      <td>-4.639557</td>\n",
       "      <td>-19.205404</td>\n",
       "      <td>-3.765219</td>\n",
       "      <td>-5.967894</td>\n",
       "      <td>-1.335124</td>\n",
       "      <td>5.409274</td>\n",
       "      <td>-0.961697</td>\n",
       "      <td>6.744788</td>\n",
       "      <td>3.962571</td>\n",
       "      <td>0</td>\n",
       "    </tr>\n",
       "    <tr>\n",
       "      <th>2</th>\n",
       "      <td>-7214.505405</td>\n",
       "      <td>1158.875812</td>\n",
       "      <td>1400.817899</td>\n",
       "      <td>410.044063</td>\n",
       "      <td>38.052916</td>\n",
       "      <td>-560.804196</td>\n",
       "      <td>-140.004203</td>\n",
       "      <td>8.847608</td>\n",
       "      <td>-211.057195</td>\n",
       "      <td>14.139042</td>\n",
       "      <td>...</td>\n",
       "      <td>10.598359</td>\n",
       "      <td>0.214651</td>\n",
       "      <td>2.392519</td>\n",
       "      <td>-11.182375</td>\n",
       "      <td>1.209667</td>\n",
       "      <td>2.211739</td>\n",
       "      <td>2.382483</td>\n",
       "      <td>11.371825</td>\n",
       "      <td>-7.459643</td>\n",
       "      <td>0</td>\n",
       "    </tr>\n",
       "    <tr>\n",
       "      <th>3</th>\n",
       "      <td>-6566.279360</td>\n",
       "      <td>3398.894763</td>\n",
       "      <td>1126.024772</td>\n",
       "      <td>496.775042</td>\n",
       "      <td>-302.415250</td>\n",
       "      <td>-409.493899</td>\n",
       "      <td>218.391586</td>\n",
       "      <td>-2.957277</td>\n",
       "      <td>-223.380076</td>\n",
       "      <td>188.819722</td>\n",
       "      <td>...</td>\n",
       "      <td>-14.212208</td>\n",
       "      <td>0.235794</td>\n",
       "      <td>-12.080695</td>\n",
       "      <td>1.818343</td>\n",
       "      <td>-11.526370</td>\n",
       "      <td>3.629478</td>\n",
       "      <td>6.046255</td>\n",
       "      <td>3.711914</td>\n",
       "      <td>8.199024</td>\n",
       "      <td>0</td>\n",
       "    </tr>\n",
       "    <tr>\n",
       "      <th>4</th>\n",
       "      <td>-6496.967970</td>\n",
       "      <td>2154.797771</td>\n",
       "      <td>1035.954575</td>\n",
       "      <td>27.247705</td>\n",
       "      <td>-194.891403</td>\n",
       "      <td>-189.044607</td>\n",
       "      <td>-71.142484</td>\n",
       "      <td>-97.987804</td>\n",
       "      <td>-126.456170</td>\n",
       "      <td>215.182030</td>\n",
       "      <td>...</td>\n",
       "      <td>0.738595</td>\n",
       "      <td>-1.802633</td>\n",
       "      <td>-6.021863</td>\n",
       "      <td>5.412263</td>\n",
       "      <td>-1.616741</td>\n",
       "      <td>4.083012</td>\n",
       "      <td>2.597510</td>\n",
       "      <td>-1.968348</td>\n",
       "      <td>-3.273925</td>\n",
       "      <td>0</td>\n",
       "    </tr>\n",
       "  </tbody>\n",
       "</table>\n",
       "<p>5 rows × 76 columns</p>\n",
       "</div>"
      ],
      "text/plain": [
       "        band-1       band-2       band-3      band-4      band-5      band-6  \\\n",
       "0 -5150.190044  6795.052770  1532.351461  410.030134 -259.856157 -832.898970   \n",
       "1 -6082.245760  3158.592195  1463.194744  154.617093 -438.871878 -496.202149   \n",
       "2 -7214.505405  1158.875812  1400.817899  410.044063   38.052916 -560.804196   \n",
       "3 -6566.279360  3398.894763  1126.024772  496.775042 -302.415250 -409.493899   \n",
       "4 -6496.967970  2154.797771  1035.954575   27.247705 -194.891403 -189.044607   \n",
       "\n",
       "       band-7      band-8      band-9     band-10  ...    band-67    band-68  \\\n",
       "0  293.239776  278.385213 -285.609914  251.208844  ...  -3.922149  -7.570744   \n",
       "1  362.925839  187.355434 -287.796733  180.614526  ...  -4.639557 -19.205404   \n",
       "2 -140.004203    8.847608 -211.057195   14.139042  ...  10.598359   0.214651   \n",
       "3  218.391586   -2.957277 -223.380076  188.819722  ... -14.212208   0.235794   \n",
       "4  -71.142484  -97.987804 -126.456170  215.182030  ...   0.738595  -1.802633   \n",
       "\n",
       "     band-69    band-70    band-71   band-72   band-73    band-74   band-75  \\\n",
       "0  -6.188630   6.013479  -3.320831 -1.612457 -0.768773  -7.756281  3.163554   \n",
       "1  -3.765219  -5.967894  -1.335124  5.409274 -0.961697   6.744788  3.962571   \n",
       "2   2.392519 -11.182375   1.209667  2.211739  2.382483  11.371825 -7.459643   \n",
       "3 -12.080695   1.818343 -11.526370  3.629478  6.046255   3.711914  8.199024   \n",
       "4  -6.021863   5.412263  -1.616741  4.083012  2.597510  -1.968348 -3.273925   \n",
       "\n",
       "   class  \n",
       "0      0  \n",
       "1      0  \n",
       "2      0  \n",
       "3      0  \n",
       "4      0  \n",
       "\n",
       "[5 rows x 76 columns]"
      ]
     },
     "execution_count": 19,
     "metadata": {},
     "output_type": "execute_result"
    }
   ],
   "source": [
    "df.head()"
   ]
  },
  {
   "cell_type": "code",
   "execution_count": 20,
   "metadata": {},
   "outputs": [
    {
     "data": {
      "text/html": [
       "<div>\n",
       "<style scoped>\n",
       "    .dataframe tbody tr th:only-of-type {\n",
       "        vertical-align: middle;\n",
       "    }\n",
       "\n",
       "    .dataframe tbody tr th {\n",
       "        vertical-align: top;\n",
       "    }\n",
       "\n",
       "    .dataframe thead th {\n",
       "        text-align: right;\n",
       "    }\n",
       "</style>\n",
       "<table border=\"1\" class=\"dataframe\">\n",
       "  <thead>\n",
       "    <tr style=\"text-align: right;\">\n",
       "      <th></th>\n",
       "      <th>band-1</th>\n",
       "      <th>band-2</th>\n",
       "      <th>band-3</th>\n",
       "      <th>band-4</th>\n",
       "      <th>band-5</th>\n",
       "      <th>band-6</th>\n",
       "      <th>band-7</th>\n",
       "      <th>band-8</th>\n",
       "      <th>band-9</th>\n",
       "      <th>band-10</th>\n",
       "      <th>...</th>\n",
       "      <th>band-67</th>\n",
       "      <th>band-68</th>\n",
       "      <th>band-69</th>\n",
       "      <th>band-70</th>\n",
       "      <th>band-71</th>\n",
       "      <th>band-72</th>\n",
       "      <th>band-73</th>\n",
       "      <th>band-74</th>\n",
       "      <th>band-75</th>\n",
       "      <th>class</th>\n",
       "    </tr>\n",
       "  </thead>\n",
       "  <tbody>\n",
       "    <tr>\n",
       "      <th>207395</th>\n",
       "      <td>-4315.315283</td>\n",
       "      <td>208.879103</td>\n",
       "      <td>-37.600057</td>\n",
       "      <td>-15.785801</td>\n",
       "      <td>116.620060</td>\n",
       "      <td>94.731463</td>\n",
       "      <td>-24.377063</td>\n",
       "      <td>-56.796093</td>\n",
       "      <td>-24.726144</td>\n",
       "      <td>-120.221992</td>\n",
       "      <td>...</td>\n",
       "      <td>10.164137</td>\n",
       "      <td>6.465964</td>\n",
       "      <td>-6.717853</td>\n",
       "      <td>-16.878652</td>\n",
       "      <td>2.775805</td>\n",
       "      <td>-12.394278</td>\n",
       "      <td>4.678853</td>\n",
       "      <td>1.932749</td>\n",
       "      <td>-4.897677</td>\n",
       "      <td>0</td>\n",
       "    </tr>\n",
       "    <tr>\n",
       "      <th>207396</th>\n",
       "      <td>-4012.494488</td>\n",
       "      <td>685.248307</td>\n",
       "      <td>199.328731</td>\n",
       "      <td>55.691615</td>\n",
       "      <td>137.768056</td>\n",
       "      <td>98.122063</td>\n",
       "      <td>-20.840423</td>\n",
       "      <td>-305.353258</td>\n",
       "      <td>-69.463159</td>\n",
       "      <td>-224.923459</td>\n",
       "      <td>...</td>\n",
       "      <td>-12.019290</td>\n",
       "      <td>10.577555</td>\n",
       "      <td>-3.089345</td>\n",
       "      <td>1.982679</td>\n",
       "      <td>-3.306720</td>\n",
       "      <td>3.370099</td>\n",
       "      <td>2.608547</td>\n",
       "      <td>0.554215</td>\n",
       "      <td>-4.996003</td>\n",
       "      <td>0</td>\n",
       "    </tr>\n",
       "    <tr>\n",
       "      <th>207397</th>\n",
       "      <td>-3975.035084</td>\n",
       "      <td>1643.062559</td>\n",
       "      <td>253.132178</td>\n",
       "      <td>-287.686124</td>\n",
       "      <td>114.539234</td>\n",
       "      <td>212.257349</td>\n",
       "      <td>-7.753115</td>\n",
       "      <td>-106.171030</td>\n",
       "      <td>80.450729</td>\n",
       "      <td>-58.222229</td>\n",
       "      <td>...</td>\n",
       "      <td>-1.091461</td>\n",
       "      <td>3.907875</td>\n",
       "      <td>13.017766</td>\n",
       "      <td>4.570088</td>\n",
       "      <td>-2.395375</td>\n",
       "      <td>4.178624</td>\n",
       "      <td>3.372269</td>\n",
       "      <td>15.102545</td>\n",
       "      <td>-3.280732</td>\n",
       "      <td>0</td>\n",
       "    </tr>\n",
       "    <tr>\n",
       "      <th>207398</th>\n",
       "      <td>-4042.639452</td>\n",
       "      <td>1231.520377</td>\n",
       "      <td>499.960314</td>\n",
       "      <td>-126.281001</td>\n",
       "      <td>-153.053615</td>\n",
       "      <td>288.243257</td>\n",
       "      <td>-33.275723</td>\n",
       "      <td>-206.172221</td>\n",
       "      <td>22.918281</td>\n",
       "      <td>-174.921876</td>\n",
       "      <td>...</td>\n",
       "      <td>-14.895738</td>\n",
       "      <td>1.240332</td>\n",
       "      <td>-6.189896</td>\n",
       "      <td>2.995576</td>\n",
       "      <td>-1.768789</td>\n",
       "      <td>1.897357</td>\n",
       "      <td>11.270772</td>\n",
       "      <td>-0.271285</td>\n",
       "      <td>5.851728</td>\n",
       "      <td>0</td>\n",
       "    </tr>\n",
       "    <tr>\n",
       "      <th>207399</th>\n",
       "      <td>-4086.615756</td>\n",
       "      <td>2180.667628</td>\n",
       "      <td>454.933275</td>\n",
       "      <td>-44.397947</td>\n",
       "      <td>-174.822084</td>\n",
       "      <td>262.134519</td>\n",
       "      <td>-194.121328</td>\n",
       "      <td>92.641721</td>\n",
       "      <td>90.094392</td>\n",
       "      <td>-88.414057</td>\n",
       "      <td>...</td>\n",
       "      <td>22.694297</td>\n",
       "      <td>-3.097800</td>\n",
       "      <td>10.701889</td>\n",
       "      <td>-0.432715</td>\n",
       "      <td>2.223701</td>\n",
       "      <td>4.617140</td>\n",
       "      <td>-7.565883</td>\n",
       "      <td>-1.983551</td>\n",
       "      <td>-11.443359</td>\n",
       "      <td>0</td>\n",
       "    </tr>\n",
       "  </tbody>\n",
       "</table>\n",
       "<p>5 rows × 76 columns</p>\n",
       "</div>"
      ],
      "text/plain": [
       "             band-1       band-2      band-3      band-4      band-5  \\\n",
       "207395 -4315.315283   208.879103  -37.600057  -15.785801  116.620060   \n",
       "207396 -4012.494488   685.248307  199.328731   55.691615  137.768056   \n",
       "207397 -3975.035084  1643.062559  253.132178 -287.686124  114.539234   \n",
       "207398 -4042.639452  1231.520377  499.960314 -126.281001 -153.053615   \n",
       "207399 -4086.615756  2180.667628  454.933275  -44.397947 -174.822084   \n",
       "\n",
       "            band-6      band-7      band-8     band-9     band-10  ...  \\\n",
       "207395   94.731463  -24.377063  -56.796093 -24.726144 -120.221992  ...   \n",
       "207396   98.122063  -20.840423 -305.353258 -69.463159 -224.923459  ...   \n",
       "207397  212.257349   -7.753115 -106.171030  80.450729  -58.222229  ...   \n",
       "207398  288.243257  -33.275723 -206.172221  22.918281 -174.921876  ...   \n",
       "207399  262.134519 -194.121328   92.641721  90.094392  -88.414057  ...   \n",
       "\n",
       "          band-67    band-68    band-69    band-70   band-71    band-72  \\\n",
       "207395  10.164137   6.465964  -6.717853 -16.878652  2.775805 -12.394278   \n",
       "207396 -12.019290  10.577555  -3.089345   1.982679 -3.306720   3.370099   \n",
       "207397  -1.091461   3.907875  13.017766   4.570088 -2.395375   4.178624   \n",
       "207398 -14.895738   1.240332  -6.189896   2.995576 -1.768789   1.897357   \n",
       "207399  22.694297  -3.097800  10.701889  -0.432715  2.223701   4.617140   \n",
       "\n",
       "          band-73    band-74    band-75  class  \n",
       "207395   4.678853   1.932749  -4.897677      0  \n",
       "207396   2.608547   0.554215  -4.996003      0  \n",
       "207397   3.372269  15.102545  -3.280732      0  \n",
       "207398  11.270772  -0.271285   5.851728      0  \n",
       "207399  -7.565883  -1.983551 -11.443359      0  \n",
       "\n",
       "[5 rows x 76 columns]"
      ]
     },
     "execution_count": 20,
     "metadata": {},
     "output_type": "execute_result"
    }
   ],
   "source": [
    "df.tail()"
   ]
  },
  {
   "cell_type": "code",
   "execution_count": 21,
   "metadata": {},
   "outputs": [
    {
     "data": {
      "text/plain": [
       "band-1     207400\n",
       "band-2     207400\n",
       "band-3     207400\n",
       "band-4     207400\n",
       "band-5     207400\n",
       "            ...  \n",
       "band-72    207400\n",
       "band-73    207400\n",
       "band-74    207400\n",
       "band-75    207400\n",
       "class      207400\n",
       "Length: 76, dtype: int64"
      ]
     },
     "execution_count": 21,
     "metadata": {},
     "output_type": "execute_result"
    }
   ],
   "source": [
    "df.count()"
   ]
  },
  {
   "cell_type": "code",
   "execution_count": 22,
   "metadata": {},
   "outputs": [],
   "source": [
    "Dataset = df.iloc[:, :-1].values\n",
    "\n",
    "groundTruth = df.iloc[:, -1].values"
   ]
  },
  {
   "cell_type": "code",
   "execution_count": 23,
   "metadata": {},
   "outputs": [
    {
     "data": {
      "text/plain": [
       "((207400, 75), (207400,))"
      ]
     },
     "execution_count": 23,
     "metadata": {},
     "output_type": "execute_result"
    }
   ],
   "source": [
    "Dataset.shape, groundTruth.shape"
   ]
  },
  {
   "cell_type": "code",
   "execution_count": 24,
   "metadata": {},
   "outputs": [],
   "source": [
    "def plot_signature(df):\n",
    "    plt.figure(figsize=(12, 6))\n",
    "    pixel_no = np.random.randint(df.shape[0])\n",
    "    plt.plot(range(1, 76), df.iloc[pixel_no, :-1].values.tolist(), 'b--', label= f'Class - {df.iloc[pixel_no, -1]}')\n",
    "    plt.legend()\n",
    "    plt.title(f'Pixel({pixel_no}) signature', fontsize=14)\n",
    "    plt.xlabel('Band Number', fontsize=14)\n",
    "    plt.ylabel('Pixel Intensity', fontsize=14)\n",
    "    plt.show()"
   ]
  },
  {
   "cell_type": "code",
   "execution_count": 25,
   "metadata": {},
   "outputs": [
    {
     "data": {
      "image/png": "[encoded data removed]",
      "text/plain": [
       "<Figure size 864x432 with 1 Axes>"
      ]
     },
     "metadata": {
      "needs_background": "light"
     },
     "output_type": "display_data"
    }
   ],
   "source": [
    "plot_signature(df)"
   ]
  },
  {
   "cell_type": "code",
   "execution_count": 26,
   "metadata": {},
   "outputs": [
    {
     "name": "stdout",
     "output_type": "stream",
     "text": [
      "Unique Class Labels: [0 1 4 2 8 5 9 6 3 7]\n"
     ]
    }
   ],
   "source": [
    "print(f\"Unique Class Labels: {df.loc[:, 'class'].unique()}\")"
   ]
  },
  {
   "cell_type": "code",
   "execution_count": 27,
   "metadata": {},
   "outputs": [
    {
     "data": {
      "text/plain": [
       "0    164624\n",
       "2     18649\n",
       "1      6631\n",
       "6      5029\n",
       "8      3682\n",
       "4      3064\n",
       "3      2099\n",
       "5      1345\n",
       "7      1330\n",
       "9       947\n",
       "Name: class, dtype: int64"
      ]
     },
     "execution_count": 27,
     "metadata": {},
     "output_type": "execute_result"
    }
   ],
   "source": [
    "df.loc[:, 'class'].value_counts()"
   ]
  },
  {
   "cell_type": "code",
   "execution_count": 28,
   "metadata": {},
   "outputs": [
    {
     "data": {
      "text/html": [
       "<div>\n",
       "<style scoped>\n",
       "    .dataframe tbody tr th:only-of-type {\n",
       "        vertical-align: middle;\n",
       "    }\n",
       "\n",
       "    .dataframe tbody tr th {\n",
       "        vertical-align: top;\n",
       "    }\n",
       "\n",
       "    .dataframe thead th {\n",
       "        text-align: right;\n",
       "    }\n",
       "</style>\n",
       "<table border=\"1\" class=\"dataframe\">\n",
       "  <thead>\n",
       "    <tr style=\"text-align: right;\">\n",
       "      <th></th>\n",
       "      <th>band-1</th>\n",
       "      <th>band-2</th>\n",
       "      <th>band-3</th>\n",
       "      <th>band-4</th>\n",
       "      <th>band-5</th>\n",
       "      <th>band-6</th>\n",
       "      <th>band-7</th>\n",
       "      <th>band-8</th>\n",
       "      <th>band-9</th>\n",
       "      <th>band-10</th>\n",
       "      <th>...</th>\n",
       "      <th>band-67</th>\n",
       "      <th>band-68</th>\n",
       "      <th>band-69</th>\n",
       "      <th>band-70</th>\n",
       "      <th>band-71</th>\n",
       "      <th>band-72</th>\n",
       "      <th>band-73</th>\n",
       "      <th>band-74</th>\n",
       "      <th>band-75</th>\n",
       "      <th>class</th>\n",
       "    </tr>\n",
       "  </thead>\n",
       "  <tbody>\n",
       "    <tr>\n",
       "      <th>51815</th>\n",
       "      <td>-8077.422308</td>\n",
       "      <td>-7908.034522</td>\n",
       "      <td>1478.225578</td>\n",
       "      <td>98.769441</td>\n",
       "      <td>-72.294826</td>\n",
       "      <td>36.277772</td>\n",
       "      <td>123.149317</td>\n",
       "      <td>-116.653589</td>\n",
       "      <td>-34.335056</td>\n",
       "      <td>-108.623483</td>\n",
       "      <td>...</td>\n",
       "      <td>0.831321</td>\n",
       "      <td>-3.706153</td>\n",
       "      <td>2.037348</td>\n",
       "      <td>-16.432018</td>\n",
       "      <td>1.807452</td>\n",
       "      <td>7.257595</td>\n",
       "      <td>5.277928</td>\n",
       "      <td>-4.249727</td>\n",
       "      <td>8.264665</td>\n",
       "      <td>9</td>\n",
       "    </tr>\n",
       "    <tr>\n",
       "      <th>51816</th>\n",
       "      <td>-8712.236992</td>\n",
       "      <td>-7353.096882</td>\n",
       "      <td>957.253416</td>\n",
       "      <td>-55.622575</td>\n",
       "      <td>-11.999892</td>\n",
       "      <td>-73.770255</td>\n",
       "      <td>13.705591</td>\n",
       "      <td>-92.570190</td>\n",
       "      <td>14.116840</td>\n",
       "      <td>123.318958</td>\n",
       "      <td>...</td>\n",
       "      <td>0.898283</td>\n",
       "      <td>-5.121513</td>\n",
       "      <td>-9.662648</td>\n",
       "      <td>3.248542</td>\n",
       "      <td>7.450821</td>\n",
       "      <td>0.167015</td>\n",
       "      <td>2.555103</td>\n",
       "      <td>-4.076542</td>\n",
       "      <td>1.755983</td>\n",
       "      <td>9</td>\n",
       "    </tr>\n",
       "    <tr>\n",
       "      <th>52154</th>\n",
       "      <td>-8808.581272</td>\n",
       "      <td>-7440.865776</td>\n",
       "      <td>944.953789</td>\n",
       "      <td>-3.978076</td>\n",
       "      <td>-69.846219</td>\n",
       "      <td>23.500875</td>\n",
       "      <td>-273.636846</td>\n",
       "      <td>263.862181</td>\n",
       "      <td>10.852788</td>\n",
       "      <td>-63.824943</td>\n",
       "      <td>...</td>\n",
       "      <td>2.555849</td>\n",
       "      <td>3.570028</td>\n",
       "      <td>-11.519785</td>\n",
       "      <td>4.710857</td>\n",
       "      <td>-0.095867</td>\n",
       "      <td>-4.318579</td>\n",
       "      <td>4.885472</td>\n",
       "      <td>-4.488190</td>\n",
       "      <td>0.862016</td>\n",
       "      <td>9</td>\n",
       "    </tr>\n",
       "    <tr>\n",
       "      <th>52155</th>\n",
       "      <td>-9008.592603</td>\n",
       "      <td>-6949.306207</td>\n",
       "      <td>832.648512</td>\n",
       "      <td>-184.118040</td>\n",
       "      <td>2.451413</td>\n",
       "      <td>-105.582147</td>\n",
       "      <td>56.162772</td>\n",
       "      <td>143.949858</td>\n",
       "      <td>128.794983</td>\n",
       "      <td>212.966845</td>\n",
       "      <td>...</td>\n",
       "      <td>-0.282223</td>\n",
       "      <td>1.848762</td>\n",
       "      <td>-9.062093</td>\n",
       "      <td>15.626785</td>\n",
       "      <td>-1.983284</td>\n",
       "      <td>-4.074917</td>\n",
       "      <td>1.198513</td>\n",
       "      <td>-3.740579</td>\n",
       "      <td>10.012979</td>\n",
       "      <td>9</td>\n",
       "    </tr>\n",
       "    <tr>\n",
       "      <th>52156</th>\n",
       "      <td>-8998.701651</td>\n",
       "      <td>-6535.683856</td>\n",
       "      <td>834.329378</td>\n",
       "      <td>-257.944627</td>\n",
       "      <td>57.304740</td>\n",
       "      <td>-81.222942</td>\n",
       "      <td>300.172116</td>\n",
       "      <td>9.131556</td>\n",
       "      <td>116.422073</td>\n",
       "      <td>172.784939</td>\n",
       "      <td>...</td>\n",
       "      <td>0.866295</td>\n",
       "      <td>3.513457</td>\n",
       "      <td>-1.577772</td>\n",
       "      <td>6.175230</td>\n",
       "      <td>7.559542</td>\n",
       "      <td>3.688827</td>\n",
       "      <td>-10.914354</td>\n",
       "      <td>-3.155249</td>\n",
       "      <td>-1.727160</td>\n",
       "      <td>9</td>\n",
       "    </tr>\n",
       "    <tr>\n",
       "      <th>...</th>\n",
       "      <td>...</td>\n",
       "      <td>...</td>\n",
       "      <td>...</td>\n",
       "      <td>...</td>\n",
       "      <td>...</td>\n",
       "      <td>...</td>\n",
       "      <td>...</td>\n",
       "      <td>...</td>\n",
       "      <td>...</td>\n",
       "      <td>...</td>\n",
       "      <td>...</td>\n",
       "      <td>...</td>\n",
       "      <td>...</td>\n",
       "      <td>...</td>\n",
       "      <td>...</td>\n",
       "      <td>...</td>\n",
       "      <td>...</td>\n",
       "      <td>...</td>\n",
       "      <td>...</td>\n",
       "      <td>...</td>\n",
       "      <td>...</td>\n",
       "    </tr>\n",
       "    <tr>\n",
       "      <th>168040</th>\n",
       "      <td>-8829.804680</td>\n",
       "      <td>-8042.965937</td>\n",
       "      <td>718.996940</td>\n",
       "      <td>36.130748</td>\n",
       "      <td>-209.392802</td>\n",
       "      <td>-34.308674</td>\n",
       "      <td>43.921449</td>\n",
       "      <td>69.241000</td>\n",
       "      <td>12.630584</td>\n",
       "      <td>41.168776</td>\n",
       "      <td>...</td>\n",
       "      <td>12.803147</td>\n",
       "      <td>-3.947057</td>\n",
       "      <td>-14.047976</td>\n",
       "      <td>-0.940868</td>\n",
       "      <td>0.862541</td>\n",
       "      <td>-7.026580</td>\n",
       "      <td>-8.085293</td>\n",
       "      <td>-5.396196</td>\n",
       "      <td>9.170066</td>\n",
       "      <td>9</td>\n",
       "    </tr>\n",
       "    <tr>\n",
       "      <th>168377</th>\n",
       "      <td>-8796.215680</td>\n",
       "      <td>-8039.640688</td>\n",
       "      <td>937.555118</td>\n",
       "      <td>201.177707</td>\n",
       "      <td>-411.290246</td>\n",
       "      <td>18.795061</td>\n",
       "      <td>-78.169493</td>\n",
       "      <td>35.555916</td>\n",
       "      <td>43.595954</td>\n",
       "      <td>53.038210</td>\n",
       "      <td>...</td>\n",
       "      <td>-5.480284</td>\n",
       "      <td>-3.920406</td>\n",
       "      <td>2.444366</td>\n",
       "      <td>3.211648</td>\n",
       "      <td>-6.035865</td>\n",
       "      <td>-0.665906</td>\n",
       "      <td>-2.117051</td>\n",
       "      <td>5.942947</td>\n",
       "      <td>-4.319991</td>\n",
       "      <td>9</td>\n",
       "    </tr>\n",
       "    <tr>\n",
       "      <th>168378</th>\n",
       "      <td>-8677.150864</td>\n",
       "      <td>-7977.386206</td>\n",
       "      <td>845.132252</td>\n",
       "      <td>90.927523</td>\n",
       "      <td>-225.308832</td>\n",
       "      <td>-42.180991</td>\n",
       "      <td>42.092428</td>\n",
       "      <td>-29.364385</td>\n",
       "      <td>-48.563233</td>\n",
       "      <td>-81.777241</td>\n",
       "      <td>...</td>\n",
       "      <td>-8.471517</td>\n",
       "      <td>-5.401509</td>\n",
       "      <td>-4.493402</td>\n",
       "      <td>-17.917556</td>\n",
       "      <td>8.709823</td>\n",
       "      <td>1.667175</td>\n",
       "      <td>8.748279</td>\n",
       "      <td>12.513196</td>\n",
       "      <td>-3.068691</td>\n",
       "      <td>9</td>\n",
       "    </tr>\n",
       "    <tr>\n",
       "      <th>168379</th>\n",
       "      <td>-8507.517901</td>\n",
       "      <td>-7940.718865</td>\n",
       "      <td>786.487817</td>\n",
       "      <td>-16.214573</td>\n",
       "      <td>-141.411617</td>\n",
       "      <td>-82.440010</td>\n",
       "      <td>138.435594</td>\n",
       "      <td>-133.471954</td>\n",
       "      <td>14.915186</td>\n",
       "      <td>74.032071</td>\n",
       "      <td>...</td>\n",
       "      <td>6.332751</td>\n",
       "      <td>-10.445535</td>\n",
       "      <td>-13.194698</td>\n",
       "      <td>-9.891677</td>\n",
       "      <td>-3.506194</td>\n",
       "      <td>8.198468</td>\n",
       "      <td>1.311530</td>\n",
       "      <td>-1.416460</td>\n",
       "      <td>2.040622</td>\n",
       "      <td>9</td>\n",
       "    </tr>\n",
       "    <tr>\n",
       "      <th>168717</th>\n",
       "      <td>-8068.980610</td>\n",
       "      <td>-8037.488247</td>\n",
       "      <td>1108.043382</td>\n",
       "      <td>330.284198</td>\n",
       "      <td>-448.773740</td>\n",
       "      <td>1.172914</td>\n",
       "      <td>-170.587800</td>\n",
       "      <td>-45.659507</td>\n",
       "      <td>31.645874</td>\n",
       "      <td>59.061262</td>\n",
       "      <td>...</td>\n",
       "      <td>-5.380611</td>\n",
       "      <td>3.322656</td>\n",
       "      <td>3.333898</td>\n",
       "      <td>0.233100</td>\n",
       "      <td>2.602898</td>\n",
       "      <td>0.062329</td>\n",
       "      <td>-3.628488</td>\n",
       "      <td>1.689392</td>\n",
       "      <td>-2.329182</td>\n",
       "      <td>9</td>\n",
       "    </tr>\n",
       "  </tbody>\n",
       "</table>\n",
       "<p>947 rows × 76 columns</p>\n",
       "</div>"
      ],
      "text/plain": [
       "             band-1       band-2       band-3      band-4      band-5  \\\n",
       "51815  -8077.422308 -7908.034522  1478.225578   98.769441  -72.294826   \n",
       "51816  -8712.236992 -7353.096882   957.253416  -55.622575  -11.999892   \n",
       "52154  -8808.581272 -7440.865776   944.953789   -3.978076  -69.846219   \n",
       "52155  -9008.592603 -6949.306207   832.648512 -184.118040    2.451413   \n",
       "52156  -8998.701651 -6535.683856   834.329378 -257.944627   57.304740   \n",
       "...             ...          ...          ...         ...         ...   \n",
       "168040 -8829.804680 -8042.965937   718.996940   36.130748 -209.392802   \n",
       "168377 -8796.215680 -8039.640688   937.555118  201.177707 -411.290246   \n",
       "168378 -8677.150864 -7977.386206   845.132252   90.927523 -225.308832   \n",
       "168379 -8507.517901 -7940.718865   786.487817  -16.214573 -141.411617   \n",
       "168717 -8068.980610 -8037.488247  1108.043382  330.284198 -448.773740   \n",
       "\n",
       "            band-6      band-7      band-8      band-9     band-10  ...  \\\n",
       "51815    36.277772  123.149317 -116.653589  -34.335056 -108.623483  ...   \n",
       "51816   -73.770255   13.705591  -92.570190   14.116840  123.318958  ...   \n",
       "52154    23.500875 -273.636846  263.862181   10.852788  -63.824943  ...   \n",
       "52155  -105.582147   56.162772  143.949858  128.794983  212.966845  ...   \n",
       "52156   -81.222942  300.172116    9.131556  116.422073  172.784939  ...   \n",
       "...            ...         ...         ...         ...         ...  ...   \n",
       "168040  -34.308674   43.921449   69.241000   12.630584   41.168776  ...   \n",
       "168377   18.795061  -78.169493   35.555916   43.595954   53.038210  ...   \n",
       "168378  -42.180991   42.092428  -29.364385  -48.563233  -81.777241  ...   \n",
       "168379  -82.440010  138.435594 -133.471954   14.915186   74.032071  ...   \n",
       "168717    1.172914 -170.587800  -45.659507   31.645874   59.061262  ...   \n",
       "\n",
       "          band-67    band-68    band-69    band-70   band-71   band-72  \\\n",
       "51815    0.831321  -3.706153   2.037348 -16.432018  1.807452  7.257595   \n",
       "51816    0.898283  -5.121513  -9.662648   3.248542  7.450821  0.167015   \n",
       "52154    2.555849   3.570028 -11.519785   4.710857 -0.095867 -4.318579   \n",
       "52155   -0.282223   1.848762  -9.062093  15.626785 -1.983284 -4.074917   \n",
       "52156    0.866295   3.513457  -1.577772   6.175230  7.559542  3.688827   \n",
       "...           ...        ...        ...        ...       ...       ...   \n",
       "168040  12.803147  -3.947057 -14.047976  -0.940868  0.862541 -7.026580   \n",
       "168377  -5.480284  -3.920406   2.444366   3.211648 -6.035865 -0.665906   \n",
       "168378  -8.471517  -5.401509  -4.493402 -17.917556  8.709823  1.667175   \n",
       "168379   6.332751 -10.445535 -13.194698  -9.891677 -3.506194  8.198468   \n",
       "168717  -5.380611   3.322656   3.333898   0.233100  2.602898  0.062329   \n",
       "\n",
       "          band-73    band-74    band-75  class  \n",
       "51815    5.277928  -4.249727   8.264665      9  \n",
       "51816    2.555103  -4.076542   1.755983      9  \n",
       "52154    4.885472  -4.488190   0.862016      9  \n",
       "52155    1.198513  -3.740579  10.012979      9  \n",
       "52156  -10.914354  -3.155249  -1.727160      9  \n",
       "...           ...        ...        ...    ...  \n",
       "168040  -8.085293  -5.396196   9.170066      9  \n",
       "168377  -2.117051   5.942947  -4.319991      9  \n",
       "168378   8.748279  12.513196  -3.068691      9  \n",
       "168379   1.311530  -1.416460   2.040622      9  \n",
       "168717  -3.628488   1.689392  -2.329182      9  \n",
       "\n",
       "[947 rows x 76 columns]"
      ]
     },
     "execution_count": 28,
     "metadata": {},
     "output_type": "execute_result"
    }
   ],
   "source": [
    "df[df['class']== 9][0:2000]"
   ]
  },
  {
   "cell_type": "code",
   "execution_count": null,
   "metadata": {},
   "outputs": [],
   "source": []
  }
 ],
 "metadata": {
  "kernelspec": {
   "display_name": "Python 3",
   "language": "python",
   "name": "python3"
  },
  "language_info": {
   "codemirror_mode": {
    "name": "ipython",
    "version": 3
   },
   "file_extension": ".py",
   "mimetype": "text/x-python",
   "name": "python",
   "nbconvert_exporter": "python",
   "pygments_lexer": "ipython3",
   "version": "3.7.6"
  }
 },
 "nbformat": 4,
 "nbformat_minor": 2
}
